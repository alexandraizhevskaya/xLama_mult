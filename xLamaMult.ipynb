{
  "nbformat": 4,
  "nbformat_minor": 0,
  "metadata": {
    "colab": {
      "name": "xLamaMult.ipynb",
      "provenance": [],
      "authorship_tag": "ABX9TyOOIZvGI1312WpPSKygxdJ4",
      "include_colab_link": true
    },
    "kernelspec": {
      "name": "python3",
      "display_name": "Python 3"
    }
  },
  "cells": [
    {
      "cell_type": "markdown",
      "metadata": {
        "id": "view-in-github",
        "colab_type": "text"
      },
      "source": [
        "<a href=\"https://colab.research.google.com/github/alexandraizhevskaya/xLama_mult/blob/master/xLamaMult.ipynb\" target=\"_parent\"><img src=\"https://colab.research.google.com/assets/colab-badge.svg\" alt=\"Open In Colab\"/></a>"
      ]
    },
    {
      "cell_type": "code",
      "metadata": {
        "id": "iV6xIPxjghRa",
        "colab_type": "code",
        "colab": {
          "base_uri": "https://localhost:8080/",
          "height": 122
        },
        "outputId": "ac8e9d96-7bcb-4e93-c94a-2e8e55af2da0"
      },
      "source": [
        "! pip install jsonlines\n",
        "import json\n",
        "import jsonlines\n",
        "import re\n",
        "import numpy as np\n",
        "import pandas as pd"
      ],
      "execution_count": 1,
      "outputs": [
        {
          "output_type": "stream",
          "text": [
            "Collecting jsonlines\n",
            "  Downloading https://files.pythonhosted.org/packages/4f/9a/ab96291470e305504aa4b7a2e0ec132e930da89eb3ca7a82fbe03167c131/jsonlines-1.2.0-py2.py3-none-any.whl\n",
            "Requirement already satisfied: six in /usr/local/lib/python3.6/dist-packages (from jsonlines) (1.15.0)\n",
            "Installing collected packages: jsonlines\n",
            "Successfully installed jsonlines-1.2.0\n"
          ],
          "name": "stdout"
        }
      ]
    },
    {
      "cell_type": "markdown",
      "metadata": {
        "id": "nZt0bQrS8sJo",
        "colab_type": "text"
      },
      "source": [
        "# Данные"
      ]
    },
    {
      "cell_type": "code",
      "metadata": {
        "id": "IGh-PIYGwppR",
        "colab_type": "code",
        "colab": {}
      },
      "source": [
        "# ! wget https://dl.fbaipublicfiles.com/LAMA/data.zip\n",
        "# ! unzip data.zip\n",
        "! wget https://dl.fbaipublicfiles.com/MLQA/MLQA_V1.zip\n",
        "! unzip /content/MLQA_V1.zip\n",
        "\n",
        "! wget http://files.deeppavlov.ai/datasets/sber_squad-v1.1.tar.gz\n",
        "! tar xf /content/sber_squad-v1.1.tar.gz"
      ],
      "execution_count": null,
      "outputs": []
    },
    {
      "cell_type": "markdown",
      "metadata": {
        "id": "Gqd6GKtQVaVR",
        "colab_type": "text"
      },
      "source": [
        "Нужный формат"
      ]
    },
    {
      "cell_type": "code",
      "metadata": {
        "id": "o9k97y-xx4zL",
        "colab_type": "code",
        "colab": {
          "base_uri": "https://localhost:8080/",
          "height": 207
        },
        "outputId": "2f9d32a8-9dc7-4a51-f029-7e3d9475f7f9"
      },
      "source": [
        "num_examples = 10\n",
        "with open('/content/data/Squad/test.jsonl') as f:\n",
        "  for line in f.readlines()[:num_examples]:\n",
        "    lama = json.loads(line)\n",
        "    print(lama)"
      ],
      "execution_count": 7,
      "outputs": [
        {
          "output_type": "stream",
          "text": [
            "{'masked_sentences': ['To emphasize the 50th anniversary of the Super Bowl the [MASK] color was used.'], 'obj_label': 'gold', 'id': '56be4db0acb8001400a502f0_0', 'sub_label': 'Squad'}\n",
            "{'masked_sentences': ['Von Miller plays in [MASK] position for the Denver Broncos.'], 'obj_label': 'linebacker', 'id': '56bf17653aeaaa14008c9513_0', 'sub_label': 'Squad'}\n",
            "{'masked_sentences': ['The TGIF comedy Family Matters for the 1997-98 season was originally aired by [MASK].'], 'obj_label': 'CBS', 'id': '57273b69dd62a815002e99d8_0', 'sub_label': 'Squad'}\n",
            "{'masked_sentences': ['Thomas Davis broke his [MASK] during the NFC Championship Game.'], 'obj_label': 'arm', 'id': '56bf3a223aeaaa14008c9576_0', 'sub_label': 'Squad'}\n",
            "{'masked_sentences': ['The first choice in the NFL draft of 1998 was [MASK].'], 'obj_label': 'Manning', 'id': '56bf41013aeaaa14008c959b_0', 'sub_label': 'Squad'}\n",
            "{'masked_sentences': ['Newton played as [MASK] during Super Bowl 50.'], 'obj_label': 'quarterback', 'id': '56bf41013aeaaa14008c959e_0', 'sub_label': 'Squad'}\n",
            "{'masked_sentences': ['The Panthers head coach for the 2015 season was [MASK].'], 'obj_label': 'Rivera', 'id': '56d709ef0d65d21400198306_0', 'sub_label': 'Squad'}\n",
            "{'masked_sentences': ['Tucker plays as [MASK] with the Ravens.'], 'obj_label': 'kicker', 'id': '56bf467d3aeaaa14008c95a6_0', 'sub_label': 'Squad'}\n",
            "{'masked_sentences': ['The primary race of students attending Christian academies was [MASK].'], 'obj_label': 'white', 'id': '572757bef1498d1400e8f693_0', 'sub_label': 'Squad'}\n",
            "{'masked_sentences': ['The color of the jerseys in Super Bowl XXXII when Elway was quarterback was [MASK].'], 'obj_label': 'blue', 'id': '56d9a637dc89441400fdb698_0', 'sub_label': 'Squad'}\n"
          ],
          "name": "stdout"
        }
      ]
    },
    {
      "cell_type": "markdown",
      "metadata": {
        "id": "Z7fbyA5HVkls",
        "colab_type": "text"
      },
      "source": [
        "Отбор нужных предложений: берем только с одним токеном в ответе"
      ]
    },
    {
      "cell_type": "code",
      "metadata": {
        "id": "AcZzf2DcgXdr",
        "colab_type": "code",
        "colab": {}
      },
      "source": [
        "with open('/content/MLQA_V1/dev/dev-context-es-question-es.json') as f:\n",
        "  espanol = json.loads(f.read())\n",
        "\n",
        "with open('/content/MLQA_V1/test/test-context-es-question-es.json') as f:\n",
        "  espanol_test = json.loads(f.read())\n",
        "\n",
        "with open('/content/train-v1.1.json') as f:\n",
        "    rus = json.loads(f.read())\n",
        "\n",
        "with open('/content/dev-v1.1.json') as f:\n",
        "    rus_dev = json.loads(f.read())"
      ],
      "execution_count": 16,
      "outputs": []
    },
    {
      "cell_type": "markdown",
      "metadata": {
        "id": "Jj6pYJ3ozqFb",
        "colab_type": "text"
      },
      "source": [
        "Русский язык"
      ]
    },
    {
      "cell_type": "code",
      "metadata": {
        "id": "w9tStVxh_LUJ",
        "colab_type": "code",
        "colab": {
          "base_uri": "https://localhost:8080/",
          "height": 34
        },
        "outputId": "362b8c9a-963b-41d8-ddc7-d39d18ecede5"
      },
      "source": [
        "good_questions_rus = []\n",
        "for chunk in rus['data']:\n",
        "  for sent in chunk['paragraphs']:\n",
        "    if len(sent['qas'][0]['answers'][0]['text'].split(' ')) == 1:\n",
        "      good_questions_rus.append(sent)\n",
        "len(good_questions_rus)"
      ],
      "execution_count": 14,
      "outputs": [
        {
          "output_type": "execute_result",
          "data": {
            "text/plain": [
              "6906"
            ]
          },
          "metadata": {
            "tags": []
          },
          "execution_count": 14
        }
      ]
    },
    {
      "cell_type": "code",
      "metadata": {
        "id": "NOvnepkU_XVl",
        "colab_type": "code",
        "colab": {
          "base_uri": "https://localhost:8080/",
          "height": 697
        },
        "outputId": "4140ba0d-491c-47cc-8993-0075bf79b426"
      },
      "source": [
        "for chunk in good_questions_rus[:10]:\n",
        "    print(\"Question: {}\\nAnswer: {}\".format(chunk['qas'][0]['question'], chunk['qas'][0]['answers'][0]['text']))\n",
        "    print(chunk['qas'][0]['id'])\n",
        "    print()"
      ],
      "execution_count": 13,
      "outputs": [
        {
          "output_type": "stream",
          "text": [
            "Question: Какие свойства в общем способно изменять смарт-стекло?\n",
            "Answer: оптические\n",
            "34107\n",
            "\n",
            "Question: В каком году Грибоедов написал водевиль Кто брат, кто сестра, или Обман за обманом ?\n",
            "Answer: 1823\n",
            "47731\n",
            "\n",
            "Question: Кем подтверждаются права на дворянские титулы в Лихтенштейне?\n",
            "Answer: Князем\n",
            "59780\n",
            "\n",
            "Question: С каким счётом закончилась первая официальная игра между сборными Германии и Швейцарии 5 апреля 1908 года?\n",
            "Answer: 5:3\n",
            "15788\n",
            "\n",
            "Question: К какому году PDP-10 уже устарели?\n",
            "Answer: 1980\n",
            "16088\n",
            "\n",
            "Question: Как, в соответствии с произношением гласного в корне слова dúona хлеб , называют носителей южножемайтских говоров?\n",
            "Answer: dū́nininkai\n",
            "82472\n",
            "\n",
            "Question: Одно из вымерших семейств змей?\n",
            "Answer: Madtsoiidae.\n",
            "82246\n",
            "\n",
            "Question: Как сбрасыают листву вечнозеленые деревья?\n",
            "Answer: порциями\n",
            "26678\n",
            "\n",
            "Question: Какое это вещество структурно?\n",
            "Answer: Аморфное\n",
            "12358\n",
            "\n",
            "Question: Что генерирует ядерный реактор?\n",
            "Answer: тепло\n",
            "29604\n",
            "\n"
          ],
          "name": "stdout"
        }
      ]
    },
    {
      "cell_type": "code",
      "metadata": {
        "id": "oKH9l6_e32BH",
        "colab_type": "code",
        "colab": {}
      },
      "source": [
        "good_questions_rus_dev = []\n",
        "for chunk in rus_dev['data']:\n",
        "  for sent in chunk['paragraphs']:\n",
        "    if len(sent['qas'][0]['answers'][0]['text'].split(' ')) == 1:\n",
        "      good_questions_rus_dev.append(sent)"
      ],
      "execution_count": 17,
      "outputs": []
    },
    {
      "cell_type": "code",
      "metadata": {
        "id": "HVD6XyB04kBe",
        "colab_type": "code",
        "colab": {
          "base_uri": "https://localhost:8080/",
          "height": 697
        },
        "outputId": "be79510e-dab6-4b54-957a-d9eec4eeb2cd"
      },
      "source": [
        "for chunk in good_questions_rus_dev[:10]:\n",
        "    print(\"Question: {}\\nAnswer: {}\".format(chunk['qas'][0]['question'], chunk['qas'][0]['answers'][0]['text']))\n",
        "    print(chunk['qas'][0]['id'])\n",
        "    print()"
      ],
      "execution_count": 18,
      "outputs": [
        {
          "output_type": "stream",
          "text": [
            "Question: Чем заболел Байрон в Миссолонги?\n",
            "Answer: лихорадкой\n",
            "12786\n",
            "\n",
            "Question: Как отводятся излишки тепла у млекопитающих?\n",
            "Answer: потоотделением\n",
            "39919\n",
            "\n",
            "Question: Какими русскими купцами был накоплен значимый торговый опыт?\n",
            "Answer: купцами-новгородцами\n",
            "37134\n",
            "\n",
            "Question: Какой язык стал церковным и государственным языком княжеств, в которые входили ставшие оседлыми влахи?\n",
            "Answer: церковнославянский\n",
            "41220\n",
            "\n",
            "Question: Какие индикаторы - дополнительные графики, формируемые на основе пересчёта значений, содержащихся в базовом графике цены?\n",
            "Answer: технические\n",
            "36699\n",
            "\n",
            "Question: Какие две торпеды были изготовлены в течение 1937—1938 гг. с электродвигателем мощностью 45 кВт?\n",
            "Answer: ЭТ-45\n",
            "72734\n",
            "\n",
            "Question: Кто увидел вражеский аэроплан во время розведки?\n",
            "Answer: лётчики\n",
            "31929\n",
            "\n",
            "Question: Каким уровнем генетического вклада можно оценить организм, потомство которого слабо и плохо размножаеться?\n",
            "Answer: низкими\n",
            "54643\n",
            "\n",
            "Question: Когда будет известна истинная оценка общего количества существующих видов чешуекрылых?\n",
            "Answer: никогда\n",
            "66927\n",
            "\n",
            "Question: Что такое параматма?\n",
            "Answer: сверхдуша\n",
            "12364\n",
            "\n"
          ],
          "name": "stdout"
        }
      ]
    },
    {
      "cell_type": "markdown",
      "metadata": {
        "id": "-zxTsNJxWiRB",
        "colab_type": "text"
      },
      "source": [
        "Далее отбор не зависимых от контеста предложений и составление из вопросительных утвердительных предложений (вручную)"
      ]
    },
    {
      "cell_type": "markdown",
      "metadata": {
        "id": "X6TGZBwMA1XO",
        "colab_type": "text"
      },
      "source": [
        "Испанский: шаги такие же"
      ]
    },
    {
      "cell_type": "code",
      "metadata": {
        "id": "Pc6N1if-58DC",
        "colab_type": "code",
        "colab": {
          "base_uri": "https://localhost:8080/",
          "height": 34
        },
        "outputId": "c76fca1b-1055-41bc-d391-baa3b7b3e1c4"
      },
      "source": [
        "good_questions_espanol = []\n",
        "for chunk in espanol['data']:\n",
        "  for sent in chunk['paragraphs']:\n",
        "    if len(sent['qas'][0]['answers'][0]['text'].split(' ')) == 1:\n",
        "      good_questions_espanol.append(sent)\n",
        "\n",
        "len(good_questions_espanol)"
      ],
      "execution_count": 20,
      "outputs": [
        {
          "output_type": "execute_result",
          "data": {
            "text/plain": [
              "145"
            ]
          },
          "metadata": {
            "tags": []
          },
          "execution_count": 20
        }
      ]
    },
    {
      "cell_type": "code",
      "metadata": {
        "id": "F2lEWGzP7Fkc",
        "colab_type": "code",
        "colab": {
          "base_uri": "https://localhost:8080/",
          "height": 697
        },
        "outputId": "610643e1-fd01-4c56-9471-72c21215aa02"
      },
      "source": [
        "for chunk in good_questions_espanol[:10]:\n",
        "    print(\"Question: {}\\nAnswer: {}\".format(chunk['qas'][0]['question'], chunk['qas'][0]['answers'][0]['text']))\n",
        "    print(chunk['qas'][0]['id'])\n",
        "    print()"
      ],
      "execution_count": 21,
      "outputs": [
        {
          "output_type": "stream",
          "text": [
            "Question: ¿Cuántos días están bajo cero en invierno?\n",
            "Answer: 40\n",
            "4c5d3e150b460d8b01cab7fc43d8343b6d2df1be\n",
            "\n",
            "Question: ¿En que alfabeto se escribía el kirguiso antes?\n",
            "Answer: árabe\n",
            "d6732b84ccc296fd04e20e4ac4a2a00817294b74\n",
            "\n",
            "Question: ¿Para qué idioma se ofrecen servicios de interpretación?\n",
            "Answer: kirguiso\n",
            "e3ef1715e6a22099d2a795d2ff2fb68212552391\n",
            "\n",
            "Question: ¿Cuál fue el nombre de su primer hijo?\n",
            "Answer: Guillermo\n",
            "08d5ad1cf72e3dd791ed788fe92cccb6d838fca2\n",
            "\n",
            "Question: ¿En qué año ocupó Prusia Holstein?\n",
            "Answer: 1866,\n",
            "ab51230ce444b86e3421b79ac50a28a4320c1e71\n",
            "\n",
            "Question: ¿Qué profesión tenía Gustav Freytag?\n",
            "Answer: escritor\n",
            "d78557a3727f5d8874b883b33e21581d562140fe\n",
            "\n",
            "Question: ¿Cuándo se construyó el aeropuerto Poznan-Lawica Henryk Wieniawki?\n",
            "Answer: 1913\n",
            "72a7a8aeddcc1a17e039b288766ca3793c1db9f9\n",
            "\n",
            "Question: ¿Con quién luchaba el jugador junto con su mayor enemigo?\n",
            "Answer: TCTF\n",
            "bf6e46e6e2f7b54c6e88819e976253236fa7db0c\n",
            "\n",
            "Question: ¿En qué año nació Traoré?\n",
            "Answer: 1974\n",
            "ea7b1a28ca38687ee4f693aba6d88143617af514\n",
            "\n",
            "Question: ¿En qué año falleció Robert Coleman Richardson?\n",
            "Answer: 2013\n",
            "0d72681df562d3b59f065130cdb302f51c10212e\n",
            "\n"
          ],
          "name": "stdout"
        }
      ]
    },
    {
      "cell_type": "code",
      "metadata": {
        "id": "05scby4k7h2e",
        "colab_type": "code",
        "colab": {
          "base_uri": "https://localhost:8080/",
          "height": 34
        },
        "outputId": "9d01499e-48b5-40bf-a1ed-4a332135d671"
      },
      "source": [
        "good_questions_espanol_test = []\n",
        "for chunk in espanol_test['data']:\n",
        "  for sent in chunk['paragraphs']:\n",
        "    if len(sent['qas'][0]['answers'][0]['text'].split(' ')) == 1:\n",
        "      good_questions_espanol_test.append(sent)\n",
        "len(good_questions_espanol_test)"
      ],
      "execution_count": 22,
      "outputs": [
        {
          "output_type": "execute_result",
          "data": {
            "text/plain": [
              "1548"
            ]
          },
          "metadata": {
            "tags": []
          },
          "execution_count": 22
        }
      ]
    },
    {
      "cell_type": "code",
      "metadata": {
        "id": "KQb24l8b8LcU",
        "colab_type": "code",
        "colab": {
          "base_uri": "https://localhost:8080/",
          "height": 697
        },
        "outputId": "3f429c0d-e7c4-4328-c291-3377af0f4b0f"
      },
      "source": [
        "for chunk in good_questions_espanol[:10]:\n",
        "    print(\"Question: {}\\nAnswer: {}\".format(chunk['qas'][0]['question'], chunk['qas'][0]['answers'][0]['text']))\n",
        "    print(chunk['qas'][0]['id'])\n",
        "    print()"
      ],
      "execution_count": 23,
      "outputs": [
        {
          "output_type": "stream",
          "text": [
            "Question: ¿Cuántos días están bajo cero en invierno?\n",
            "Answer: 40\n",
            "4c5d3e150b460d8b01cab7fc43d8343b6d2df1be\n",
            "\n",
            "Question: ¿En que alfabeto se escribía el kirguiso antes?\n",
            "Answer: árabe\n",
            "d6732b84ccc296fd04e20e4ac4a2a00817294b74\n",
            "\n",
            "Question: ¿Para qué idioma se ofrecen servicios de interpretación?\n",
            "Answer: kirguiso\n",
            "e3ef1715e6a22099d2a795d2ff2fb68212552391\n",
            "\n",
            "Question: ¿Cuál fue el nombre de su primer hijo?\n",
            "Answer: Guillermo\n",
            "08d5ad1cf72e3dd791ed788fe92cccb6d838fca2\n",
            "\n",
            "Question: ¿En qué año ocupó Prusia Holstein?\n",
            "Answer: 1866,\n",
            "ab51230ce444b86e3421b79ac50a28a4320c1e71\n",
            "\n",
            "Question: ¿Qué profesión tenía Gustav Freytag?\n",
            "Answer: escritor\n",
            "d78557a3727f5d8874b883b33e21581d562140fe\n",
            "\n",
            "Question: ¿Cuándo se construyó el aeropuerto Poznan-Lawica Henryk Wieniawki?\n",
            "Answer: 1913\n",
            "72a7a8aeddcc1a17e039b288766ca3793c1db9f9\n",
            "\n",
            "Question: ¿Con quién luchaba el jugador junto con su mayor enemigo?\n",
            "Answer: TCTF\n",
            "bf6e46e6e2f7b54c6e88819e976253236fa7db0c\n",
            "\n",
            "Question: ¿En qué año nació Traoré?\n",
            "Answer: 1974\n",
            "ea7b1a28ca38687ee4f693aba6d88143617af514\n",
            "\n",
            "Question: ¿En qué año falleció Robert Coleman Richardson?\n",
            "Answer: 2013\n",
            "0d72681df562d3b59f065130cdb302f51c10212e\n",
            "\n"
          ],
          "name": "stdout"
        }
      ]
    },
    {
      "cell_type": "markdown",
      "metadata": {
        "id": "5xgH9hfFdee6",
        "colab_type": "text"
      },
      "source": [
        "Данные были занесены в таблицу с колонками, соответствующим ключам из xLama (предложение, ответ, айди)"
      ]
    },
    {
      "cell_type": "code",
      "metadata": {
        "id": "H2XVVe9l03an",
        "colab_type": "code",
        "colab": {
          "base_uri": "https://localhost:8080/",
          "height": 34
        },
        "outputId": "f2ef32f2-4c55-4ac4-96de-b00f301fe5a4"
      },
      "source": [
        "data_s = pd.read_excel(\"/content/Squad_rus.xls\")\n",
        "data_s.id.drop_duplicates(inplace=True)\n",
        "data_s[\"id\"].nunique()"
      ],
      "execution_count": 30,
      "outputs": [
        {
          "output_type": "execute_result",
          "data": {
            "text/plain": [
              "202"
            ]
          },
          "metadata": {
            "tags": []
          },
          "execution_count": 30
        }
      ]
    },
    {
      "cell_type": "code",
      "metadata": {
        "id": "a387x1mj1fmS",
        "colab_type": "code",
        "colab": {}
      },
      "source": [
        "Squad_rus = []\n",
        "for index, data in data_s.iterrows():\n",
        "  obj = {'masked_sentences':[data['sentences']], 'obj_label':data['obj_label'], 'id':data['id'], 'sub_label':\"Squad\"}\n",
        "  Squad_rus.append(obj)"
      ],
      "execution_count": 31,
      "outputs": []
    },
    {
      "cell_type": "markdown",
      "metadata": {
        "id": "U_S6YCAWXoo6",
        "colab_type": "text"
      },
      "source": [
        "Примеры на русском"
      ]
    },
    {
      "cell_type": "code",
      "metadata": {
        "id": "OMItRsy51fi3",
        "colab_type": "code",
        "colab": {
          "base_uri": "https://localhost:8080/",
          "height": 207
        },
        "outputId": "5eb960c2-4cd5-4d01-f6bc-bcfec7ac411e"
      },
      "source": [
        "for i in Squad_rus[:10]:\n",
        "  print(i)"
      ],
      "execution_count": 32,
      "outputs": [
        {
          "output_type": "stream",
          "text": [
            "{'masked_sentences': ['Байрон заболел [MASK] в Миссолонги.'], 'obj_label': 'лихорадкой', 'id': 12786, 'sub_label': 'Squad'}\n",
            "{'masked_sentences': ['Bзлишки тепла у млекопитающих отводятся [MASK].'], 'obj_label': 'потоотделением', 'id': 39919, 'sub_label': 'Squad'}\n",
            "{'masked_sentences': ['Кристаллы различной формы имеют [MASK] вершины.'], 'obj_label': 'острые', 'id': 70862, 'sub_label': 'Squad'}\n",
            "{'masked_sentences': ['Виноградов предложил [MASK] методов оценки модуля тригонометрических сумм.'], 'obj_label': 'два', 'id': 23098, 'sub_label': 'Squad'}\n",
            "{'masked_sentences': ['Группы: Devo, Suicide, Television, Talking Heads являются представителями [MASK].'], 'obj_label': 'постпанка', 'id': 69511, 'sub_label': 'Squad'}\n",
            "{'masked_sentences': ['Раковины [MASK] выставлялись на показ в интерьерах XIX века.'], 'obj_label': 'моллюсков', 'id': 33857, 'sub_label': 'Squad'}\n",
            "{'masked_sentences': ['Круг кровообращения, функционирующий через легкие, называется [MASK].'], 'obj_label': 'малым', 'id': 19286, 'sub_label': 'Squad'}\n",
            "{'masked_sentences': ['Водородные соединения других элементов являются [MASK].'], 'obj_label': 'газами', 'id': 80930, 'sub_label': 'Squad'}\n",
            "{'masked_sentences': ['[MASK] лихорадка передается через укус комара.'], 'obj_label': 'Жёлтая', 'id': 49976, 'sub_label': 'Squad'}\n",
            "{'masked_sentences': ['Химическая реакция, происходящая при участии катализаторов, называется [MASK].'], 'obj_label': 'катализ', 'id': 7324, 'sub_label': 'Squad'}\n"
          ],
          "name": "stdout"
        }
      ]
    },
    {
      "cell_type": "markdown",
      "metadata": {
        "id": "7ePaB8-yZgJc",
        "colab_type": "text"
      },
      "source": [
        "И теперь записываем внужном формате"
      ]
    },
    {
      "cell_type": "code",
      "metadata": {
        "id": "x69ifca71ffJ",
        "colab_type": "code",
        "colab": {}
      },
      "source": [
        "with jsonlines.open('test_russian.jsonl', mode='w') as writer:\n",
        "    writer.write_all(Squad_rus)"
      ],
      "execution_count": 33,
      "outputs": []
    },
    {
      "cell_type": "markdown",
      "metadata": {
        "id": "9FA9_oxYZpDQ",
        "colab_type": "text"
      },
      "source": [
        "Теперь то же самое для Испанского"
      ]
    },
    {
      "cell_type": "code",
      "metadata": {
        "id": "vEgNv5NlZt62",
        "colab_type": "code",
        "colab": {
          "base_uri": "https://localhost:8080/",
          "height": 34
        },
        "outputId": "94114487-7641-4a61-c63f-1e55c3323734"
      },
      "source": [
        "data_s = pd.read_excel(\"/content/Spanish_SQUAD_data_prepared_sentences.xls\")\n",
        "data_s.id.drop_duplicates(inplace=True)\n",
        "data_s[\"id\"].nunique()"
      ],
      "execution_count": 34,
      "outputs": [
        {
          "output_type": "execute_result",
          "data": {
            "text/plain": [
              "200"
            ]
          },
          "metadata": {
            "tags": []
          },
          "execution_count": 34
        }
      ]
    },
    {
      "cell_type": "code",
      "metadata": {
        "id": "4ZTlQq9i9xlx",
        "colab_type": "code",
        "colab": {}
      },
      "source": [
        "Squad_esp = []\n",
        "for index, data in data_s.iterrows():\n",
        "  obj = {'masked_sentences':[data['masked_sentences']], 'obj_label':data['obj_label'], 'id':data['id'], 'sub_label':\"Squad\"}\n",
        "  Squad_esp.append(obj)"
      ],
      "execution_count": 35,
      "outputs": []
    },
    {
      "cell_type": "markdown",
      "metadata": {
        "id": "leGbAhuAaApL",
        "colab_type": "text"
      },
      "source": [
        " Примеры"
      ]
    },
    {
      "cell_type": "code",
      "metadata": {
        "id": "zQbwmHqR_NLB",
        "colab_type": "code",
        "colab": {
          "base_uri": "https://localhost:8080/",
          "height": 207
        },
        "outputId": "52108c6b-36d4-4261-9186-fdeb015a3749"
      },
      "source": [
        "for i in Squad_esp[:10]:\n",
        "  print(i)"
      ],
      "execution_count": 36,
      "outputs": [
        {
          "output_type": "stream",
          "text": [
            "{'masked_sentences': ['Klaudia Gallovits-Hall es de nacionalidad  [MASK].'], 'obj_label': 'rumana', 'id': 'fc144486715b86fc8538e24b9dcf83aca08e3b36', 'sub_label': 'Squad'}\n",
            "{'masked_sentences': ['Inglaterra puede separarse oficialmente en [MASK] areas.'], 'obj_label': 'nueve', 'id': '79335fe69a4757e3edf229b1ca6cc6e61ec7e428', 'sub_label': 'Squad'}\n",
            "{'masked_sentences': ['La dinastía mogol se estableció en [MASK].'], 'obj_label': 1526, 'id': '179cfa1786b78adce6971d822061bfd7317d5fe0', 'sub_label': 'Squad'}\n",
            "{'masked_sentences': ['El idioma número uno en términos de números de usuarios de Wikipedia es [MASK].'], 'obj_label': 'inglés', 'id': '370921c39d6ecf8b3dd662739e17d3646d89a36a', 'sub_label': 'Squad'}\n",
            "{'masked_sentences': ['[MASK] teorizó sobre la cosmología en la que la Tierra tenía forma de un pilar.'], 'obj_label': 'Anaximandro', 'id': 'fe8e18a717d84104dce27dba6485db4bdd9e6f36', 'sub_label': 'Squad'}\n",
            "{'masked_sentences': ['El álbum de estudio de Britney Spears que lanzó después del segundo se llamó [MASK].'], 'obj_label': 'Britney', 'id': 'fb612186581e69a1cecafc6c10ab5ea282609597', 'sub_label': 'Squad'}\n",
            "{'masked_sentences': ['Piaget en su reloj en 1979 presentó el estilo [MASK].'], 'obj_label': 'vanguardista', 'id': 'b9c4f95cef0499bbc560673068ad3dcc90655835', 'sub_label': 'Squad'}\n",
            "{'masked_sentences': ['Se pasó a llamar Barclays en [MASK].'], 'obj_label': 1736, 'id': '0dba79afc1c60403b38c86282b1a02814b50625c', 'sub_label': 'Squad'}\n",
            "{'masked_sentences': ['Las polillas y las moscas son ejemplos del clase de [MASK].'], 'obj_label': 'invertebrados', 'id': '4784eb3c2ee9613ac337238b41b680a6555a8b11', 'sub_label': 'Squad'}\n",
            "{'masked_sentences': ['La nacionalidad de Friedrich Trendelenburg es [MASK].'], 'obj_label': 'alemán', 'id': '9ef619ff3f1ef099446093fa0790a549acd2b35a', 'sub_label': 'Squad'}\n"
          ],
          "name": "stdout"
        }
      ]
    },
    {
      "cell_type": "markdown",
      "metadata": {
        "id": "z7IyK0inaIRF",
        "colab_type": "text"
      },
      "source": [
        "И опять же запись в нужный формат"
      ]
    },
    {
      "cell_type": "code",
      "metadata": {
        "id": "DDgaY0KmBib5",
        "colab_type": "code",
        "colab": {}
      },
      "source": [
        "with jsonlines.open('test_espanol.jsonl', mode='w') as writer:\n",
        "    writer.write_all(Squad_esp)"
      ],
      "execution_count": 37,
      "outputs": []
    }
  ]
}