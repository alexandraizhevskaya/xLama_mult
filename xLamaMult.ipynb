{
  "nbformat": 4,
  "nbformat_minor": 0,
  "metadata": {
    "colab": {
      "name": "xLamaMult.ipynb",
      "provenance": [],
      "collapsed_sections": [],
      "authorship_tag": "ABX9TyOXNgnTtH/W40BWr7RngAw/"
    },
    "kernelspec": {
      "name": "python3",
      "display_name": "Python 3"
    },
    "accelerator": "GPU",
    "widgets": {
      "application/vnd.jupyter.widget-state+json": {
        "30a8c3ab57a34f9b9ee18c8dd492144d": {
          "model_module": "@jupyter-widgets/controls",
          "model_name": "HBoxModel",
          "state": {
            "_view_name": "HBoxView",
            "_dom_classes": [],
            "_model_name": "HBoxModel",
            "_view_module": "@jupyter-widgets/controls",
            "_model_module_version": "1.5.0",
            "_view_count": null,
            "_view_module_version": "1.5.0",
            "box_style": "",
            "layout": "IPY_MODEL_d52375f002534d108e3f6002fe3c7501",
            "_model_module": "@jupyter-widgets/controls",
            "children": [
              "IPY_MODEL_37b7fc9cdb0e44f5b3e5e18f65fedf8f",
              "IPY_MODEL_abaa1b46d4784cacb5bd69952bd906c7"
            ]
          }
        },
        "d52375f002534d108e3f6002fe3c7501": {
          "model_module": "@jupyter-widgets/base",
          "model_name": "LayoutModel",
          "state": {
            "_view_name": "LayoutView",
            "grid_template_rows": null,
            "right": null,
            "justify_content": null,
            "_view_module": "@jupyter-widgets/base",
            "overflow": null,
            "_model_module_version": "1.2.0",
            "_view_count": null,
            "flex_flow": null,
            "width": null,
            "min_width": null,
            "border": null,
            "align_items": null,
            "bottom": null,
            "_model_module": "@jupyter-widgets/base",
            "top": null,
            "grid_column": null,
            "overflow_y": null,
            "overflow_x": null,
            "grid_auto_flow": null,
            "grid_area": null,
            "grid_template_columns": null,
            "flex": null,
            "_model_name": "LayoutModel",
            "justify_items": null,
            "grid_row": null,
            "max_height": null,
            "align_content": null,
            "visibility": null,
            "align_self": null,
            "height": null,
            "min_height": null,
            "padding": null,
            "grid_auto_rows": null,
            "grid_gap": null,
            "max_width": null,
            "order": null,
            "_view_module_version": "1.2.0",
            "grid_template_areas": null,
            "object_position": null,
            "object_fit": null,
            "grid_auto_columns": null,
            "margin": null,
            "display": null,
            "left": null
          }
        },
        "37b7fc9cdb0e44f5b3e5e18f65fedf8f": {
          "model_module": "@jupyter-widgets/controls",
          "model_name": "FloatProgressModel",
          "state": {
            "_view_name": "ProgressView",
            "style": "IPY_MODEL_2305e7d6b2fa4e77aa779736bf385bd6",
            "_dom_classes": [],
            "description": "Downloading: 100%",
            "_model_name": "FloatProgressModel",
            "bar_style": "success",
            "max": 818345,
            "_view_module": "@jupyter-widgets/controls",
            "_model_module_version": "1.5.0",
            "value": 818345,
            "_view_count": null,
            "_view_module_version": "1.5.0",
            "orientation": "horizontal",
            "min": 0,
            "description_tooltip": null,
            "_model_module": "@jupyter-widgets/controls",
            "layout": "IPY_MODEL_efbabbe7e18243a1a2fb4c8f3a8dd0ce"
          }
        },
        "abaa1b46d4784cacb5bd69952bd906c7": {
          "model_module": "@jupyter-widgets/controls",
          "model_name": "HTMLModel",
          "state": {
            "_view_name": "HTMLView",
            "style": "IPY_MODEL_966bf86c32044e5f96e1a37256ab75af",
            "_dom_classes": [],
            "description": "",
            "_model_name": "HTMLModel",
            "placeholder": "​",
            "_view_module": "@jupyter-widgets/controls",
            "_model_module_version": "1.5.0",
            "value": " 818k/818k [00:01&lt;00:00, 626kB/s]",
            "_view_count": null,
            "_view_module_version": "1.5.0",
            "description_tooltip": null,
            "_model_module": "@jupyter-widgets/controls",
            "layout": "IPY_MODEL_91bf152485f64c3888581fc94c49ae22"
          }
        },
        "2305e7d6b2fa4e77aa779736bf385bd6": {
          "model_module": "@jupyter-widgets/controls",
          "model_name": "ProgressStyleModel",
          "state": {
            "_view_name": "StyleView",
            "_model_name": "ProgressStyleModel",
            "description_width": "initial",
            "_view_module": "@jupyter-widgets/base",
            "_model_module_version": "1.5.0",
            "_view_count": null,
            "_view_module_version": "1.2.0",
            "bar_color": null,
            "_model_module": "@jupyter-widgets/controls"
          }
        },
        "efbabbe7e18243a1a2fb4c8f3a8dd0ce": {
          "model_module": "@jupyter-widgets/base",
          "model_name": "LayoutModel",
          "state": {
            "_view_name": "LayoutView",
            "grid_template_rows": null,
            "right": null,
            "justify_content": null,
            "_view_module": "@jupyter-widgets/base",
            "overflow": null,
            "_model_module_version": "1.2.0",
            "_view_count": null,
            "flex_flow": null,
            "width": null,
            "min_width": null,
            "border": null,
            "align_items": null,
            "bottom": null,
            "_model_module": "@jupyter-widgets/base",
            "top": null,
            "grid_column": null,
            "overflow_y": null,
            "overflow_x": null,
            "grid_auto_flow": null,
            "grid_area": null,
            "grid_template_columns": null,
            "flex": null,
            "_model_name": "LayoutModel",
            "justify_items": null,
            "grid_row": null,
            "max_height": null,
            "align_content": null,
            "visibility": null,
            "align_self": null,
            "height": null,
            "min_height": null,
            "padding": null,
            "grid_auto_rows": null,
            "grid_gap": null,
            "max_width": null,
            "order": null,
            "_view_module_version": "1.2.0",
            "grid_template_areas": null,
            "object_position": null,
            "object_fit": null,
            "grid_auto_columns": null,
            "margin": null,
            "display": null,
            "left": null
          }
        },
        "966bf86c32044e5f96e1a37256ab75af": {
          "model_module": "@jupyter-widgets/controls",
          "model_name": "DescriptionStyleModel",
          "state": {
            "_view_name": "StyleView",
            "_model_name": "DescriptionStyleModel",
            "description_width": "",
            "_view_module": "@jupyter-widgets/base",
            "_model_module_version": "1.5.0",
            "_view_count": null,
            "_view_module_version": "1.2.0",
            "_model_module": "@jupyter-widgets/controls"
          }
        },
        "91bf152485f64c3888581fc94c49ae22": {
          "model_module": "@jupyter-widgets/base",
          "model_name": "LayoutModel",
          "state": {
            "_view_name": "LayoutView",
            "grid_template_rows": null,
            "right": null,
            "justify_content": null,
            "_view_module": "@jupyter-widgets/base",
            "overflow": null,
            "_model_module_version": "1.2.0",
            "_view_count": null,
            "flex_flow": null,
            "width": null,
            "min_width": null,
            "border": null,
            "align_items": null,
            "bottom": null,
            "_model_module": "@jupyter-widgets/base",
            "top": null,
            "grid_column": null,
            "overflow_y": null,
            "overflow_x": null,
            "grid_auto_flow": null,
            "grid_area": null,
            "grid_template_columns": null,
            "flex": null,
            "_model_name": "LayoutModel",
            "justify_items": null,
            "grid_row": null,
            "max_height": null,
            "align_content": null,
            "visibility": null,
            "align_self": null,
            "height": null,
            "min_height": null,
            "padding": null,
            "grid_auto_rows": null,
            "grid_gap": null,
            "max_width": null,
            "order": null,
            "_view_module_version": "1.2.0",
            "grid_template_areas": null,
            "object_position": null,
            "object_fit": null,
            "grid_auto_columns": null,
            "margin": null,
            "display": null,
            "left": null
          }
        },
        "68c2cd1e6f8e440f8774a7c5c3a1eb4b": {
          "model_module": "@jupyter-widgets/controls",
          "model_name": "HBoxModel",
          "state": {
            "_view_name": "HBoxView",
            "_dom_classes": [],
            "_model_name": "HBoxModel",
            "_view_module": "@jupyter-widgets/controls",
            "_model_module_version": "1.5.0",
            "_view_count": null,
            "_view_module_version": "1.5.0",
            "box_style": "",
            "layout": "IPY_MODEL_e99e745a143648369dede783770e4eb7",
            "_model_module": "@jupyter-widgets/controls",
            "children": [
              "IPY_MODEL_43f1ceb0242b4854ab9bf2b9807c4d8f",
              "IPY_MODEL_07048f62e3f84c6b805b86710abbf340"
            ]
          }
        },
        "e99e745a143648369dede783770e4eb7": {
          "model_module": "@jupyter-widgets/base",
          "model_name": "LayoutModel",
          "state": {
            "_view_name": "LayoutView",
            "grid_template_rows": null,
            "right": null,
            "justify_content": null,
            "_view_module": "@jupyter-widgets/base",
            "overflow": null,
            "_model_module_version": "1.2.0",
            "_view_count": null,
            "flex_flow": null,
            "width": null,
            "min_width": null,
            "border": null,
            "align_items": null,
            "bottom": null,
            "_model_module": "@jupyter-widgets/base",
            "top": null,
            "grid_column": null,
            "overflow_y": null,
            "overflow_x": null,
            "grid_auto_flow": null,
            "grid_area": null,
            "grid_template_columns": null,
            "flex": null,
            "_model_name": "LayoutModel",
            "justify_items": null,
            "grid_row": null,
            "max_height": null,
            "align_content": null,
            "visibility": null,
            "align_self": null,
            "height": null,
            "min_height": null,
            "padding": null,
            "grid_auto_rows": null,
            "grid_gap": null,
            "max_width": null,
            "order": null,
            "_view_module_version": "1.2.0",
            "grid_template_areas": null,
            "object_position": null,
            "object_fit": null,
            "grid_auto_columns": null,
            "margin": null,
            "display": null,
            "left": null
          }
        },
        "43f1ceb0242b4854ab9bf2b9807c4d8f": {
          "model_module": "@jupyter-widgets/controls",
          "model_name": "FloatProgressModel",
          "state": {
            "_view_name": "ProgressView",
            "style": "IPY_MODEL_e9d9675c4b754bdfb5535895edaff3f7",
            "_dom_classes": [],
            "description": "Downloading: 100%",
            "_model_name": "FloatProgressModel",
            "bar_style": "success",
            "max": 828663,
            "_view_module": "@jupyter-widgets/controls",
            "_model_module_version": "1.5.0",
            "value": 828663,
            "_view_count": null,
            "_view_module_version": "1.5.0",
            "orientation": "horizontal",
            "min": 0,
            "description_tooltip": null,
            "_model_module": "@jupyter-widgets/controls",
            "layout": "IPY_MODEL_00028ed8e4ed493390cf1e5db45d56c3"
          }
        },
        "07048f62e3f84c6b805b86710abbf340": {
          "model_module": "@jupyter-widgets/controls",
          "model_name": "HTMLModel",
          "state": {
            "_view_name": "HTMLView",
            "style": "IPY_MODEL_4a3ea5a075564cbe82b4d4caae825609",
            "_dom_classes": [],
            "description": "",
            "_model_name": "HTMLModel",
            "placeholder": "​",
            "_view_module": "@jupyter-widgets/controls",
            "_model_module_version": "1.5.0",
            "value": " 829k/829k [00:11&lt;00:00, 73.5kB/s]",
            "_view_count": null,
            "_view_module_version": "1.5.0",
            "description_tooltip": null,
            "_model_module": "@jupyter-widgets/controls",
            "layout": "IPY_MODEL_7a921a23f30c42e5aca9d45724439c3e"
          }
        },
        "e9d9675c4b754bdfb5535895edaff3f7": {
          "model_module": "@jupyter-widgets/controls",
          "model_name": "ProgressStyleModel",
          "state": {
            "_view_name": "StyleView",
            "_model_name": "ProgressStyleModel",
            "description_width": "initial",
            "_view_module": "@jupyter-widgets/base",
            "_model_module_version": "1.5.0",
            "_view_count": null,
            "_view_module_version": "1.2.0",
            "bar_color": null,
            "_model_module": "@jupyter-widgets/controls"
          }
        },
        "00028ed8e4ed493390cf1e5db45d56c3": {
          "model_module": "@jupyter-widgets/base",
          "model_name": "LayoutModel",
          "state": {
            "_view_name": "LayoutView",
            "grid_template_rows": null,
            "right": null,
            "justify_content": null,
            "_view_module": "@jupyter-widgets/base",
            "overflow": null,
            "_model_module_version": "1.2.0",
            "_view_count": null,
            "flex_flow": null,
            "width": null,
            "min_width": null,
            "border": null,
            "align_items": null,
            "bottom": null,
            "_model_module": "@jupyter-widgets/base",
            "top": null,
            "grid_column": null,
            "overflow_y": null,
            "overflow_x": null,
            "grid_auto_flow": null,
            "grid_area": null,
            "grid_template_columns": null,
            "flex": null,
            "_model_name": "LayoutModel",
            "justify_items": null,
            "grid_row": null,
            "max_height": null,
            "align_content": null,
            "visibility": null,
            "align_self": null,
            "height": null,
            "min_height": null,
            "padding": null,
            "grid_auto_rows": null,
            "grid_gap": null,
            "max_width": null,
            "order": null,
            "_view_module_version": "1.2.0",
            "grid_template_areas": null,
            "object_position": null,
            "object_fit": null,
            "grid_auto_columns": null,
            "margin": null,
            "display": null,
            "left": null
          }
        },
        "4a3ea5a075564cbe82b4d4caae825609": {
          "model_module": "@jupyter-widgets/controls",
          "model_name": "DescriptionStyleModel",
          "state": {
            "_view_name": "StyleView",
            "_model_name": "DescriptionStyleModel",
            "description_width": "",
            "_view_module": "@jupyter-widgets/base",
            "_model_module_version": "1.5.0",
            "_view_count": null,
            "_view_module_version": "1.2.0",
            "_model_module": "@jupyter-widgets/controls"
          }
        },
        "7a921a23f30c42e5aca9d45724439c3e": {
          "model_module": "@jupyter-widgets/base",
          "model_name": "LayoutModel",
          "state": {
            "_view_name": "LayoutView",
            "grid_template_rows": null,
            "right": null,
            "justify_content": null,
            "_view_module": "@jupyter-widgets/base",
            "overflow": null,
            "_model_module_version": "1.2.0",
            "_view_count": null,
            "flex_flow": null,
            "width": null,
            "min_width": null,
            "border": null,
            "align_items": null,
            "bottom": null,
            "_model_module": "@jupyter-widgets/base",
            "top": null,
            "grid_column": null,
            "overflow_y": null,
            "overflow_x": null,
            "grid_auto_flow": null,
            "grid_area": null,
            "grid_template_columns": null,
            "flex": null,
            "_model_name": "LayoutModel",
            "justify_items": null,
            "grid_row": null,
            "max_height": null,
            "align_content": null,
            "visibility": null,
            "align_self": null,
            "height": null,
            "min_height": null,
            "padding": null,
            "grid_auto_rows": null,
            "grid_gap": null,
            "max_width": null,
            "order": null,
            "_view_module_version": "1.2.0",
            "grid_template_areas": null,
            "object_position": null,
            "object_fit": null,
            "grid_auto_columns": null,
            "margin": null,
            "display": null,
            "left": null
          }
        },
        "b29fa071436d4dca9dcc1e6d58fd0be8": {
          "model_module": "@jupyter-widgets/controls",
          "model_name": "HBoxModel",
          "state": {
            "_view_name": "HBoxView",
            "_dom_classes": [],
            "_model_name": "HBoxModel",
            "_view_module": "@jupyter-widgets/controls",
            "_model_module_version": "1.5.0",
            "_view_count": null,
            "_view_module_version": "1.5.0",
            "box_style": "",
            "layout": "IPY_MODEL_231f39b2cb254621b18dae2fc80bf7a5",
            "_model_module": "@jupyter-widgets/controls",
            "children": [
              "IPY_MODEL_d9a697efa36349b2ac64ed8800ece48d",
              "IPY_MODEL_ad29c65459f44e51aab33f88223b7d79"
            ]
          }
        },
        "231f39b2cb254621b18dae2fc80bf7a5": {
          "model_module": "@jupyter-widgets/base",
          "model_name": "LayoutModel",
          "state": {
            "_view_name": "LayoutView",
            "grid_template_rows": null,
            "right": null,
            "justify_content": null,
            "_view_module": "@jupyter-widgets/base",
            "overflow": null,
            "_model_module_version": "1.2.0",
            "_view_count": null,
            "flex_flow": null,
            "width": null,
            "min_width": null,
            "border": null,
            "align_items": null,
            "bottom": null,
            "_model_module": "@jupyter-widgets/base",
            "top": null,
            "grid_column": null,
            "overflow_y": null,
            "overflow_x": null,
            "grid_auto_flow": null,
            "grid_area": null,
            "grid_template_columns": null,
            "flex": null,
            "_model_name": "LayoutModel",
            "justify_items": null,
            "grid_row": null,
            "max_height": null,
            "align_content": null,
            "visibility": null,
            "align_self": null,
            "height": null,
            "min_height": null,
            "padding": null,
            "grid_auto_rows": null,
            "grid_gap": null,
            "max_width": null,
            "order": null,
            "_view_module_version": "1.2.0",
            "grid_template_areas": null,
            "object_position": null,
            "object_fit": null,
            "grid_auto_columns": null,
            "margin": null,
            "display": null,
            "left": null
          }
        },
        "d9a697efa36349b2ac64ed8800ece48d": {
          "model_module": "@jupyter-widgets/controls",
          "model_name": "FloatProgressModel",
          "state": {
            "_view_name": "ProgressView",
            "style": "IPY_MODEL_7c409b99329d4e638fcdc19e5c4946b2",
            "_dom_classes": [],
            "description": "Downloading: 100%",
            "_model_name": "FloatProgressModel",
            "bar_style": "success",
            "max": 1465772,
            "_view_module": "@jupyter-widgets/controls",
            "_model_module_version": "1.5.0",
            "value": 1465772,
            "_view_count": null,
            "_view_module_version": "1.5.0",
            "orientation": "horizontal",
            "min": 0,
            "description_tooltip": null,
            "_model_module": "@jupyter-widgets/controls",
            "layout": "IPY_MODEL_f8dd83e99fed4446866ec5c806dfb28b"
          }
        },
        "ad29c65459f44e51aab33f88223b7d79": {
          "model_module": "@jupyter-widgets/controls",
          "model_name": "HTMLModel",
          "state": {
            "_view_name": "HTMLView",
            "style": "IPY_MODEL_7aa7961906e845d792cf9dc95a199be9",
            "_dom_classes": [],
            "description": "",
            "_model_name": "HTMLModel",
            "placeholder": "​",
            "_view_module": "@jupyter-widgets/controls",
            "_model_module_version": "1.5.0",
            "value": " 1.47M/1.47M [00:03&lt;00:00, 380kB/s]",
            "_view_count": null,
            "_view_module_version": "1.5.0",
            "description_tooltip": null,
            "_model_module": "@jupyter-widgets/controls",
            "layout": "IPY_MODEL_14da8b2257b141faab665ef9edd5af89"
          }
        },
        "7c409b99329d4e638fcdc19e5c4946b2": {
          "model_module": "@jupyter-widgets/controls",
          "model_name": "ProgressStyleModel",
          "state": {
            "_view_name": "StyleView",
            "_model_name": "ProgressStyleModel",
            "description_width": "initial",
            "_view_module": "@jupyter-widgets/base",
            "_model_module_version": "1.5.0",
            "_view_count": null,
            "_view_module_version": "1.2.0",
            "bar_color": null,
            "_model_module": "@jupyter-widgets/controls"
          }
        },
        "f8dd83e99fed4446866ec5c806dfb28b": {
          "model_module": "@jupyter-widgets/base",
          "model_name": "LayoutModel",
          "state": {
            "_view_name": "LayoutView",
            "grid_template_rows": null,
            "right": null,
            "justify_content": null,
            "_view_module": "@jupyter-widgets/base",
            "overflow": null,
            "_model_module_version": "1.2.0",
            "_view_count": null,
            "flex_flow": null,
            "width": null,
            "min_width": null,
            "border": null,
            "align_items": null,
            "bottom": null,
            "_model_module": "@jupyter-widgets/base",
            "top": null,
            "grid_column": null,
            "overflow_y": null,
            "overflow_x": null,
            "grid_auto_flow": null,
            "grid_area": null,
            "grid_template_columns": null,
            "flex": null,
            "_model_name": "LayoutModel",
            "justify_items": null,
            "grid_row": null,
            "max_height": null,
            "align_content": null,
            "visibility": null,
            "align_self": null,
            "height": null,
            "min_height": null,
            "padding": null,
            "grid_auto_rows": null,
            "grid_gap": null,
            "max_width": null,
            "order": null,
            "_view_module_version": "1.2.0",
            "grid_template_areas": null,
            "object_position": null,
            "object_fit": null,
            "grid_auto_columns": null,
            "margin": null,
            "display": null,
            "left": null
          }
        },
        "7aa7961906e845d792cf9dc95a199be9": {
          "model_module": "@jupyter-widgets/controls",
          "model_name": "DescriptionStyleModel",
          "state": {
            "_view_name": "StyleView",
            "_model_name": "DescriptionStyleModel",
            "description_width": "",
            "_view_module": "@jupyter-widgets/base",
            "_model_module_version": "1.5.0",
            "_view_count": null,
            "_view_module_version": "1.2.0",
            "_model_module": "@jupyter-widgets/controls"
          }
        },
        "14da8b2257b141faab665ef9edd5af89": {
          "model_module": "@jupyter-widgets/base",
          "model_name": "LayoutModel",
          "state": {
            "_view_name": "LayoutView",
            "grid_template_rows": null,
            "right": null,
            "justify_content": null,
            "_view_module": "@jupyter-widgets/base",
            "overflow": null,
            "_model_module_version": "1.2.0",
            "_view_count": null,
            "flex_flow": null,
            "width": null,
            "min_width": null,
            "border": null,
            "align_items": null,
            "bottom": null,
            "_model_module": "@jupyter-widgets/base",
            "top": null,
            "grid_column": null,
            "overflow_y": null,
            "overflow_x": null,
            "grid_auto_flow": null,
            "grid_area": null,
            "grid_template_columns": null,
            "flex": null,
            "_model_name": "LayoutModel",
            "justify_items": null,
            "grid_row": null,
            "max_height": null,
            "align_content": null,
            "visibility": null,
            "align_self": null,
            "height": null,
            "min_height": null,
            "padding": null,
            "grid_auto_rows": null,
            "grid_gap": null,
            "max_width": null,
            "order": null,
            "_view_module_version": "1.2.0",
            "grid_template_areas": null,
            "object_position": null,
            "object_fit": null,
            "grid_auto_columns": null,
            "margin": null,
            "display": null,
            "left": null
          }
        },
        "54340e10aa1a4052a272bdb24431fc77": {
          "model_module": "@jupyter-widgets/controls",
          "model_name": "HBoxModel",
          "state": {
            "_view_name": "HBoxView",
            "_dom_classes": [],
            "_model_name": "HBoxModel",
            "_view_module": "@jupyter-widgets/controls",
            "_model_module_version": "1.5.0",
            "_view_count": null,
            "_view_module_version": "1.5.0",
            "box_style": "",
            "layout": "IPY_MODEL_4657827e4ce5450ca1140f3b386a008e",
            "_model_module": "@jupyter-widgets/controls",
            "children": [
              "IPY_MODEL_961cb19e0e7444bb9748c5dfa4feaeaf",
              "IPY_MODEL_97135e8df68547119aff464e3bd80591"
            ]
          }
        },
        "4657827e4ce5450ca1140f3b386a008e": {
          "model_module": "@jupyter-widgets/base",
          "model_name": "LayoutModel",
          "state": {
            "_view_name": "LayoutView",
            "grid_template_rows": null,
            "right": null,
            "justify_content": null,
            "_view_module": "@jupyter-widgets/base",
            "overflow": null,
            "_model_module_version": "1.2.0",
            "_view_count": null,
            "flex_flow": null,
            "width": null,
            "min_width": null,
            "border": null,
            "align_items": null,
            "bottom": null,
            "_model_module": "@jupyter-widgets/base",
            "top": null,
            "grid_column": null,
            "overflow_y": null,
            "overflow_x": null,
            "grid_auto_flow": null,
            "grid_area": null,
            "grid_template_columns": null,
            "flex": null,
            "_model_name": "LayoutModel",
            "justify_items": null,
            "grid_row": null,
            "max_height": null,
            "align_content": null,
            "visibility": null,
            "align_self": null,
            "height": null,
            "min_height": null,
            "padding": null,
            "grid_auto_rows": null,
            "grid_gap": null,
            "max_width": null,
            "order": null,
            "_view_module_version": "1.2.0",
            "grid_template_areas": null,
            "object_position": null,
            "object_fit": null,
            "grid_auto_columns": null,
            "margin": null,
            "display": null,
            "left": null
          }
        },
        "961cb19e0e7444bb9748c5dfa4feaeaf": {
          "model_module": "@jupyter-widgets/controls",
          "model_name": "FloatProgressModel",
          "state": {
            "_view_name": "ProgressView",
            "style": "IPY_MODEL_df656ec9ea754dff9088af93adb214b1",
            "_dom_classes": [],
            "description": "Downloading: 100%",
            "_model_name": "FloatProgressModel",
            "bar_style": "success",
            "max": 42,
            "_view_module": "@jupyter-widgets/controls",
            "_model_module_version": "1.5.0",
            "value": 42,
            "_view_count": null,
            "_view_module_version": "1.5.0",
            "orientation": "horizontal",
            "min": 0,
            "description_tooltip": null,
            "_model_module": "@jupyter-widgets/controls",
            "layout": "IPY_MODEL_863a32fe512f4634a9042a2c15429cb7"
          }
        },
        "97135e8df68547119aff464e3bd80591": {
          "model_module": "@jupyter-widgets/controls",
          "model_name": "HTMLModel",
          "state": {
            "_view_name": "HTMLView",
            "style": "IPY_MODEL_6c67a11f1fbf4c2fb3ec6c8c01d42e98",
            "_dom_classes": [],
            "description": "",
            "_model_name": "HTMLModel",
            "placeholder": "​",
            "_view_module": "@jupyter-widgets/controls",
            "_model_module_version": "1.5.0",
            "value": " 42.0/42.0 [00:02&lt;00:00, 20.1B/s]",
            "_view_count": null,
            "_view_module_version": "1.5.0",
            "description_tooltip": null,
            "_model_module": "@jupyter-widgets/controls",
            "layout": "IPY_MODEL_e5292e14af5d4a1c898b0d3b448830ce"
          }
        },
        "df656ec9ea754dff9088af93adb214b1": {
          "model_module": "@jupyter-widgets/controls",
          "model_name": "ProgressStyleModel",
          "state": {
            "_view_name": "StyleView",
            "_model_name": "ProgressStyleModel",
            "description_width": "initial",
            "_view_module": "@jupyter-widgets/base",
            "_model_module_version": "1.5.0",
            "_view_count": null,
            "_view_module_version": "1.2.0",
            "bar_color": null,
            "_model_module": "@jupyter-widgets/controls"
          }
        },
        "863a32fe512f4634a9042a2c15429cb7": {
          "model_module": "@jupyter-widgets/base",
          "model_name": "LayoutModel",
          "state": {
            "_view_name": "LayoutView",
            "grid_template_rows": null,
            "right": null,
            "justify_content": null,
            "_view_module": "@jupyter-widgets/base",
            "overflow": null,
            "_model_module_version": "1.2.0",
            "_view_count": null,
            "flex_flow": null,
            "width": null,
            "min_width": null,
            "border": null,
            "align_items": null,
            "bottom": null,
            "_model_module": "@jupyter-widgets/base",
            "top": null,
            "grid_column": null,
            "overflow_y": null,
            "overflow_x": null,
            "grid_auto_flow": null,
            "grid_area": null,
            "grid_template_columns": null,
            "flex": null,
            "_model_name": "LayoutModel",
            "justify_items": null,
            "grid_row": null,
            "max_height": null,
            "align_content": null,
            "visibility": null,
            "align_self": null,
            "height": null,
            "min_height": null,
            "padding": null,
            "grid_auto_rows": null,
            "grid_gap": null,
            "max_width": null,
            "order": null,
            "_view_module_version": "1.2.0",
            "grid_template_areas": null,
            "object_position": null,
            "object_fit": null,
            "grid_auto_columns": null,
            "margin": null,
            "display": null,
            "left": null
          }
        },
        "6c67a11f1fbf4c2fb3ec6c8c01d42e98": {
          "model_module": "@jupyter-widgets/controls",
          "model_name": "DescriptionStyleModel",
          "state": {
            "_view_name": "StyleView",
            "_model_name": "DescriptionStyleModel",
            "description_width": "",
            "_view_module": "@jupyter-widgets/base",
            "_model_module_version": "1.5.0",
            "_view_count": null,
            "_view_module_version": "1.2.0",
            "_model_module": "@jupyter-widgets/controls"
          }
        },
        "e5292e14af5d4a1c898b0d3b448830ce": {
          "model_module": "@jupyter-widgets/base",
          "model_name": "LayoutModel",
          "state": {
            "_view_name": "LayoutView",
            "grid_template_rows": null,
            "right": null,
            "justify_content": null,
            "_view_module": "@jupyter-widgets/base",
            "overflow": null,
            "_model_module_version": "1.2.0",
            "_view_count": null,
            "flex_flow": null,
            "width": null,
            "min_width": null,
            "border": null,
            "align_items": null,
            "bottom": null,
            "_model_module": "@jupyter-widgets/base",
            "top": null,
            "grid_column": null,
            "overflow_y": null,
            "overflow_x": null,
            "grid_auto_flow": null,
            "grid_area": null,
            "grid_template_columns": null,
            "flex": null,
            "_model_name": "LayoutModel",
            "justify_items": null,
            "grid_row": null,
            "max_height": null,
            "align_content": null,
            "visibility": null,
            "align_self": null,
            "height": null,
            "min_height": null,
            "padding": null,
            "grid_auto_rows": null,
            "grid_gap": null,
            "max_width": null,
            "order": null,
            "_view_module_version": "1.2.0",
            "grid_template_areas": null,
            "object_position": null,
            "object_fit": null,
            "grid_auto_columns": null,
            "margin": null,
            "display": null,
            "left": null
          }
        },
        "03ac0c0f5f564b708271cfa9ad6f30d9": {
          "model_module": "@jupyter-widgets/controls",
          "model_name": "HBoxModel",
          "state": {
            "_view_name": "HBoxView",
            "_dom_classes": [],
            "_model_name": "HBoxModel",
            "_view_module": "@jupyter-widgets/controls",
            "_model_module_version": "1.5.0",
            "_view_count": null,
            "_view_module_version": "1.5.0",
            "box_style": "",
            "layout": "IPY_MODEL_dd8dff3d11494890995640af4c51d769",
            "_model_module": "@jupyter-widgets/controls",
            "children": [
              "IPY_MODEL_5634a641e0124c3395d794d1dd23f90f",
              "IPY_MODEL_1e7cab0593ab4508bcb47593c441dd6b"
            ]
          }
        },
        "dd8dff3d11494890995640af4c51d769": {
          "model_module": "@jupyter-widgets/base",
          "model_name": "LayoutModel",
          "state": {
            "_view_name": "LayoutView",
            "grid_template_rows": null,
            "right": null,
            "justify_content": null,
            "_view_module": "@jupyter-widgets/base",
            "overflow": null,
            "_model_module_version": "1.2.0",
            "_view_count": null,
            "flex_flow": null,
            "width": null,
            "min_width": null,
            "border": null,
            "align_items": null,
            "bottom": null,
            "_model_module": "@jupyter-widgets/base",
            "top": null,
            "grid_column": null,
            "overflow_y": null,
            "overflow_x": null,
            "grid_auto_flow": null,
            "grid_area": null,
            "grid_template_columns": null,
            "flex": null,
            "_model_name": "LayoutModel",
            "justify_items": null,
            "grid_row": null,
            "max_height": null,
            "align_content": null,
            "visibility": null,
            "align_self": null,
            "height": null,
            "min_height": null,
            "padding": null,
            "grid_auto_rows": null,
            "grid_gap": null,
            "max_width": null,
            "order": null,
            "_view_module_version": "1.2.0",
            "grid_template_areas": null,
            "object_position": null,
            "object_fit": null,
            "grid_auto_columns": null,
            "margin": null,
            "display": null,
            "left": null
          }
        },
        "5634a641e0124c3395d794d1dd23f90f": {
          "model_module": "@jupyter-widgets/controls",
          "model_name": "FloatProgressModel",
          "state": {
            "_view_name": "ProgressView",
            "style": "IPY_MODEL_13e2a9aa7aee4c24ade5e44cd180d859",
            "_dom_classes": [],
            "description": "Downloading: 100%",
            "_model_name": "FloatProgressModel",
            "bar_style": "success",
            "max": 1133,
            "_view_module": "@jupyter-widgets/controls",
            "_model_module_version": "1.5.0",
            "value": 1133,
            "_view_count": null,
            "_view_module_version": "1.5.0",
            "orientation": "horizontal",
            "min": 0,
            "description_tooltip": null,
            "_model_module": "@jupyter-widgets/controls",
            "layout": "IPY_MODEL_f7eaf4c398e64f5f938199379b891174"
          }
        },
        "1e7cab0593ab4508bcb47593c441dd6b": {
          "model_module": "@jupyter-widgets/controls",
          "model_name": "HTMLModel",
          "state": {
            "_view_name": "HTMLView",
            "style": "IPY_MODEL_e12e8cd2a2d34a61955cb50bba554f44",
            "_dom_classes": [],
            "description": "",
            "_model_name": "HTMLModel",
            "placeholder": "​",
            "_view_module": "@jupyter-widgets/controls",
            "_model_module_version": "1.5.0",
            "value": " 1.13k/1.13k [00:06&lt;00:00, 183B/s]",
            "_view_count": null,
            "_view_module_version": "1.5.0",
            "description_tooltip": null,
            "_model_module": "@jupyter-widgets/controls",
            "layout": "IPY_MODEL_4e252ea806ec4526b1b52d54884508d3"
          }
        },
        "13e2a9aa7aee4c24ade5e44cd180d859": {
          "model_module": "@jupyter-widgets/controls",
          "model_name": "ProgressStyleModel",
          "state": {
            "_view_name": "StyleView",
            "_model_name": "ProgressStyleModel",
            "description_width": "initial",
            "_view_module": "@jupyter-widgets/base",
            "_model_module_version": "1.5.0",
            "_view_count": null,
            "_view_module_version": "1.2.0",
            "bar_color": null,
            "_model_module": "@jupyter-widgets/controls"
          }
        },
        "f7eaf4c398e64f5f938199379b891174": {
          "model_module": "@jupyter-widgets/base",
          "model_name": "LayoutModel",
          "state": {
            "_view_name": "LayoutView",
            "grid_template_rows": null,
            "right": null,
            "justify_content": null,
            "_view_module": "@jupyter-widgets/base",
            "overflow": null,
            "_model_module_version": "1.2.0",
            "_view_count": null,
            "flex_flow": null,
            "width": null,
            "min_width": null,
            "border": null,
            "align_items": null,
            "bottom": null,
            "_model_module": "@jupyter-widgets/base",
            "top": null,
            "grid_column": null,
            "overflow_y": null,
            "overflow_x": null,
            "grid_auto_flow": null,
            "grid_area": null,
            "grid_template_columns": null,
            "flex": null,
            "_model_name": "LayoutModel",
            "justify_items": null,
            "grid_row": null,
            "max_height": null,
            "align_content": null,
            "visibility": null,
            "align_self": null,
            "height": null,
            "min_height": null,
            "padding": null,
            "grid_auto_rows": null,
            "grid_gap": null,
            "max_width": null,
            "order": null,
            "_view_module_version": "1.2.0",
            "grid_template_areas": null,
            "object_position": null,
            "object_fit": null,
            "grid_auto_columns": null,
            "margin": null,
            "display": null,
            "left": null
          }
        },
        "e12e8cd2a2d34a61955cb50bba554f44": {
          "model_module": "@jupyter-widgets/controls",
          "model_name": "DescriptionStyleModel",
          "state": {
            "_view_name": "StyleView",
            "_model_name": "DescriptionStyleModel",
            "description_width": "",
            "_view_module": "@jupyter-widgets/base",
            "_model_module_version": "1.5.0",
            "_view_count": null,
            "_view_module_version": "1.2.0",
            "_model_module": "@jupyter-widgets/controls"
          }
        },
        "4e252ea806ec4526b1b52d54884508d3": {
          "model_module": "@jupyter-widgets/base",
          "model_name": "LayoutModel",
          "state": {
            "_view_name": "LayoutView",
            "grid_template_rows": null,
            "right": null,
            "justify_content": null,
            "_view_module": "@jupyter-widgets/base",
            "overflow": null,
            "_model_module_version": "1.2.0",
            "_view_count": null,
            "flex_flow": null,
            "width": null,
            "min_width": null,
            "border": null,
            "align_items": null,
            "bottom": null,
            "_model_module": "@jupyter-widgets/base",
            "top": null,
            "grid_column": null,
            "overflow_y": null,
            "overflow_x": null,
            "grid_auto_flow": null,
            "grid_area": null,
            "grid_template_columns": null,
            "flex": null,
            "_model_name": "LayoutModel",
            "justify_items": null,
            "grid_row": null,
            "max_height": null,
            "align_content": null,
            "visibility": null,
            "align_self": null,
            "height": null,
            "min_height": null,
            "padding": null,
            "grid_auto_rows": null,
            "grid_gap": null,
            "max_width": null,
            "order": null,
            "_view_module_version": "1.2.0",
            "grid_template_areas": null,
            "object_position": null,
            "object_fit": null,
            "grid_auto_columns": null,
            "margin": null,
            "display": null,
            "left": null
          }
        },
        "b4253e6312504302920ac9bbf8f9b6af": {
          "model_module": "@jupyter-widgets/controls",
          "model_name": "HBoxModel",
          "state": {
            "_view_name": "HBoxView",
            "_dom_classes": [],
            "_model_name": "HBoxModel",
            "_view_module": "@jupyter-widgets/controls",
            "_model_module_version": "1.5.0",
            "_view_count": null,
            "_view_module_version": "1.5.0",
            "box_style": "",
            "layout": "IPY_MODEL_066cc4bc15c24713af358461dbf80d31",
            "_model_module": "@jupyter-widgets/controls",
            "children": [
              "IPY_MODEL_2995eaac89c340a4a4f1c9edcd480c1a",
              "IPY_MODEL_4141006e79ea47ad8a1ce823d5ce61cb"
            ]
          }
        },
        "066cc4bc15c24713af358461dbf80d31": {
          "model_module": "@jupyter-widgets/base",
          "model_name": "LayoutModel",
          "state": {
            "_view_name": "LayoutView",
            "grid_template_rows": null,
            "right": null,
            "justify_content": null,
            "_view_module": "@jupyter-widgets/base",
            "overflow": null,
            "_model_module_version": "1.2.0",
            "_view_count": null,
            "flex_flow": null,
            "width": null,
            "min_width": null,
            "border": null,
            "align_items": null,
            "bottom": null,
            "_model_module": "@jupyter-widgets/base",
            "top": null,
            "grid_column": null,
            "overflow_y": null,
            "overflow_x": null,
            "grid_auto_flow": null,
            "grid_area": null,
            "grid_template_columns": null,
            "flex": null,
            "_model_name": "LayoutModel",
            "justify_items": null,
            "grid_row": null,
            "max_height": null,
            "align_content": null,
            "visibility": null,
            "align_self": null,
            "height": null,
            "min_height": null,
            "padding": null,
            "grid_auto_rows": null,
            "grid_gap": null,
            "max_width": null,
            "order": null,
            "_view_module_version": "1.2.0",
            "grid_template_areas": null,
            "object_position": null,
            "object_fit": null,
            "grid_auto_columns": null,
            "margin": null,
            "display": null,
            "left": null
          }
        },
        "2995eaac89c340a4a4f1c9edcd480c1a": {
          "model_module": "@jupyter-widgets/controls",
          "model_name": "FloatProgressModel",
          "state": {
            "_view_name": "ProgressView",
            "style": "IPY_MODEL_0ac2c5dd29404ac294f5bbc3b7f38356",
            "_dom_classes": [],
            "description": "Downloading: 100%",
            "_model_name": "FloatProgressModel",
            "bar_style": "success",
            "max": 304494609,
            "_view_module": "@jupyter-widgets/controls",
            "_model_module_version": "1.5.0",
            "value": 304494609,
            "_view_count": null,
            "_view_module_version": "1.5.0",
            "orientation": "horizontal",
            "min": 0,
            "description_tooltip": null,
            "_model_module": "@jupyter-widgets/controls",
            "layout": "IPY_MODEL_0b9d5219c34144c19569a2adb9524ccb"
          }
        },
        "4141006e79ea47ad8a1ce823d5ce61cb": {
          "model_module": "@jupyter-widgets/controls",
          "model_name": "HTMLModel",
          "state": {
            "_view_name": "HTMLView",
            "style": "IPY_MODEL_87f84eb4baa74249be2f0d51ea219a7b",
            "_dom_classes": [],
            "description": "",
            "_model_name": "HTMLModel",
            "placeholder": "​",
            "_view_module": "@jupyter-widgets/controls",
            "_model_module_version": "1.5.0",
            "value": " 304M/304M [00:05&lt;00:00, 54.2MB/s]",
            "_view_count": null,
            "_view_module_version": "1.5.0",
            "description_tooltip": null,
            "_model_module": "@jupyter-widgets/controls",
            "layout": "IPY_MODEL_cf00608008de4c7d8b1820ccf7b60fd0"
          }
        },
        "0ac2c5dd29404ac294f5bbc3b7f38356": {
          "model_module": "@jupyter-widgets/controls",
          "model_name": "ProgressStyleModel",
          "state": {
            "_view_name": "StyleView",
            "_model_name": "ProgressStyleModel",
            "description_width": "initial",
            "_view_module": "@jupyter-widgets/base",
            "_model_module_version": "1.5.0",
            "_view_count": null,
            "_view_module_version": "1.2.0",
            "bar_color": null,
            "_model_module": "@jupyter-widgets/controls"
          }
        },
        "0b9d5219c34144c19569a2adb9524ccb": {
          "model_module": "@jupyter-widgets/base",
          "model_name": "LayoutModel",
          "state": {
            "_view_name": "LayoutView",
            "grid_template_rows": null,
            "right": null,
            "justify_content": null,
            "_view_module": "@jupyter-widgets/base",
            "overflow": null,
            "_model_module_version": "1.2.0",
            "_view_count": null,
            "flex_flow": null,
            "width": null,
            "min_width": null,
            "border": null,
            "align_items": null,
            "bottom": null,
            "_model_module": "@jupyter-widgets/base",
            "top": null,
            "grid_column": null,
            "overflow_y": null,
            "overflow_x": null,
            "grid_auto_flow": null,
            "grid_area": null,
            "grid_template_columns": null,
            "flex": null,
            "_model_name": "LayoutModel",
            "justify_items": null,
            "grid_row": null,
            "max_height": null,
            "align_content": null,
            "visibility": null,
            "align_self": null,
            "height": null,
            "min_height": null,
            "padding": null,
            "grid_auto_rows": null,
            "grid_gap": null,
            "max_width": null,
            "order": null,
            "_view_module_version": "1.2.0",
            "grid_template_areas": null,
            "object_position": null,
            "object_fit": null,
            "grid_auto_columns": null,
            "margin": null,
            "display": null,
            "left": null
          }
        },
        "87f84eb4baa74249be2f0d51ea219a7b": {
          "model_module": "@jupyter-widgets/controls",
          "model_name": "DescriptionStyleModel",
          "state": {
            "_view_name": "StyleView",
            "_model_name": "DescriptionStyleModel",
            "description_width": "",
            "_view_module": "@jupyter-widgets/base",
            "_model_module_version": "1.5.0",
            "_view_count": null,
            "_view_module_version": "1.2.0",
            "_model_module": "@jupyter-widgets/controls"
          }
        },
        "cf00608008de4c7d8b1820ccf7b60fd0": {
          "model_module": "@jupyter-widgets/base",
          "model_name": "LayoutModel",
          "state": {
            "_view_name": "LayoutView",
            "grid_template_rows": null,
            "right": null,
            "justify_content": null,
            "_view_module": "@jupyter-widgets/base",
            "overflow": null,
            "_model_module_version": "1.2.0",
            "_view_count": null,
            "flex_flow": null,
            "width": null,
            "min_width": null,
            "border": null,
            "align_items": null,
            "bottom": null,
            "_model_module": "@jupyter-widgets/base",
            "top": null,
            "grid_column": null,
            "overflow_y": null,
            "overflow_x": null,
            "grid_auto_flow": null,
            "grid_area": null,
            "grid_template_columns": null,
            "flex": null,
            "_model_name": "LayoutModel",
            "justify_items": null,
            "grid_row": null,
            "max_height": null,
            "align_content": null,
            "visibility": null,
            "align_self": null,
            "height": null,
            "min_height": null,
            "padding": null,
            "grid_auto_rows": null,
            "grid_gap": null,
            "max_width": null,
            "order": null,
            "_view_module_version": "1.2.0",
            "grid_template_areas": null,
            "object_position": null,
            "object_fit": null,
            "grid_auto_columns": null,
            "margin": null,
            "display": null,
            "left": null
          }
        }
      }
    }
  },
  "cells": [
    {
      "cell_type": "code",
      "metadata": {
        "id": "iV6xIPxjghRa",
        "colab_type": "code",
        "colab": {
          "base_uri": "https://localhost:8080/",
          "height": 51
        },
        "outputId": "fad5f05b-9581-464e-8899-0df7493f0f15"
      },
      "source": [
        "! pip install jsonlines\n",
        "import json\n",
        "import jsonlines\n",
        "import re\n",
        "import numpy as np\n",
        "import pandas as pd"
      ],
      "execution_count": 35,
      "outputs": [
        {
          "output_type": "stream",
          "text": [
            "Requirement already satisfied: jsonlines in /usr/local/lib/python3.6/dist-packages (1.2.0)\n",
            "Requirement already satisfied: six in /usr/local/lib/python3.6/dist-packages (from jsonlines) (1.15.0)\n"
          ],
          "name": "stdout"
        }
      ]
    },
    {
      "cell_type": "markdown",
      "metadata": {
        "id": "nZt0bQrS8sJo",
        "colab_type": "text"
      },
      "source": [
        "# Данные"
      ]
    },
    {
      "cell_type": "code",
      "metadata": {
        "id": "IGh-PIYGwppR",
        "colab_type": "code",
        "colab": {
          "base_uri": "https://localhost:8080/",
          "height": 1000
        },
        "outputId": "1efb4a56-f21f-4be1-d842-6dd511edb861"
      },
      "source": [
        "! wget https://dl.fbaipublicfiles.com/LAMA/data.zip\n",
        "! unzip data.zip\n",
        "! wget https://dl.fbaipublicfiles.com/MLQA/MLQA_V1.zip\n",
        "! unzip /content/MLQA_V1.zip\n",
        "\n",
        "! wget http://files.deeppavlov.ai/datasets/sber_squad-v1.1.tar.gz\n",
        "! tar xf /content/sber_squad-v1.1.tar.gz"
      ],
      "execution_count": null,
      "outputs": [
        {
          "output_type": "stream",
          "text": [
            "--2020-08-22 12:58:21--  https://dl.fbaipublicfiles.com/LAMA/data.zip\n",
            "Resolving dl.fbaipublicfiles.com (dl.fbaipublicfiles.com)... 104.22.74.142, 104.22.75.142, 172.67.9.4, ...\n",
            "Connecting to dl.fbaipublicfiles.com (dl.fbaipublicfiles.com)|104.22.74.142|:443... connected.\n",
            "HTTP request sent, awaiting response... 200 OK\n",
            "Length: 74619466 (71M) [application/zip]\n",
            "Saving to: ‘data.zip’\n",
            "\n",
            "data.zip            100%[===================>]  71.16M  12.0MB/s    in 7.1s    \n",
            "\n",
            "2020-08-22 12:58:30 (10.1 MB/s) - ‘data.zip’ saved [74619466/74619466]\n",
            "\n",
            "Archive:  data.zip\n",
            "   creating: data/\n",
            "   creating: data/Google_RE/\n",
            "  inflating: data/Google_RE/place_of_birth_test.jsonl  \n",
            "  inflating: data/Google_RE/date_of_birth_test.jsonl  \n",
            "  inflating: data/Google_RE/place_of_death_test.jsonl  \n",
            "   creating: data/Squad/\n",
            "  inflating: data/Squad/test.jsonl   \n",
            "  inflating: data/relations.jsonl    \n",
            "   creating: data/ConceptNet/\n",
            "  inflating: data/ConceptNet/test.jsonl  \n",
            "   creating: data/TREx/\n",
            "  inflating: data/TREx/P740.jsonl    \n",
            "  inflating: data/TREx/P108.jsonl    \n",
            "  inflating: data/TREx/P190.jsonl    \n",
            "  inflating: data/TREx/P27.jsonl     \n",
            "  inflating: data/TREx/P1376.jsonl   \n",
            "  inflating: data/TREx/P131.jsonl    \n",
            "  inflating: data/TREx/P937.jsonl    \n",
            "  inflating: data/TREx/P176.jsonl    \n",
            "  inflating: data/TREx/P463.jsonl    \n",
            "  inflating: data/TREx/P20.jsonl     \n",
            "  inflating: data/TREx/P136.jsonl    \n",
            "  inflating: data/TREx/P39.jsonl     \n",
            "  inflating: data/TREx/P407.jsonl    \n",
            "  inflating: data/TREx/P527.jsonl    \n",
            "  inflating: data/TREx/P276.jsonl    \n",
            "  inflating: data/TREx/P19.jsonl     \n",
            "  inflating: data/TREx/P47.jsonl     \n",
            "  inflating: data/TREx/P101.jsonl    \n",
            "  inflating: data/TREx/P1303.jsonl   \n",
            "  inflating: data/TREx/P17.jsonl     \n",
            "  inflating: data/TREx/P127.jsonl    \n",
            "  inflating: data/TREx/P103.jsonl    \n",
            "  inflating: data/TREx/P31.jsonl     \n",
            "  inflating: data/TREx/P159.jsonl    \n",
            "  inflating: data/TREx/P530.jsonl    \n",
            "  inflating: data/TREx/P495.jsonl    \n",
            "  inflating: data/TREx/P37.jsonl     \n",
            "  inflating: data/TREx/P138.jsonl    \n",
            "  inflating: data/TREx/P361.jsonl    \n",
            "  inflating: data/TREx/P140.jsonl    \n",
            "  inflating: data/TREx/P1001.jsonl   \n",
            "  inflating: data/TREx/P30.jsonl     \n",
            "  inflating: data/TREx/P178.jsonl    \n",
            "  inflating: data/TREx/P279.jsonl    \n",
            "  inflating: data/TREx/P449.jsonl    \n",
            "  inflating: data/TREx/P364.jsonl    \n",
            "  inflating: data/TREx/P1412.jsonl   \n",
            "  inflating: data/TREx/P264.jsonl    \n",
            "  inflating: data/TREx/P36.jsonl     \n",
            "  inflating: data/TREx/P106.jsonl    \n",
            "  inflating: data/TREx/P413.jsonl    \n",
            "--2020-08-22 12:58:39--  https://dl.fbaipublicfiles.com/MLQA/MLQA_V1.zip\n",
            "Resolving dl.fbaipublicfiles.com (dl.fbaipublicfiles.com)... 104.22.74.142, 104.22.75.142, 172.67.9.4, ...\n",
            "Connecting to dl.fbaipublicfiles.com (dl.fbaipublicfiles.com)|104.22.74.142|:443... connected.\n",
            "HTTP request sent, awaiting response... 200 OK\n",
            "Length: 75719050 (72M) [application/zip]\n",
            "Saving to: ‘MLQA_V1.zip’\n",
            "\n",
            "MLQA_V1.zip         100%[===================>]  72.21M  11.4MB/s    in 7.6s    \n",
            "\n",
            "2020-08-22 12:58:47 (9.55 MB/s) - ‘MLQA_V1.zip’ saved [75719050/75719050]\n",
            "\n",
            "Archive:  /content/MLQA_V1.zip\n",
            "   creating: MLQA_V1/\n",
            "   creating: MLQA_V1/dev/\n",
            "  inflating: MLQA_V1/dev/dev-context-ar-question-ar.json  \n",
            "  inflating: MLQA_V1/dev/dev-context-ar-question-de.json  \n",
            "  inflating: MLQA_V1/dev/dev-context-ar-question-en.json  \n",
            "  inflating: MLQA_V1/dev/dev-context-ar-question-es.json  \n",
            "  inflating: MLQA_V1/dev/dev-context-ar-question-hi.json  \n",
            "  inflating: MLQA_V1/dev/dev-context-ar-question-vi.json  \n",
            "  inflating: MLQA_V1/dev/dev-context-ar-question-zh.json  \n",
            "  inflating: MLQA_V1/dev/dev-context-de-question-ar.json  \n",
            "  inflating: MLQA_V1/dev/dev-context-de-question-de.json  \n",
            "  inflating: MLQA_V1/dev/dev-context-de-question-en.json  \n",
            "  inflating: MLQA_V1/dev/dev-context-de-question-es.json  \n",
            "  inflating: MLQA_V1/dev/dev-context-de-question-hi.json  \n",
            "  inflating: MLQA_V1/dev/dev-context-de-question-vi.json  \n",
            "  inflating: MLQA_V1/dev/dev-context-de-question-zh.json  \n",
            "  inflating: MLQA_V1/dev/dev-context-en-question-ar.json  \n",
            "  inflating: MLQA_V1/dev/dev-context-en-question-de.json  \n",
            "  inflating: MLQA_V1/dev/dev-context-en-question-en.json  \n",
            "  inflating: MLQA_V1/dev/dev-context-en-question-es.json  \n",
            "  inflating: MLQA_V1/dev/dev-context-en-question-hi.json  \n",
            "  inflating: MLQA_V1/dev/dev-context-en-question-vi.json  \n",
            "  inflating: MLQA_V1/dev/dev-context-en-question-zh.json  \n",
            "  inflating: MLQA_V1/dev/dev-context-es-question-ar.json  \n",
            "  inflating: MLQA_V1/dev/dev-context-es-question-de.json  \n",
            "  inflating: MLQA_V1/dev/dev-context-es-question-en.json  \n",
            "  inflating: MLQA_V1/dev/dev-context-es-question-es.json  \n",
            "  inflating: MLQA_V1/dev/dev-context-es-question-hi.json  \n",
            "  inflating: MLQA_V1/dev/dev-context-es-question-vi.json  \n",
            "  inflating: MLQA_V1/dev/dev-context-es-question-zh.json  \n",
            "  inflating: MLQA_V1/dev/dev-context-hi-question-ar.json  \n",
            "  inflating: MLQA_V1/dev/dev-context-hi-question-de.json  \n",
            "  inflating: MLQA_V1/dev/dev-context-hi-question-en.json  \n",
            "  inflating: MLQA_V1/dev/dev-context-hi-question-es.json  \n",
            "  inflating: MLQA_V1/dev/dev-context-hi-question-hi.json  \n",
            "  inflating: MLQA_V1/dev/dev-context-hi-question-vi.json  \n",
            "  inflating: MLQA_V1/dev/dev-context-hi-question-zh.json  \n",
            "  inflating: MLQA_V1/dev/dev-context-vi-question-ar.json  \n",
            "  inflating: MLQA_V1/dev/dev-context-vi-question-de.json  \n",
            "  inflating: MLQA_V1/dev/dev-context-vi-question-en.json  \n",
            "  inflating: MLQA_V1/dev/dev-context-vi-question-es.json  \n",
            "  inflating: MLQA_V1/dev/dev-context-vi-question-hi.json  \n",
            "  inflating: MLQA_V1/dev/dev-context-vi-question-vi.json  \n",
            "  inflating: MLQA_V1/dev/dev-context-vi-question-zh.json  \n",
            "  inflating: MLQA_V1/dev/dev-context-zh-question-ar.json  \n",
            "  inflating: MLQA_V1/dev/dev-context-zh-question-de.json  \n",
            "  inflating: MLQA_V1/dev/dev-context-zh-question-en.json  \n",
            "  inflating: MLQA_V1/dev/dev-context-zh-question-es.json  \n",
            "  inflating: MLQA_V1/dev/dev-context-zh-question-hi.json  \n",
            "  inflating: MLQA_V1/dev/dev-context-zh-question-vi.json  \n",
            "  inflating: MLQA_V1/dev/dev-context-zh-question-zh.json  \n",
            "   creating: MLQA_V1/test/\n",
            "  inflating: MLQA_V1/test/test-context-ar-question-ar.json  \n",
            "  inflating: MLQA_V1/test/test-context-ar-question-de.json  \n",
            "  inflating: MLQA_V1/test/test-context-ar-question-en.json  \n",
            "  inflating: MLQA_V1/test/test-context-ar-question-es.json  \n",
            "  inflating: MLQA_V1/test/test-context-ar-question-hi.json  \n",
            "  inflating: MLQA_V1/test/test-context-ar-question-vi.json  \n",
            "  inflating: MLQA_V1/test/test-context-ar-question-zh.json  \n",
            "  inflating: MLQA_V1/test/test-context-de-question-ar.json  \n",
            "  inflating: MLQA_V1/test/test-context-de-question-de.json  \n",
            "  inflating: MLQA_V1/test/test-context-de-question-en.json  \n",
            "  inflating: MLQA_V1/test/test-context-de-question-es.json  \n",
            "  inflating: MLQA_V1/test/test-context-de-question-hi.json  \n",
            "  inflating: MLQA_V1/test/test-context-de-question-vi.json  \n",
            "  inflating: MLQA_V1/test/test-context-de-question-zh.json  \n",
            "  inflating: MLQA_V1/test/test-context-en-question-ar.json  \n",
            "  inflating: MLQA_V1/test/test-context-en-question-de.json  \n",
            "  inflating: MLQA_V1/test/test-context-en-question-en.json  \n",
            "  inflating: MLQA_V1/test/test-context-en-question-es.json  \n",
            "  inflating: MLQA_V1/test/test-context-en-question-hi.json  \n",
            "  inflating: MLQA_V1/test/test-context-en-question-vi.json  \n",
            "  inflating: MLQA_V1/test/test-context-en-question-zh.json  \n",
            "  inflating: MLQA_V1/test/test-context-es-question-ar.json  \n",
            "  inflating: MLQA_V1/test/test-context-es-question-de.json  \n",
            "  inflating: MLQA_V1/test/test-context-es-question-en.json  \n",
            "  inflating: MLQA_V1/test/test-context-es-question-es.json  \n",
            "  inflating: MLQA_V1/test/test-context-es-question-hi.json  \n",
            "  inflating: MLQA_V1/test/test-context-es-question-vi.json  \n",
            "  inflating: MLQA_V1/test/test-context-es-question-zh.json  \n",
            "  inflating: MLQA_V1/test/test-context-hi-question-ar.json  \n",
            "  inflating: MLQA_V1/test/test-context-hi-question-de.json  \n",
            "  inflating: MLQA_V1/test/test-context-hi-question-en.json  \n",
            "  inflating: MLQA_V1/test/test-context-hi-question-es.json  \n",
            "  inflating: MLQA_V1/test/test-context-hi-question-hi.json  \n",
            "  inflating: MLQA_V1/test/test-context-hi-question-vi.json  \n",
            "  inflating: MLQA_V1/test/test-context-hi-question-zh.json  \n",
            "  inflating: MLQA_V1/test/test-context-vi-question-ar.json  \n",
            "  inflating: MLQA_V1/test/test-context-vi-question-de.json  \n",
            "  inflating: MLQA_V1/test/test-context-vi-question-en.json  \n",
            "  inflating: MLQA_V1/test/test-context-vi-question-es.json  \n",
            "  inflating: MLQA_V1/test/test-context-vi-question-hi.json  \n",
            "  inflating: MLQA_V1/test/test-context-vi-question-vi.json  \n",
            "  inflating: MLQA_V1/test/test-context-vi-question-zh.json  \n",
            "  inflating: MLQA_V1/test/test-context-zh-question-ar.json  \n",
            "  inflating: MLQA_V1/test/test-context-zh-question-de.json  \n",
            "  inflating: MLQA_V1/test/test-context-zh-question-en.json  \n",
            "  inflating: MLQA_V1/test/test-context-zh-question-es.json  \n",
            "  inflating: MLQA_V1/test/test-context-zh-question-hi.json  \n",
            "  inflating: MLQA_V1/test/test-context-zh-question-vi.json  \n",
            "  inflating: MLQA_V1/test/test-context-zh-question-zh.json  \n",
            "  inflating: MLQA_V1/LICENSE         \n",
            "--2020-08-22 12:58:54--  http://files.deeppavlov.ai/datasets/sber_squad-v1.1.tar.gz\n",
            "Resolving files.deeppavlov.ai (files.deeppavlov.ai)... 93.175.29.74\n",
            "Connecting to files.deeppavlov.ai (files.deeppavlov.ai)|93.175.29.74|:80... connected.\n",
            "HTTP request sent, awaiting response... 200 OK\n",
            "Length: 22825727 (22M) [application/octet-stream]\n",
            "Saving to: ‘sber_squad-v1.1.tar.gz’\n",
            "\n",
            "sber_squad-v1.1.tar 100%[===================>]  21.77M  10.1MB/s    in 2.2s    \n",
            "\n",
            "2020-08-22 12:58:56 (10.1 MB/s) - ‘sber_squad-v1.1.tar.gz’ saved [22825727/22825727]\n",
            "\n"
          ],
          "name": "stdout"
        }
      ]
    },
    {
      "cell_type": "markdown",
      "metadata": {
        "id": "Gqd6GKtQVaVR",
        "colab_type": "text"
      },
      "source": [
        "Нужный формат"
      ]
    },
    {
      "cell_type": "code",
      "metadata": {
        "id": "o9k97y-xx4zL",
        "colab_type": "code",
        "colab": {
          "base_uri": "https://localhost:8080/",
          "height": 207
        },
        "outputId": "ca20c9a0-ed58-45e8-b951-45c6e15c9dd3"
      },
      "source": [
        "num_examples = 10\n",
        "with open('/content/data/Squad/test.jsonl') as f:\n",
        "  for line in f.readlines()[:num_examples]:\n",
        "    lama = json.loads(line)\n",
        "    print(lama)"
      ],
      "execution_count": null,
      "outputs": [
        {
          "output_type": "stream",
          "text": [
            "{'masked_sentences': ['To emphasize the 50th anniversary of the Super Bowl the [MASK] color was used.'], 'obj_label': 'gold', 'id': '56be4db0acb8001400a502f0_0', 'sub_label': 'Squad'}\n",
            "{'masked_sentences': ['Von Miller plays in [MASK] position for the Denver Broncos.'], 'obj_label': 'linebacker', 'id': '56bf17653aeaaa14008c9513_0', 'sub_label': 'Squad'}\n",
            "{'masked_sentences': ['The TGIF comedy Family Matters for the 1997-98 season was originally aired by [MASK].'], 'obj_label': 'CBS', 'id': '57273b69dd62a815002e99d8_0', 'sub_label': 'Squad'}\n",
            "{'masked_sentences': ['Thomas Davis broke his [MASK] during the NFC Championship Game.'], 'obj_label': 'arm', 'id': '56bf3a223aeaaa14008c9576_0', 'sub_label': 'Squad'}\n",
            "{'masked_sentences': ['The first choice in the NFL draft of 1998 was [MASK].'], 'obj_label': 'Manning', 'id': '56bf41013aeaaa14008c959b_0', 'sub_label': 'Squad'}\n",
            "{'masked_sentences': ['Newton played as [MASK] during Super Bowl 50.'], 'obj_label': 'quarterback', 'id': '56bf41013aeaaa14008c959e_0', 'sub_label': 'Squad'}\n",
            "{'masked_sentences': ['The Panthers head coach for the 2015 season was [MASK].'], 'obj_label': 'Rivera', 'id': '56d709ef0d65d21400198306_0', 'sub_label': 'Squad'}\n",
            "{'masked_sentences': ['Tucker plays as [MASK] with the Ravens.'], 'obj_label': 'kicker', 'id': '56bf467d3aeaaa14008c95a6_0', 'sub_label': 'Squad'}\n",
            "{'masked_sentences': ['The primary race of students attending Christian academies was [MASK].'], 'obj_label': 'white', 'id': '572757bef1498d1400e8f693_0', 'sub_label': 'Squad'}\n",
            "{'masked_sentences': ['The color of the jerseys in Super Bowl XXXII when Elway was quarterback was [MASK].'], 'obj_label': 'blue', 'id': '56d9a637dc89441400fdb698_0', 'sub_label': 'Squad'}\n"
          ],
          "name": "stdout"
        }
      ]
    },
    {
      "cell_type": "code",
      "metadata": {
        "id": "c2m0SSEzm99W",
        "colab_type": "code",
        "colab": {
          "base_uri": "https://localhost:8080/",
          "height": 34
        },
        "outputId": "4caacffa-9b2a-402c-d904-65681ca2f400"
      },
      "source": [
        "# ds = []\n",
        "# with open('/content/data/Squad/test.jsonl') as f:\n",
        "#   for line in f.readlines():\n",
        "#     lama = json.loads(line)\n",
        "#     ds.append(lama)\n",
        "\n",
        "# размер оригинального датасета со сквод\n",
        "len(ds)"
      ],
      "execution_count": null,
      "outputs": [
        {
          "output_type": "execute_result",
          "data": {
            "text/plain": [
              "305"
            ]
          },
          "metadata": {
            "tags": []
          },
          "execution_count": 7
        }
      ]
    },
    {
      "cell_type": "markdown",
      "metadata": {
        "id": "Z7fbyA5HVkls",
        "colab_type": "text"
      },
      "source": [
        "Отбор нужных предложений: берем только с одним токеном в ответе"
      ]
    },
    {
      "cell_type": "code",
      "metadata": {
        "id": "AcZzf2DcgXdr",
        "colab_type": "code",
        "colab": {}
      },
      "source": [
        "with open('/content/MLQA_V1/dev/dev-context-es-question-es.json') as f:\n",
        "  espanol = json.loads(f.read())\n",
        "\n",
        "with open('/content/MLQA_V1/test/test-context-es-question-es.json') as f:\n",
        "  espanol_test = json.loads(f.read())\n",
        "\n",
        "with open('/content/train-v1.1.json') as f:\n",
        "    rus = json.loads(f.read())\n",
        "\n",
        "with open('/content/dev-v1.1.json') as f:\n",
        "    rus_dev = json.loads(f.read())"
      ],
      "execution_count": null,
      "outputs": []
    },
    {
      "cell_type": "markdown",
      "metadata": {
        "id": "Jj6pYJ3ozqFb",
        "colab_type": "text"
      },
      "source": [
        "Русский язык"
      ]
    },
    {
      "cell_type": "code",
      "metadata": {
        "id": "w9tStVxh_LUJ",
        "colab_type": "code",
        "colab": {
          "base_uri": "https://localhost:8080/",
          "height": 34
        },
        "outputId": "362b8c9a-963b-41d8-ddc7-d39d18ecede5"
      },
      "source": [
        "good_questions_rus = []\n",
        "for chunk in rus['data']:\n",
        "  for sent in chunk['paragraphs']:\n",
        "    if len(sent['qas'][0]['answers'][0]['text'].split(' ')) == 1:\n",
        "      good_questions_rus.append(sent)\n",
        "len(good_questions_rus)"
      ],
      "execution_count": null,
      "outputs": [
        {
          "output_type": "execute_result",
          "data": {
            "text/plain": [
              "6906"
            ]
          },
          "metadata": {
            "tags": []
          },
          "execution_count": 14
        }
      ]
    },
    {
      "cell_type": "code",
      "metadata": {
        "id": "NOvnepkU_XVl",
        "colab_type": "code",
        "colab": {
          "base_uri": "https://localhost:8080/",
          "height": 697
        },
        "outputId": "4140ba0d-491c-47cc-8993-0075bf79b426"
      },
      "source": [
        "for chunk in good_questions_rus[:10]:\n",
        "    print(\"Question: {}\\nAnswer: {}\".format(chunk['qas'][0]['question'], chunk['qas'][0]['answers'][0]['text']))\n",
        "    print(chunk['qas'][0]['id'])\n",
        "    print()"
      ],
      "execution_count": null,
      "outputs": [
        {
          "output_type": "stream",
          "text": [
            "Question: Какие свойства в общем способно изменять смарт-стекло?\n",
            "Answer: оптические\n",
            "34107\n",
            "\n",
            "Question: В каком году Грибоедов написал водевиль Кто брат, кто сестра, или Обман за обманом ?\n",
            "Answer: 1823\n",
            "47731\n",
            "\n",
            "Question: Кем подтверждаются права на дворянские титулы в Лихтенштейне?\n",
            "Answer: Князем\n",
            "59780\n",
            "\n",
            "Question: С каким счётом закончилась первая официальная игра между сборными Германии и Швейцарии 5 апреля 1908 года?\n",
            "Answer: 5:3\n",
            "15788\n",
            "\n",
            "Question: К какому году PDP-10 уже устарели?\n",
            "Answer: 1980\n",
            "16088\n",
            "\n",
            "Question: Как, в соответствии с произношением гласного в корне слова dúona хлеб , называют носителей южножемайтских говоров?\n",
            "Answer: dū́nininkai\n",
            "82472\n",
            "\n",
            "Question: Одно из вымерших семейств змей?\n",
            "Answer: Madtsoiidae.\n",
            "82246\n",
            "\n",
            "Question: Как сбрасыают листву вечнозеленые деревья?\n",
            "Answer: порциями\n",
            "26678\n",
            "\n",
            "Question: Какое это вещество структурно?\n",
            "Answer: Аморфное\n",
            "12358\n",
            "\n",
            "Question: Что генерирует ядерный реактор?\n",
            "Answer: тепло\n",
            "29604\n",
            "\n"
          ],
          "name": "stdout"
        }
      ]
    },
    {
      "cell_type": "code",
      "metadata": {
        "id": "oKH9l6_e32BH",
        "colab_type": "code",
        "colab": {}
      },
      "source": [
        "good_questions_rus_dev = []\n",
        "for chunk in rus_dev['data']:\n",
        "  for sent in chunk['paragraphs']:\n",
        "    if len(sent['qas'][0]['answers'][0]['text'].split(' ')) == 1:\n",
        "      good_questions_rus_dev.append(sent)"
      ],
      "execution_count": null,
      "outputs": []
    },
    {
      "cell_type": "code",
      "metadata": {
        "id": "HVD6XyB04kBe",
        "colab_type": "code",
        "colab": {
          "base_uri": "https://localhost:8080/",
          "height": 697
        },
        "outputId": "be79510e-dab6-4b54-957a-d9eec4eeb2cd"
      },
      "source": [
        "for chunk in good_questions_rus_dev[:10]:\n",
        "    print(\"Question: {}\\nAnswer: {}\".format(chunk['qas'][0]['question'], chunk['qas'][0]['answers'][0]['text']))\n",
        "    print(chunk['qas'][0]['id'])\n",
        "    print()"
      ],
      "execution_count": null,
      "outputs": [
        {
          "output_type": "stream",
          "text": [
            "Question: Чем заболел Байрон в Миссолонги?\n",
            "Answer: лихорадкой\n",
            "12786\n",
            "\n",
            "Question: Как отводятся излишки тепла у млекопитающих?\n",
            "Answer: потоотделением\n",
            "39919\n",
            "\n",
            "Question: Какими русскими купцами был накоплен значимый торговый опыт?\n",
            "Answer: купцами-новгородцами\n",
            "37134\n",
            "\n",
            "Question: Какой язык стал церковным и государственным языком княжеств, в которые входили ставшие оседлыми влахи?\n",
            "Answer: церковнославянский\n",
            "41220\n",
            "\n",
            "Question: Какие индикаторы - дополнительные графики, формируемые на основе пересчёта значений, содержащихся в базовом графике цены?\n",
            "Answer: технические\n",
            "36699\n",
            "\n",
            "Question: Какие две торпеды были изготовлены в течение 1937—1938 гг. с электродвигателем мощностью 45 кВт?\n",
            "Answer: ЭТ-45\n",
            "72734\n",
            "\n",
            "Question: Кто увидел вражеский аэроплан во время розведки?\n",
            "Answer: лётчики\n",
            "31929\n",
            "\n",
            "Question: Каким уровнем генетического вклада можно оценить организм, потомство которого слабо и плохо размножаеться?\n",
            "Answer: низкими\n",
            "54643\n",
            "\n",
            "Question: Когда будет известна истинная оценка общего количества существующих видов чешуекрылых?\n",
            "Answer: никогда\n",
            "66927\n",
            "\n",
            "Question: Что такое параматма?\n",
            "Answer: сверхдуша\n",
            "12364\n",
            "\n"
          ],
          "name": "stdout"
        }
      ]
    },
    {
      "cell_type": "markdown",
      "metadata": {
        "id": "-zxTsNJxWiRB",
        "colab_type": "text"
      },
      "source": [
        "Далее отбор не зависимых от контеста предложений и составление из вопросительных утвердительных предложений (варианта автоматизироватьне нашлось, вручную)"
      ]
    },
    {
      "cell_type": "markdown",
      "metadata": {
        "id": "X6TGZBwMA1XO",
        "colab_type": "text"
      },
      "source": [
        "Испанский: шаги такие же"
      ]
    },
    {
      "cell_type": "code",
      "metadata": {
        "id": "Pc6N1if-58DC",
        "colab_type": "code",
        "colab": {
          "base_uri": "https://localhost:8080/",
          "height": 34
        },
        "outputId": "c76fca1b-1055-41bc-d391-baa3b7b3e1c4"
      },
      "source": [
        "good_questions_espanol = []\n",
        "for chunk in espanol['data']:\n",
        "  for sent in chunk['paragraphs']:\n",
        "    if len(sent['qas'][0]['answers'][0]['text'].split(' ')) == 1:\n",
        "      good_questions_espanol.append(sent)\n",
        "\n",
        "len(good_questions_espanol)"
      ],
      "execution_count": null,
      "outputs": [
        {
          "output_type": "execute_result",
          "data": {
            "text/plain": [
              "145"
            ]
          },
          "metadata": {
            "tags": []
          },
          "execution_count": 20
        }
      ]
    },
    {
      "cell_type": "code",
      "metadata": {
        "id": "F2lEWGzP7Fkc",
        "colab_type": "code",
        "colab": {
          "base_uri": "https://localhost:8080/",
          "height": 697
        },
        "outputId": "610643e1-fd01-4c56-9471-72c21215aa02"
      },
      "source": [
        "for chunk in good_questions_espanol[:10]:\n",
        "    print(\"Question: {}\\nAnswer: {}\".format(chunk['qas'][0]['question'], chunk['qas'][0]['answers'][0]['text']))\n",
        "    print(chunk['qas'][0]['id'])\n",
        "    print()"
      ],
      "execution_count": null,
      "outputs": [
        {
          "output_type": "stream",
          "text": [
            "Question: ¿Cuántos días están bajo cero en invierno?\n",
            "Answer: 40\n",
            "4c5d3e150b460d8b01cab7fc43d8343b6d2df1be\n",
            "\n",
            "Question: ¿En que alfabeto se escribía el kirguiso antes?\n",
            "Answer: árabe\n",
            "d6732b84ccc296fd04e20e4ac4a2a00817294b74\n",
            "\n",
            "Question: ¿Para qué idioma se ofrecen servicios de interpretación?\n",
            "Answer: kirguiso\n",
            "e3ef1715e6a22099d2a795d2ff2fb68212552391\n",
            "\n",
            "Question: ¿Cuál fue el nombre de su primer hijo?\n",
            "Answer: Guillermo\n",
            "08d5ad1cf72e3dd791ed788fe92cccb6d838fca2\n",
            "\n",
            "Question: ¿En qué año ocupó Prusia Holstein?\n",
            "Answer: 1866,\n",
            "ab51230ce444b86e3421b79ac50a28a4320c1e71\n",
            "\n",
            "Question: ¿Qué profesión tenía Gustav Freytag?\n",
            "Answer: escritor\n",
            "d78557a3727f5d8874b883b33e21581d562140fe\n",
            "\n",
            "Question: ¿Cuándo se construyó el aeropuerto Poznan-Lawica Henryk Wieniawki?\n",
            "Answer: 1913\n",
            "72a7a8aeddcc1a17e039b288766ca3793c1db9f9\n",
            "\n",
            "Question: ¿Con quién luchaba el jugador junto con su mayor enemigo?\n",
            "Answer: TCTF\n",
            "bf6e46e6e2f7b54c6e88819e976253236fa7db0c\n",
            "\n",
            "Question: ¿En qué año nació Traoré?\n",
            "Answer: 1974\n",
            "ea7b1a28ca38687ee4f693aba6d88143617af514\n",
            "\n",
            "Question: ¿En qué año falleció Robert Coleman Richardson?\n",
            "Answer: 2013\n",
            "0d72681df562d3b59f065130cdb302f51c10212e\n",
            "\n"
          ],
          "name": "stdout"
        }
      ]
    },
    {
      "cell_type": "code",
      "metadata": {
        "id": "05scby4k7h2e",
        "colab_type": "code",
        "colab": {
          "base_uri": "https://localhost:8080/",
          "height": 34
        },
        "outputId": "9d01499e-48b5-40bf-a1ed-4a332135d671"
      },
      "source": [
        "good_questions_espanol_test = []\n",
        "for chunk in espanol_test['data']:\n",
        "  for sent in chunk['paragraphs']:\n",
        "    if len(sent['qas'][0]['answers'][0]['text'].split(' ')) == 1:\n",
        "      good_questions_espanol_test.append(sent)\n",
        "len(good_questions_espanol_test)"
      ],
      "execution_count": null,
      "outputs": [
        {
          "output_type": "execute_result",
          "data": {
            "text/plain": [
              "1548"
            ]
          },
          "metadata": {
            "tags": []
          },
          "execution_count": 22
        }
      ]
    },
    {
      "cell_type": "code",
      "metadata": {
        "id": "KQb24l8b8LcU",
        "colab_type": "code",
        "colab": {
          "base_uri": "https://localhost:8080/",
          "height": 717
        },
        "outputId": "3f429c0d-e7c4-4328-c291-3377af0f4b0f"
      },
      "source": [
        "for chunk in good_questions_espanol[:10]:\n",
        "    print(\"Question: {}\\nAnswer: {}\".format(chunk['qas'][0]['question'], chunk['qas'][0]['answers'][0]['text']))\n",
        "    print(chunk['qas'][0]['id'])\n",
        "    print()"
      ],
      "execution_count": null,
      "outputs": [
        {
          "output_type": "stream",
          "text": [
            "Question: ¿Cuántos días están bajo cero en invierno?\n",
            "Answer: 40\n",
            "4c5d3e150b460d8b01cab7fc43d8343b6d2df1be\n",
            "\n",
            "Question: ¿En que alfabeto se escribía el kirguiso antes?\n",
            "Answer: árabe\n",
            "d6732b84ccc296fd04e20e4ac4a2a00817294b74\n",
            "\n",
            "Question: ¿Para qué idioma se ofrecen servicios de interpretación?\n",
            "Answer: kirguiso\n",
            "e3ef1715e6a22099d2a795d2ff2fb68212552391\n",
            "\n",
            "Question: ¿Cuál fue el nombre de su primer hijo?\n",
            "Answer: Guillermo\n",
            "08d5ad1cf72e3dd791ed788fe92cccb6d838fca2\n",
            "\n",
            "Question: ¿En qué año ocupó Prusia Holstein?\n",
            "Answer: 1866,\n",
            "ab51230ce444b86e3421b79ac50a28a4320c1e71\n",
            "\n",
            "Question: ¿Qué profesión tenía Gustav Freytag?\n",
            "Answer: escritor\n",
            "d78557a3727f5d8874b883b33e21581d562140fe\n",
            "\n",
            "Question: ¿Cuándo se construyó el aeropuerto Poznan-Lawica Henryk Wieniawki?\n",
            "Answer: 1913\n",
            "72a7a8aeddcc1a17e039b288766ca3793c1db9f9\n",
            "\n",
            "Question: ¿Con quién luchaba el jugador junto con su mayor enemigo?\n",
            "Answer: TCTF\n",
            "bf6e46e6e2f7b54c6e88819e976253236fa7db0c\n",
            "\n",
            "Question: ¿En qué año nació Traoré?\n",
            "Answer: 1974\n",
            "ea7b1a28ca38687ee4f693aba6d88143617af514\n",
            "\n",
            "Question: ¿En qué año falleció Robert Coleman Richardson?\n",
            "Answer: 2013\n",
            "0d72681df562d3b59f065130cdb302f51c10212e\n",
            "\n"
          ],
          "name": "stdout"
        }
      ]
    },
    {
      "cell_type": "markdown",
      "metadata": {
        "id": "5xgH9hfFdee6",
        "colab_type": "text"
      },
      "source": [
        "Данные были занесены в таблицу с колонками, соответствующим ключам из xLama (предложение, ответ, айди)"
      ]
    },
    {
      "cell_type": "code",
      "metadata": {
        "id": "H2XVVe9l03an",
        "colab_type": "code",
        "colab": {
          "base_uri": "https://localhost:8080/",
          "height": 34
        },
        "outputId": "52fb1579-57f1-49d5-9403-6779ee31d7d0"
      },
      "source": [
        "data_s = pd.read_excel(\"/content/Squad_rus.xls\")\n",
        "data_s.drop_duplicates(\"id\", inplace=True)\n",
        "data_s.obj_label = data_s.obj_label.astype(str)\n",
        "len(data_s[\"id\"])"
      ],
      "execution_count": null,
      "outputs": [
        {
          "output_type": "execute_result",
          "data": {
            "text/plain": [
              "202"
            ]
          },
          "metadata": {
            "tags": []
          },
          "execution_count": 212
        }
      ]
    },
    {
      "cell_type": "code",
      "metadata": {
        "id": "a387x1mj1fmS",
        "colab_type": "code",
        "colab": {}
      },
      "source": [
        "Squad_rus = []\n",
        "for index, data in data_s.iterrows():\n",
        "  obj = {'masked_sentences':[data['sentences']], 'obj_label':data['obj_label'], 'id':data['id'], 'sub_label':\"Squad\"}\n",
        "  Squad_rus.append(obj)"
      ],
      "execution_count": null,
      "outputs": []
    },
    {
      "cell_type": "markdown",
      "metadata": {
        "id": "U_S6YCAWXoo6",
        "colab_type": "text"
      },
      "source": [
        "Примеры на русском"
      ]
    },
    {
      "cell_type": "code",
      "metadata": {
        "id": "OMItRsy51fi3",
        "colab_type": "code",
        "colab": {
          "base_uri": "https://localhost:8080/",
          "height": 207
        },
        "outputId": "0f1db2ac-9177-449f-f191-3de72f408c5e"
      },
      "source": [
        "for i in Squad_rus[:10]:\n",
        "  print(i)"
      ],
      "execution_count": null,
      "outputs": [
        {
          "output_type": "stream",
          "text": [
            "{'masked_sentences': ['Байрон заболел [MASK] в Миссолонги.'], 'obj_label': 'лихорадкой', 'id': 12786, 'sub_label': 'Squad'}\n",
            "{'masked_sentences': ['Bзлишки тепла у млекопитающих отводятся [MASK].'], 'obj_label': 'потоотделением', 'id': 39919, 'sub_label': 'Squad'}\n",
            "{'masked_sentences': ['Кристаллы различной формы имеют [MASK] вершины.'], 'obj_label': 'острые', 'id': 70862, 'sub_label': 'Squad'}\n",
            "{'masked_sentences': ['Виноградов предложил [MASK] методов оценки модуля тригонометрических сумм.'], 'obj_label': 'два', 'id': 23098, 'sub_label': 'Squad'}\n",
            "{'masked_sentences': ['Группы: Devo, Suicide, Television, Talking Heads являются представителями [MASK].'], 'obj_label': 'постпанка', 'id': 69511, 'sub_label': 'Squad'}\n",
            "{'masked_sentences': ['Раковины [MASK] выставлялись на показ в интерьерах XIX века.'], 'obj_label': 'моллюсков', 'id': 33857, 'sub_label': 'Squad'}\n",
            "{'masked_sentences': ['Круг кровообращения, функционирующий через легкие, называется [MASK].'], 'obj_label': 'малым', 'id': 19286, 'sub_label': 'Squad'}\n",
            "{'masked_sentences': ['Водородные соединения других элементов являются [MASK].'], 'obj_label': 'газами', 'id': 80930, 'sub_label': 'Squad'}\n",
            "{'masked_sentences': ['[MASK] лихорадка передается через укус комара.'], 'obj_label': 'Жёлтая', 'id': 49976, 'sub_label': 'Squad'}\n",
            "{'masked_sentences': ['Химическая реакция, происходящая при участии катализаторов, называется [MASK].'], 'obj_label': 'катализ', 'id': 7324, 'sub_label': 'Squad'}\n"
          ],
          "name": "stdout"
        }
      ]
    },
    {
      "cell_type": "markdown",
      "metadata": {
        "id": "7ePaB8-yZgJc",
        "colab_type": "text"
      },
      "source": [
        "И теперь записываем в нужном формате"
      ]
    },
    {
      "cell_type": "code",
      "metadata": {
        "id": "x69ifca71ffJ",
        "colab_type": "code",
        "colab": {}
      },
      "source": [
        "with jsonlines.open('test_russian.jsonl', mode='w') as writer:\n",
        "    writer.write_all(Squad_rus)"
      ],
      "execution_count": null,
      "outputs": []
    },
    {
      "cell_type": "markdown",
      "metadata": {
        "id": "9FA9_oxYZpDQ",
        "colab_type": "text"
      },
      "source": [
        "Теперь то же самое для Испанского"
      ]
    },
    {
      "cell_type": "code",
      "metadata": {
        "id": "vEgNv5NlZt62",
        "colab_type": "code",
        "colab": {
          "base_uri": "https://localhost:8080/",
          "height": 34
        },
        "outputId": "2dca644d-7aed-4f20-85fe-971606cb8d89"
      },
      "source": [
        "data_s = pd.read_excel(\"/content/Spanish_SQUAD_data_prepared_sentences.xls\")\n",
        "data_s.drop_duplicates(\"id\", inplace=True)\n",
        "data_s.obj_label = data_s.obj_label.astype(str)\n",
        "len(data_s[\"id\"])"
      ],
      "execution_count": null,
      "outputs": [
        {
          "output_type": "execute_result",
          "data": {
            "text/plain": [
              "200"
            ]
          },
          "metadata": {
            "tags": []
          },
          "execution_count": 208
        }
      ]
    },
    {
      "cell_type": "code",
      "metadata": {
        "id": "4ZTlQq9i9xlx",
        "colab_type": "code",
        "colab": {}
      },
      "source": [
        "Squad_esp = []\n",
        "for index, data in data_s.iterrows():\n",
        "  obj = {'masked_sentences':[data['masked_sentences']], 'obj_label':data['obj_label'], 'id':data['id'], 'sub_label':\"Squad\"}\n",
        "  Squad_esp.append(obj)"
      ],
      "execution_count": null,
      "outputs": []
    },
    {
      "cell_type": "markdown",
      "metadata": {
        "id": "leGbAhuAaApL",
        "colab_type": "text"
      },
      "source": [
        " Примеры"
      ]
    },
    {
      "cell_type": "code",
      "metadata": {
        "id": "zQbwmHqR_NLB",
        "colab_type": "code",
        "colab": {
          "base_uri": "https://localhost:8080/",
          "height": 207
        },
        "outputId": "33d2b007-6fa7-402c-ea63-082623ee8971"
      },
      "source": [
        "for i in Squad_esp[:10]:\n",
        "  print(i)"
      ],
      "execution_count": null,
      "outputs": [
        {
          "output_type": "stream",
          "text": [
            "{'masked_sentences': ['Klaudia Gallovits-Hall es de nacionalidad  [MASK].'], 'obj_label': 'rumana', 'id': 'fc144486715b86fc8538e24b9dcf83aca08e3b36', 'sub_label': 'Squad'}\n",
            "{'masked_sentences': ['Inglaterra puede separarse oficialmente en [MASK] areas.'], 'obj_label': 'nueve', 'id': '79335fe69a4757e3edf229b1ca6cc6e61ec7e428', 'sub_label': 'Squad'}\n",
            "{'masked_sentences': ['La dinastía mogol se estableció en [MASK].'], 'obj_label': '1526', 'id': '179cfa1786b78adce6971d822061bfd7317d5fe0', 'sub_label': 'Squad'}\n",
            "{'masked_sentences': ['El idioma número uno en términos de números de usuarios de Wikipedia es [MASK].'], 'obj_label': 'inglés', 'id': '370921c39d6ecf8b3dd662739e17d3646d89a36a', 'sub_label': 'Squad'}\n",
            "{'masked_sentences': ['[MASK] teorizó sobre la cosmología en la que la Tierra tenía forma de un pilar.'], 'obj_label': 'Anaximandro', 'id': 'fe8e18a717d84104dce27dba6485db4bdd9e6f36', 'sub_label': 'Squad'}\n",
            "{'masked_sentences': ['El álbum de estudio de Britney Spears que lanzó después del segundo se llamó [MASK].'], 'obj_label': 'Britney', 'id': 'fb612186581e69a1cecafc6c10ab5ea282609597', 'sub_label': 'Squad'}\n",
            "{'masked_sentences': ['Piaget en su reloj en 1979 presentó el estilo [MASK].'], 'obj_label': 'vanguardista', 'id': 'b9c4f95cef0499bbc560673068ad3dcc90655835', 'sub_label': 'Squad'}\n",
            "{'masked_sentences': ['Se pasó a llamar Barclays en [MASK].'], 'obj_label': '1736', 'id': '0dba79afc1c60403b38c86282b1a02814b50625c', 'sub_label': 'Squad'}\n",
            "{'masked_sentences': ['Las polillas y las moscas son ejemplos del clase de [MASK].'], 'obj_label': 'invertebrados', 'id': '4784eb3c2ee9613ac337238b41b680a6555a8b11', 'sub_label': 'Squad'}\n",
            "{'masked_sentences': ['La nacionalidad de Friedrich Trendelenburg es [MASK].'], 'obj_label': 'alemán', 'id': '9ef619ff3f1ef099446093fa0790a549acd2b35a', 'sub_label': 'Squad'}\n"
          ],
          "name": "stdout"
        }
      ]
    },
    {
      "cell_type": "markdown",
      "metadata": {
        "id": "z7IyK0inaIRF",
        "colab_type": "text"
      },
      "source": [
        "И опять же запись в нужный формат"
      ]
    },
    {
      "cell_type": "code",
      "metadata": {
        "id": "DDgaY0KmBib5",
        "colab_type": "code",
        "colab": {}
      },
      "source": [
        "with jsonlines.open('test_espanol.jsonl', mode='w') as writer:\n",
        "    writer.write_all(Squad_esp)"
      ],
      "execution_count": null,
      "outputs": []
    },
    {
      "cell_type": "code",
      "metadata": {
        "id": "VdQPAvxYoLZK",
        "colab_type": "code",
        "colab": {}
      },
      "source": [
        "with open('/content/MLQA_V1/dev/dev-context-en-question-en.json') as f:\n",
        "  espanol = json.loads(f.read())"
      ],
      "execution_count": null,
      "outputs": []
    },
    {
      "cell_type": "markdown",
      "metadata": {
        "id": "W816Lhx3fgO-",
        "colab_type": "text"
      },
      "source": [
        " # Часть 2 с переводом на испанский/немецким\n",
        "\n"
      ]
    },
    {
      "cell_type": "markdown",
      "metadata": {
        "id": "f6yfRYuAKjrc",
        "colab_type": "text"
      },
      "source": [
        "С переводом наблюдается ряд проблем, так как нет однозначного соответствия: token_lang1 - token_lang2. Какие-то слова переводятся на другой язык целыми словосочетаниями или же наоборот; также в русском языке нет артиклей, характерных для испанского. Поэтому нет возможности запомнить айди токена, чтобыы заменить его потом на MASK. Да и в целом местами перевод все же не совсем адекватный и требует постобработки."
      ]
    },
    {
      "cell_type": "markdown",
      "metadata": {
        "id": "hkDqLsjkJk9v",
        "colab_type": "text"
      },
      "source": [
        "Проблемы и решение:\n",
        "* Несоответствие токенов - одно слово соответствует 2 в переводе или наоборот, иногда в ответе вместо одноготокена появляется два, так как слово переводится словосочетанием - решение: вручную корректировать неточности, исправлять несоответствия\n",
        "* Артефакты перевода - к сожалению, явление нередкое - решение: опять же корректировка вручную при необходимости.\n",
        "* Перевод вопросов с маскингом ам по себе проблематичен, так как, очевидно, нельзя прото по отдельности переводить предложение со специальным токеном и пропущенное слово - надо вернуть его в предложение и переводить в контексте, а потом возвращать обратно. Решение - возвращаем временнотокен на место, пихаем все в переводчик, отдельно переводим и пропущенное слов, затем проходимся по предложениям и пропущенным словам, если какое-то переведенное слово соответствует переведенному пропущенному слову - то ставим вместо него [MASK]. Предложение готово, иначе дорабатываем вручную."
      ]
    },
    {
      "cell_type": "code",
      "metadata": {
        "id": "pog662q8oeco",
        "colab_type": "code",
        "colab": {}
      },
      "source": [
        "esp = []\n",
        "with open('/content/test_espanol.jsonl') as f:\n",
        "  for line in f.readlines():\n",
        "    lama = json.loads(line)\n",
        "    esp.append(lama)\n",
        "\n",
        "rus = []\n",
        "with open('/content/test_russian.jsonl') as f:\n",
        "  for line in f.readlines():\n",
        "    lama = json.loads(line)\n",
        "    rus.append(lama)"
      ],
      "execution_count": null,
      "outputs": []
    },
    {
      "cell_type": "code",
      "metadata": {
        "id": "PWixaIOffilu",
        "colab_type": "code",
        "colab": {
          "base_uri": "https://localhost:8080/",
          "height": 909,
          "referenced_widgets": [
            "30a8c3ab57a34f9b9ee18c8dd492144d",
            "d52375f002534d108e3f6002fe3c7501",
            "37b7fc9cdb0e44f5b3e5e18f65fedf8f",
            "abaa1b46d4784cacb5bd69952bd906c7",
            "2305e7d6b2fa4e77aa779736bf385bd6",
            "efbabbe7e18243a1a2fb4c8f3a8dd0ce",
            "966bf86c32044e5f96e1a37256ab75af",
            "91bf152485f64c3888581fc94c49ae22",
            "68c2cd1e6f8e440f8774a7c5c3a1eb4b",
            "e99e745a143648369dede783770e4eb7",
            "43f1ceb0242b4854ab9bf2b9807c4d8f",
            "07048f62e3f84c6b805b86710abbf340",
            "e9d9675c4b754bdfb5535895edaff3f7",
            "00028ed8e4ed493390cf1e5db45d56c3",
            "4a3ea5a075564cbe82b4d4caae825609",
            "7a921a23f30c42e5aca9d45724439c3e",
            "b29fa071436d4dca9dcc1e6d58fd0be8",
            "231f39b2cb254621b18dae2fc80bf7a5",
            "d9a697efa36349b2ac64ed8800ece48d",
            "ad29c65459f44e51aab33f88223b7d79",
            "7c409b99329d4e638fcdc19e5c4946b2",
            "f8dd83e99fed4446866ec5c806dfb28b",
            "7aa7961906e845d792cf9dc95a199be9",
            "14da8b2257b141faab665ef9edd5af89",
            "54340e10aa1a4052a272bdb24431fc77",
            "4657827e4ce5450ca1140f3b386a008e",
            "961cb19e0e7444bb9748c5dfa4feaeaf",
            "97135e8df68547119aff464e3bd80591",
            "df656ec9ea754dff9088af93adb214b1",
            "863a32fe512f4634a9042a2c15429cb7",
            "6c67a11f1fbf4c2fb3ec6c8c01d42e98",
            "e5292e14af5d4a1c898b0d3b448830ce",
            "03ac0c0f5f564b708271cfa9ad6f30d9",
            "dd8dff3d11494890995640af4c51d769",
            "5634a641e0124c3395d794d1dd23f90f",
            "1e7cab0593ab4508bcb47593c441dd6b",
            "13e2a9aa7aee4c24ade5e44cd180d859",
            "f7eaf4c398e64f5f938199379b891174",
            "e12e8cd2a2d34a61955cb50bba554f44",
            "4e252ea806ec4526b1b52d54884508d3",
            "b4253e6312504302920ac9bbf8f9b6af",
            "066cc4bc15c24713af358461dbf80d31",
            "2995eaac89c340a4a4f1c9edcd480c1a",
            "4141006e79ea47ad8a1ce823d5ce61cb",
            "0ac2c5dd29404ac294f5bbc3b7f38356",
            "0b9d5219c34144c19569a2adb9524ccb",
            "87f84eb4baa74249be2f0d51ea219a7b",
            "cf00608008de4c7d8b1820ccf7b60fd0"
          ]
        },
        "outputId": "fb064cf6-787d-4bf5-f2e2-4944846bc41c"
      },
      "source": [
        "! pip install transformers\n",
        "from transformers import MarianMTModel, MarianTokenizer\n",
        "model_name = 'Helsinki-NLP/opus-mt-es-de'\n",
        "tokenizer = MarianTokenizer.from_pretrained(model_name)\n",
        "model = MarianMTModel.from_pretrained(model_name)"
      ],
      "execution_count": 36,
      "outputs": [
        {
          "output_type": "stream",
          "text": [
            "Collecting transformers\n",
            "\u001b[?25l  Downloading https://files.pythonhosted.org/packages/27/3c/91ed8f5c4e7ef3227b4119200fc0ed4b4fd965b1f0172021c25701087825/transformers-3.0.2-py3-none-any.whl (769kB)\n",
            "\r\u001b[K     |▍                               | 10kB 21.7MB/s eta 0:00:01\r\u001b[K     |▉                               | 20kB 5.8MB/s eta 0:00:01\r\u001b[K     |█▎                              | 30kB 7.2MB/s eta 0:00:01\r\u001b[K     |█▊                              | 40kB 7.9MB/s eta 0:00:01\r\u001b[K     |██▏                             | 51kB 6.9MB/s eta 0:00:01\r\u001b[K     |██▋                             | 61kB 7.9MB/s eta 0:00:01\r\u001b[K     |███                             | 71kB 8.2MB/s eta 0:00:01\r\u001b[K     |███▍                            | 81kB 8.5MB/s eta 0:00:01\r\u001b[K     |███▉                            | 92kB 7.9MB/s eta 0:00:01\r\u001b[K     |████▎                           | 102kB 8.2MB/s eta 0:00:01\r\u001b[K     |████▊                           | 112kB 8.2MB/s eta 0:00:01\r\u001b[K     |█████▏                          | 122kB 8.2MB/s eta 0:00:01\r\u001b[K     |█████▌                          | 133kB 8.2MB/s eta 0:00:01\r\u001b[K     |██████                          | 143kB 8.2MB/s eta 0:00:01\r\u001b[K     |██████▍                         | 153kB 8.2MB/s eta 0:00:01\r\u001b[K     |██████▉                         | 163kB 8.2MB/s eta 0:00:01\r\u001b[K     |███████▎                        | 174kB 8.2MB/s eta 0:00:01\r\u001b[K     |███████▊                        | 184kB 8.2MB/s eta 0:00:01\r\u001b[K     |████████                        | 194kB 8.2MB/s eta 0:00:01\r\u001b[K     |████████▌                       | 204kB 8.2MB/s eta 0:00:01\r\u001b[K     |█████████                       | 215kB 8.2MB/s eta 0:00:01\r\u001b[K     |█████████▍                      | 225kB 8.2MB/s eta 0:00:01\r\u001b[K     |█████████▉                      | 235kB 8.2MB/s eta 0:00:01\r\u001b[K     |██████████▎                     | 245kB 8.2MB/s eta 0:00:01\r\u001b[K     |██████████▋                     | 256kB 8.2MB/s eta 0:00:01\r\u001b[K     |███████████                     | 266kB 8.2MB/s eta 0:00:01\r\u001b[K     |███████████▌                    | 276kB 8.2MB/s eta 0:00:01\r\u001b[K     |████████████                    | 286kB 8.2MB/s eta 0:00:01\r\u001b[K     |████████████▍                   | 296kB 8.2MB/s eta 0:00:01\r\u001b[K     |████████████▉                   | 307kB 8.2MB/s eta 0:00:01\r\u001b[K     |█████████████▏                  | 317kB 8.2MB/s eta 0:00:01\r\u001b[K     |█████████████▋                  | 327kB 8.2MB/s eta 0:00:01\r\u001b[K     |██████████████                  | 337kB 8.2MB/s eta 0:00:01\r\u001b[K     |██████████████▌                 | 348kB 8.2MB/s eta 0:00:01\r\u001b[K     |███████████████                 | 358kB 8.2MB/s eta 0:00:01\r\u001b[K     |███████████████▍                | 368kB 8.2MB/s eta 0:00:01\r\u001b[K     |███████████████▊                | 378kB 8.2MB/s eta 0:00:01\r\u001b[K     |████████████████▏               | 389kB 8.2MB/s eta 0:00:01\r\u001b[K     |████████████████▋               | 399kB 8.2MB/s eta 0:00:01\r\u001b[K     |█████████████████               | 409kB 8.2MB/s eta 0:00:01\r\u001b[K     |█████████████████▌              | 419kB 8.2MB/s eta 0:00:01\r\u001b[K     |██████████████████              | 430kB 8.2MB/s eta 0:00:01\r\u001b[K     |██████████████████▎             | 440kB 8.2MB/s eta 0:00:01\r\u001b[K     |██████████████████▊             | 450kB 8.2MB/s eta 0:00:01\r\u001b[K     |███████████████████▏            | 460kB 8.2MB/s eta 0:00:01\r\u001b[K     |███████████████████▋            | 471kB 8.2MB/s eta 0:00:01\r\u001b[K     |████████████████████            | 481kB 8.2MB/s eta 0:00:01\r\u001b[K     |████████████████████▌           | 491kB 8.2MB/s eta 0:00:01\r\u001b[K     |████████████████████▉           | 501kB 8.2MB/s eta 0:00:01\r\u001b[K     |█████████████████████▎          | 512kB 8.2MB/s eta 0:00:01\r\u001b[K     |█████████████████████▊          | 522kB 8.2MB/s eta 0:00:01\r\u001b[K     |██████████████████████▏         | 532kB 8.2MB/s eta 0:00:01\r\u001b[K     |██████████████████████▋         | 542kB 8.2MB/s eta 0:00:01\r\u001b[K     |███████████████████████         | 552kB 8.2MB/s eta 0:00:01\r\u001b[K     |███████████████████████▍        | 563kB 8.2MB/s eta 0:00:01\r\u001b[K     |███████████████████████▉        | 573kB 8.2MB/s eta 0:00:01\r\u001b[K     |████████████████████████▎       | 583kB 8.2MB/s eta 0:00:01\r\u001b[K     |████████████████████████▊       | 593kB 8.2MB/s eta 0:00:01\r\u001b[K     |█████████████████████████▏      | 604kB 8.2MB/s eta 0:00:01\r\u001b[K     |█████████████████████████▋      | 614kB 8.2MB/s eta 0:00:01\r\u001b[K     |██████████████████████████      | 624kB 8.2MB/s eta 0:00:01\r\u001b[K     |██████████████████████████▍     | 634kB 8.2MB/s eta 0:00:01\r\u001b[K     |██████████████████████████▉     | 645kB 8.2MB/s eta 0:00:01\r\u001b[K     |███████████████████████████▎    | 655kB 8.2MB/s eta 0:00:01\r\u001b[K     |███████████████████████████▊    | 665kB 8.2MB/s eta 0:00:01\r\u001b[K     |████████████████████████████▏   | 675kB 8.2MB/s eta 0:00:01\r\u001b[K     |████████████████████████████▌   | 686kB 8.2MB/s eta 0:00:01\r\u001b[K     |█████████████████████████████   | 696kB 8.2MB/s eta 0:00:01\r\u001b[K     |█████████████████████████████▍  | 706kB 8.2MB/s eta 0:00:01\r\u001b[K     |█████████████████████████████▉  | 716kB 8.2MB/s eta 0:00:01\r\u001b[K     |██████████████████████████████▎ | 727kB 8.2MB/s eta 0:00:01\r\u001b[K     |██████████████████████████████▊ | 737kB 8.2MB/s eta 0:00:01\r\u001b[K     |███████████████████████████████ | 747kB 8.2MB/s eta 0:00:01\r\u001b[K     |███████████████████████████████▌| 757kB 8.2MB/s eta 0:00:01\r\u001b[K     |████████████████████████████████| 768kB 8.2MB/s eta 0:00:01\r\u001b[K     |████████████████████████████████| 778kB 8.2MB/s \n",
            "\u001b[?25hRequirement already satisfied: packaging in /usr/local/lib/python3.6/dist-packages (from transformers) (20.4)\n",
            "Requirement already satisfied: regex!=2019.12.17 in /usr/local/lib/python3.6/dist-packages (from transformers) (2019.12.20)\n",
            "Requirement already satisfied: dataclasses; python_version < \"3.7\" in /usr/local/lib/python3.6/dist-packages (from transformers) (0.7)\n",
            "Requirement already satisfied: tqdm>=4.27 in /usr/local/lib/python3.6/dist-packages (from transformers) (4.41.1)\n",
            "Requirement already satisfied: requests in /usr/local/lib/python3.6/dist-packages (from transformers) (2.23.0)\n",
            "Collecting sentencepiece!=0.1.92\n",
            "\u001b[?25l  Downloading https://files.pythonhosted.org/packages/d4/a4/d0a884c4300004a78cca907a6ff9a5e9fe4f090f5d95ab341c53d28cbc58/sentencepiece-0.1.91-cp36-cp36m-manylinux1_x86_64.whl (1.1MB)\n",
            "\u001b[K     |████████████████████████████████| 1.1MB 23.7MB/s \n",
            "\u001b[?25hCollecting tokenizers==0.8.1.rc1\n",
            "\u001b[?25l  Downloading https://files.pythonhosted.org/packages/40/d0/30d5f8d221a0ed981a186c8eb986ce1c94e3a6e87f994eae9f4aa5250217/tokenizers-0.8.1rc1-cp36-cp36m-manylinux1_x86_64.whl (3.0MB)\n",
            "\u001b[K     |████████████████████████████████| 3.0MB 48.4MB/s \n",
            "\u001b[?25hCollecting sacremoses\n",
            "\u001b[?25l  Downloading https://files.pythonhosted.org/packages/7d/34/09d19aff26edcc8eb2a01bed8e98f13a1537005d31e95233fd48216eed10/sacremoses-0.0.43.tar.gz (883kB)\n",
            "\u001b[K     |████████████████████████████████| 890kB 40.0MB/s \n",
            "\u001b[?25hRequirement already satisfied: numpy in /usr/local/lib/python3.6/dist-packages (from transformers) (1.18.5)\n",
            "Requirement already satisfied: filelock in /usr/local/lib/python3.6/dist-packages (from transformers) (3.0.12)\n",
            "Requirement already satisfied: six in /usr/local/lib/python3.6/dist-packages (from packaging->transformers) (1.15.0)\n",
            "Requirement already satisfied: pyparsing>=2.0.2 in /usr/local/lib/python3.6/dist-packages (from packaging->transformers) (2.4.7)\n",
            "Requirement already satisfied: idna<3,>=2.5 in /usr/local/lib/python3.6/dist-packages (from requests->transformers) (2.10)\n",
            "Requirement already satisfied: urllib3!=1.25.0,!=1.25.1,<1.26,>=1.21.1 in /usr/local/lib/python3.6/dist-packages (from requests->transformers) (1.24.3)\n",
            "Requirement already satisfied: chardet<4,>=3.0.2 in /usr/local/lib/python3.6/dist-packages (from requests->transformers) (3.0.4)\n",
            "Requirement already satisfied: certifi>=2017.4.17 in /usr/local/lib/python3.6/dist-packages (from requests->transformers) (2020.6.20)\n",
            "Requirement already satisfied: click in /usr/local/lib/python3.6/dist-packages (from sacremoses->transformers) (7.1.2)\n",
            "Requirement already satisfied: joblib in /usr/local/lib/python3.6/dist-packages (from sacremoses->transformers) (0.16.0)\n",
            "Building wheels for collected packages: sacremoses\n",
            "  Building wheel for sacremoses (setup.py) ... \u001b[?25l\u001b[?25hdone\n",
            "  Created wheel for sacremoses: filename=sacremoses-0.0.43-cp36-none-any.whl size=893260 sha256=283a3139c0546d287e057f8eb6a54d5572ad2fc48eb70655d6c36b3257a9e270\n",
            "  Stored in directory: /root/.cache/pip/wheels/29/3c/fd/7ce5c3f0666dab31a50123635e6fb5e19ceb42ce38d4e58f45\n",
            "Successfully built sacremoses\n",
            "Installing collected packages: sentencepiece, tokenizers, sacremoses, transformers\n",
            "Successfully installed sacremoses-0.0.43 sentencepiece-0.1.91 tokenizers-0.8.1rc1 transformers-3.0.2\n"
          ],
          "name": "stdout"
        },
        {
          "output_type": "display_data",
          "data": {
            "application/vnd.jupyter.widget-view+json": {
              "model_id": "30a8c3ab57a34f9b9ee18c8dd492144d",
              "version_minor": 0,
              "version_major": 2
            },
            "text/plain": [
              "HBox(children=(FloatProgress(value=0.0, description='Downloading', max=818345.0, style=ProgressStyle(descripti…"
            ]
          },
          "metadata": {
            "tags": []
          }
        },
        {
          "output_type": "stream",
          "text": [
            "\n"
          ],
          "name": "stdout"
        },
        {
          "output_type": "display_data",
          "data": {
            "application/vnd.jupyter.widget-view+json": {
              "model_id": "68c2cd1e6f8e440f8774a7c5c3a1eb4b",
              "version_minor": 0,
              "version_major": 2
            },
            "text/plain": [
              "HBox(children=(FloatProgress(value=0.0, description='Downloading', max=828663.0, style=ProgressStyle(descripti…"
            ]
          },
          "metadata": {
            "tags": []
          }
        },
        {
          "output_type": "stream",
          "text": [
            "\n"
          ],
          "name": "stdout"
        },
        {
          "output_type": "display_data",
          "data": {
            "application/vnd.jupyter.widget-view+json": {
              "model_id": "b29fa071436d4dca9dcc1e6d58fd0be8",
              "version_minor": 0,
              "version_major": 2
            },
            "text/plain": [
              "HBox(children=(FloatProgress(value=0.0, description='Downloading', max=1465772.0, style=ProgressStyle(descript…"
            ]
          },
          "metadata": {
            "tags": []
          }
        },
        {
          "output_type": "stream",
          "text": [
            "\n"
          ],
          "name": "stdout"
        },
        {
          "output_type": "display_data",
          "data": {
            "application/vnd.jupyter.widget-view+json": {
              "model_id": "54340e10aa1a4052a272bdb24431fc77",
              "version_minor": 0,
              "version_major": 2
            },
            "text/plain": [
              "HBox(children=(FloatProgress(value=0.0, description='Downloading', max=42.0, style=ProgressStyle(description_w…"
            ]
          },
          "metadata": {
            "tags": []
          }
        },
        {
          "output_type": "stream",
          "text": [
            "\n"
          ],
          "name": "stdout"
        },
        {
          "output_type": "display_data",
          "data": {
            "application/vnd.jupyter.widget-view+json": {
              "model_id": "03ac0c0f5f564b708271cfa9ad6f30d9",
              "version_minor": 0,
              "version_major": 2
            },
            "text/plain": [
              "HBox(children=(FloatProgress(value=0.0, description='Downloading', max=1133.0, style=ProgressStyle(description…"
            ]
          },
          "metadata": {
            "tags": []
          }
        },
        {
          "output_type": "stream",
          "text": [
            "\n"
          ],
          "name": "stdout"
        },
        {
          "output_type": "display_data",
          "data": {
            "application/vnd.jupyter.widget-view+json": {
              "model_id": "b4253e6312504302920ac9bbf8f9b6af",
              "version_minor": 0,
              "version_major": 2
            },
            "text/plain": [
              "HBox(children=(FloatProgress(value=0.0, description='Downloading', max=304494609.0, style=ProgressStyle(descri…"
            ]
          },
          "metadata": {
            "tags": []
          }
        },
        {
          "output_type": "stream",
          "text": [
            "\n"
          ],
          "name": "stdout"
        }
      ]
    },
    {
      "cell_type": "markdown",
      "metadata": {
        "id": "WN4EAQSTNNmx",
        "colab_type": "text"
      },
      "source": [
        "Добавляем обратно слова вместо специального токена, чтобы получить более адекватный перевод"
      ]
    },
    {
      "cell_type": "code",
      "metadata": {
        "id": "x5ODEJKIgDg0",
        "colab_type": "code",
        "colab": {}
      },
      "source": [
        "ids = []\n",
        "triplets = []\n",
        "for obj in rus:\n",
        "  temp = obj['masked_sentences'][0].split(\" \")\n",
        "  for i, token in enumerate(obj['masked_sentences'][0].split(\" \")):\n",
        "      if token == \"[MASK]\":\n",
        "        ids.append(i)\n",
        "        temp[i] = obj['obj_label']\n",
        "      if token == \"[MASK].\":\n",
        "        ids.append(i)\n",
        "        temp[i] = obj['obj_label']+\".\"\n",
        "      if token == \"[MASK],\":\n",
        "        ids.append(i)\n",
        "        temp[i] = obj['obj_label']+\",\"\n",
        "        \n",
        "  triplets.append([[\" \".join(temp)], obj['obj_label'], obj['id']])"
      ],
      "execution_count": null,
      "outputs": []
    },
    {
      "cell_type": "code",
      "metadata": {
        "id": "XNWFlci6hpPJ",
        "colab_type": "code",
        "colab": {
          "base_uri": "https://localhost:8080/",
          "height": 187
        },
        "outputId": "046a2748-af3f-4ffa-c79a-e4d266faaf2a"
      },
      "source": [
        "num_ex = 10\n",
        "for i in triplets[:num_ex]:\n",
        "  print(i)"
      ],
      "execution_count": null,
      "outputs": [
        {
          "output_type": "stream",
          "text": [
            "[['Байрон заболел лихорадкой в Миссолонги.'], 'лихорадкой', 12786]\n",
            "[['Излишки тепла у млекопитающих отводятся потоотделением.'], 'потоотделением', 39919]\n",
            "[['Кристаллы различной формы имеют острые вершины.'], 'острые', 70862]\n",
            "[['Виноградов предложил два методов оценки модуля тригонометрических сумм.'], 'два', 23098]\n",
            "[['Группы: Devo, Suicide, Television, Talking Heads являются представителями постпанка.'], 'постпанка', 69511]\n",
            "[['Раковины моллюсков выставлялись на показ в интерьерах XIX века.'], 'моллюсков', 33857]\n",
            "[['Круг кровообращения, функционирующий через легкие, называется малым.'], 'малым', 19286]\n",
            "[['Водородные соединения других элементов являются газами.'], 'газами', 80930]\n",
            "[['Жёлтая лихорадка передается через укус комара.'], 'Жёлтая', 49976]\n",
            "[['Химическая реакция, происходящая при участии катализаторов, называется катализ.'], 'катализ', 7324]\n"
          ],
          "name": "stdout"
        }
      ]
    },
    {
      "cell_type": "markdown",
      "metadata": {
        "id": "rFIooGCdNdCT",
        "colab_type": "text"
      },
      "source": [
        "Переводим и сохраняем"
      ]
    },
    {
      "cell_type": "code",
      "metadata": {
        "id": "R19crjK_hzmX",
        "colab_type": "code",
        "colab": {}
      },
      "source": [
        "for i in triplets:\n",
        "  translated = model.generate(**tokenizer.prepare_translation_batch(i[0]))\n",
        "  tgt_text = [tokenizer.decode(t, skip_special_tokens=True) for t in translated]\n",
        "  i[0] = tgt_text\n",
        "\n",
        "data = pd.DataFrame(triplets)\n",
        "data.to_csv('translated_to_rus')"
      ],
      "execution_count": null,
      "outputs": []
    },
    {
      "cell_type": "markdown",
      "metadata": {
        "id": "hSYPI9NENgMe",
        "colab_type": "text"
      },
      "source": [
        "Дальше опять дорабатываем вручную "
      ]
    },
    {
      "cell_type": "markdown",
      "metadata": {
        "id": "4XiqeYn5OrXl",
        "colab_type": "text"
      },
      "source": [
        "То же самое и для обратного перевода"
      ]
    },
    {
      "cell_type": "code",
      "metadata": {
        "id": "ZQoBGRJYbsYY",
        "colab_type": "code",
        "colab": {}
      },
      "source": [
        "ids = []\n",
        "triplets = []\n",
        "for obj in esp:\n",
        "  temp = obj['masked_sentences'][0].split(\" \")\n",
        "  for i, token in enumerate(obj['masked_sentences'][0].split(\" \")):\n",
        "      if token == \"[MASK]\":\n",
        "        ids.append(i)\n",
        "        temp[i] = obj['obj_label']\n",
        "      if token == \"[MASK].\":\n",
        "        ids.append(i)\n",
        "        temp[i] = obj['obj_label']+\".\"\n",
        "      if token == \"[MASK],\":\n",
        "        ids.append(i)\n",
        "        temp[i] = obj['obj_label']+\",\"\n",
        "        \n",
        "  triplets.append([[\" \".join(temp)], obj['obj_label'], obj['id']])"
      ],
      "execution_count": null,
      "outputs": []
    },
    {
      "cell_type": "code",
      "metadata": {
        "id": "Gjar-5vSbuo6",
        "colab_type": "code",
        "colab": {
          "base_uri": "https://localhost:8080/",
          "height": 207
        },
        "outputId": "a003e2f4-4159-46b6-d6bd-0d0c90d44558"
      },
      "source": [
        "num_ex = 10\n",
        "for i in triplets[:num_ex]:\n",
        "  print(i)"
      ],
      "execution_count": null,
      "outputs": [
        {
          "output_type": "stream",
          "text": [
            "[['Klaudia Gallovits-Hall es de nacionalidad  rumana.'], 'rumana', 'fc144486715b86fc8538e24b9dcf83aca08e3b36']\n",
            "[['Inglaterra puede separarse oficialmente en nueve areas.'], 'nueve', '79335fe69a4757e3edf229b1ca6cc6e61ec7e428']\n",
            "[['La dinastía mogol se estableció en 1526.'], '1526', '179cfa1786b78adce6971d822061bfd7317d5fe0']\n",
            "[['El idioma número uno en términos de números de usuarios de Wikipedia es inglés.'], 'inglés', '370921c39d6ecf8b3dd662739e17d3646d89a36a']\n",
            "[['Anaximandro teorizó sobre la cosmología en la que la Tierra tenía forma de un pilar.'], 'Anaximandro', 'fe8e18a717d84104dce27dba6485db4bdd9e6f36']\n",
            "[['El álbum de estudio de Britney Spears que lanzó después del segundo se llamó Britney.'], 'Britney', 'fb612186581e69a1cecafc6c10ab5ea282609597']\n",
            "[['Piaget en su reloj en 1979 presentó el estilo vanguardista.'], 'vanguardista', 'b9c4f95cef0499bbc560673068ad3dcc90655835']\n",
            "[['Se pasó a llamar Barclays en 1736.'], '1736', '0dba79afc1c60403b38c86282b1a02814b50625c']\n",
            "[['Las polillas y las moscas son ejemplos del clase de invertebrados.'], 'invertebrados', '4784eb3c2ee9613ac337238b41b680a6555a8b11']\n",
            "[['La nacionalidad de Friedrich Trendelenburg es alemán.'], 'alemán', '9ef619ff3f1ef099446093fa0790a549acd2b35a']\n"
          ],
          "name": "stdout"
        }
      ]
    },
    {
      "cell_type": "code",
      "metadata": {
        "id": "cXwkkMqKbwmX",
        "colab_type": "code",
        "colab": {}
      },
      "source": [
        "for i in triplets:\n",
        "  translated = model.generate(**tokenizer.prepare_translation_batch(i[0]))\n",
        "  tgt_text = [tokenizer.decode(t, skip_special_tokens=True) for t in translated]\n",
        "  i[0] = tgt_text\n",
        "\n",
        "data = pd.DataFrame(triplets)\n",
        "data.to_csv('translated_to_esp')"
      ],
      "execution_count": null,
      "outputs": []
    },
    {
      "cell_type": "markdown",
      "metadata": {
        "id": "FDQi6XrnPFYZ",
        "colab_type": "text"
      },
      "source": [
        "После приведения к нужному формату считываем полученные таблицы"
      ]
    },
    {
      "cell_type": "code",
      "metadata": {
        "id": "bU3zLto3U5AU",
        "colab_type": "code",
        "colab": {}
      },
      "source": [
        "data_esp_ru = pd.read_csv('/content/translated_to_esp_edited.csv', skipinitialspace=True)\n",
        "data_esp_ru.drop(columns=\"Unnamed: 0\", axis=1, inplace=True)\n",
        "data_esp_ru.columns = ['masked_sentences', 'obj_label', 'id']\n",
        "data_esp_ru.drop_duplicates('id', inplace=True)"
      ],
      "execution_count": null,
      "outputs": []
    },
    {
      "cell_type": "code",
      "metadata": {
        "id": "2TT8GpinCd-T",
        "colab_type": "code",
        "colab": {}
      },
      "source": [
        "Squad_esp_ru = []\n",
        "for index, data in data_esp_ru.iterrows():\n",
        "  obj = {'masked_sentences':data['masked_sentences'], 'obj_label':data['obj_label'], 'id':data['id'], 'sub_label':\"Squad\"}\n",
        "  Squad_esp_ru.append(obj)"
      ],
      "execution_count": null,
      "outputs": []
    },
    {
      "cell_type": "markdown",
      "metadata": {
        "id": "yVPCnwMzPO8b",
        "colab_type": "text"
      },
      "source": [
        "и теперь для русско-испанского варианта то же самое"
      ]
    },
    {
      "cell_type": "code",
      "metadata": {
        "id": "jJl9oZJC9xch",
        "colab_type": "code",
        "colab": {}
      },
      "source": [
        "data_ru_esp = pd.read_csv('/content/translated_to_rus_edited.csv', skipinitialspace=True)\n",
        "data_ru_esp.drop(columns=\"Unnamed: 0\", axis=1, inplace=True)\n",
        "data_ru_esp.columns = ['masked_sentences', 'obj_label', 'id']\n",
        "data_ru_esp.drop_duplicates(\"id\", inplace=True)"
      ],
      "execution_count": null,
      "outputs": []
    },
    {
      "cell_type": "code",
      "metadata": {
        "id": "FAQlVDGT-QdX",
        "colab_type": "code",
        "colab": {}
      },
      "source": [
        "Squad_ru_esp = []\n",
        "for index, data in data_ru_esp.iterrows():\n",
        "  obj = {'masked_sentences':[data['masked_sentences']], 'obj_label':data['obj_label'], 'id':data['id'], 'sub_label':\"Squad\"}\n",
        "  Squad_ru_esp.append(obj)"
      ],
      "execution_count": null,
      "outputs": []
    },
    {
      "cell_type": "markdown",
      "metadata": {
        "id": "DRDyJG69QJjt",
        "colab_type": "text"
      },
      "source": [
        "Последнее - пока надо соединить две части, в одно, чтобы получились одинаковые по содержанию датасеты на разных языках"
      ]
    },
    {
      "cell_type": "code",
      "metadata": {
        "id": "4OTJejphQWTk",
        "colab_type": "code",
        "colab": {}
      },
      "source": [
        "test_russian_full = rus+Squad_esp_ru\n",
        "test_espanol_full = Squad_ru_esp+esp\n",
        "with jsonlines.open('test_espanol_full.jsonl', mode='w') as writer:\n",
        "    writer.write_all(test_espanol_full)\n",
        "\n",
        "with jsonlines.open('test_russian_full.jsonl', mode='w') as writer:\n",
        "    writer.write_all(test_russian_full)"
      ],
      "execution_count": null,
      "outputs": []
    },
    {
      "cell_type": "markdown",
      "metadata": {
        "id": "zA9bkVs-Lquk",
        "colab_type": "text"
      },
      "source": [
        "# Часть 3\n",
        "\n",
        "Добавление немецкого (пока просто путем перевода остальных частей датасета, так как вообще не шарю за немецкий)"
      ]
    },
    {
      "cell_type": "code",
      "metadata": {
        "id": "O4ZSCd79VatN",
        "colab_type": "code",
        "colab": {}
      },
      "source": [
        "# from transformers.hf_api import HfApi\n",
        "# model_list = HfApi().model_list()\n",
        "# org = \"Helsinki-NLP\"\n",
        "# model_ids = [x.modelId for x in model_list if x.modelId.startswith(org)]\n",
        "# suffix = [x.split('/')[1] for x in model_ids]\n",
        "# multi_models = [f'{org}/{s}' for s in suffix if s != s.lower()]\n",
        "# multi_models\n",
        "\n",
        "# for obj in esp[:202]:\n",
        "#   obj['masked_sentences'][0] = obj['masked_sentences'][0][2:-2]"
      ],
      "execution_count": null,
      "outputs": []
    },
    {
      "cell_type": "markdown",
      "metadata": {
        "id": "d577aM-SMKG2",
        "colab_type": "text"
      },
      "source": [
        "Считываем испанскую часть датасета, восстанавливаем предложение, делаем триплеты для удобства (которые потом ужеи не триплетысовсем...), пихаем в переводчик, ищем оответствия, дорабатываем вручную:)"
      ]
    },
    {
      "cell_type": "code",
      "metadata": {
        "id": "ScdUodDaQf7l",
        "colab_type": "code",
        "colab": {}
      },
      "source": [
        "esp = []\n",
        "with open('/content/test_espanol_full.jsonl') as f:\n",
        "  for line in f.readlines():\n",
        "    lama = json.loads(line)\n",
        "    esp.append(lama)\n",
        "\n",
        "ids = []\n",
        "triplets = []\n",
        "for obj in esp:\n",
        "  temp = obj['masked_sentences'][0].split(\" \")\n",
        "  for i, token in enumerate(obj['masked_sentences'][0].split(\" \")):\n",
        "      if token == \"[MASK]\":\n",
        "        ids.append(i)\n",
        "        temp[i] = obj['obj_label']\n",
        "      if token == \"[MASK].\":\n",
        "        ids.append(i)\n",
        "        temp[i] = obj['obj_label']+\".\"\n",
        "      if token == \"[MASK],\":\n",
        "        ids.append(i)\n",
        "        temp[i] = obj['obj_label']+\",\"\n",
        "        \n",
        "  triplets.append([[\" \".join(temp)], obj['obj_label'], obj['id']])\n"
      ],
      "execution_count": 38,
      "outputs": []
    },
    {
      "cell_type": "markdown",
      "metadata": {
        "id": "tOyGNx0_Mx9P",
        "colab_type": "text"
      },
      "source": [
        "Перевод и восстановление и восстановление того,что мы можем восстановить"
      ]
    },
    {
      "cell_type": "code",
      "metadata": {
        "id": "syeVrlstGP5G",
        "colab_type": "code",
        "colab": {}
      },
      "source": [
        "import torch\n",
        "device = torch.device('cuda' if torch.cuda.is_available() else 'cpu')\n",
        "device\n",
        "model.to(device)\n",
        "from nltk.stem.snowball import GermanStemmer\n",
        "st = GermanStemmer()\n",
        "\n",
        "for i in triplets:\n",
        "  b = tokenizer.prepare_translation_batch(i[0])#0\n",
        "  b['input_ids'] = b['input_ids'].to(device)\n",
        "  b['attention_mask'] = b['attention_mask'].to(device)\n",
        "  translated = model.generate(**b)\n",
        "  tgt_text = [tokenizer.decode(t, skip_special_tokens=True) for t in translated]\n",
        "  i.append(tgt_text)\n",
        "\n",
        "  b = tokenizer.prepare_translation_batch([i[1]])#0\n",
        "  b['input_ids'] = b['input_ids'].to(device)\n",
        "  b['attention_mask'] = b['attention_mask'].to(device)\n",
        "  translated = model.generate(**b)\n",
        "  tgt_text = [tokenizer.decode(t, skip_special_tokens=True) for t in translated]\n",
        "  i.append(tgt_text)\n",
        "\n",
        "modified_triplets = []\n",
        "for item in triplets:\n",
        "  temp = item[3][0].split()\n",
        "  flag = True\n",
        "  indicator = None\n",
        "  for i, word in enumerate(temp):\n",
        "    if word == item[4][0] or word.lower() == item[4][0] or word == item[4][0].lower() or word.strip(\":.,!?/;\") == item[4][0]:\n",
        "      temp[i] = '[MASK]'\n",
        "      indicator = \"OK\"\n",
        "      flag = False\n",
        "    else:\n",
        "      stemmed_tokens = [st.stem(token.strip(\":.,!?/;\")) for token in temp]\n",
        "      stemmed_word = st.stem(item[1].strip(\":.,!?/;\"))\n",
        "      for i, w in enumerate(stemmed_tokens):\n",
        "        if w == stemmed_word:\n",
        "          item[1] = temp[i]\n",
        "          temp[i] = '[MASK]'\n",
        "          flag = False\n",
        "          indicator = \"OK\"\n",
        "\n",
        "\n",
        "  if flag:\n",
        "    indicator = \"UNDEFINED\"\n",
        "  temp = \" \".join(temp)\n",
        "  modified_triplets.append([[temp], item[4][0], item[1], indicator, item[0], item[2]])\n",
        "\n",
        "data_german_masked = pd.DataFrame(modified_triplets, columns=['masked_sentences', 'obj_label', 'object_label_inits', 'flag', 'init_sent', 'id'])\n",
        "data_german_masked.to_csv('data_de_masked.csv', index=False)"
      ],
      "execution_count": null,
      "outputs": []
    },
    {
      "cell_type": "markdown",
      "metadata": {
        "id": "yMUJGNF8NCQi",
        "colab_type": "text"
      },
      "source": [
        "Ну а дальше только корректировка вручную...\n",
        "После нее остается записать в нужный формат"
      ]
    },
    {
      "cell_type": "code",
      "metadata": {
        "id": "hATetuW4C0Zj",
        "colab_type": "code",
        "colab": {}
      },
      "source": [
        "import pandas as pd\n",
        "data_german = pd.read_excel(\"/content/german_fully_masked.xls\")"
      ],
      "execution_count": 3,
      "outputs": []
    },
    {
      "cell_type": "code",
      "metadata": {
        "id": "hlXV39c9DWvt",
        "colab_type": "code",
        "colab": {}
      },
      "source": [
        "Squad_de = []\n",
        "for index, data in data_german.iterrows():\n",
        "  obj = {'masked_sentences':[data['masked_sentences']], 'obj_label':data['obj_label'], 'id':data['id'], 'sub_label':\"Squad\"}\n",
        "  Squad_de.append(obj)\n",
        "\n",
        "with jsonlines.open('test_german_full.jsonl', mode='w') as writer:\n",
        "    writer.write_all(Squad_de)"
      ],
      "execution_count": 18,
      "outputs": []
    }
  ]
}