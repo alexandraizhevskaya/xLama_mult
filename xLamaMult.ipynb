{
  "nbformat": 4,
  "nbformat_minor": 0,
  "metadata": {
    "colab": {
      "name": "xLamaMult.ipynb",
      "provenance": [],
      "collapsed_sections": [],
      "toc_visible": true,
      "authorship_tag": "ABX9TyNmFl67riv2QrtxYB+teb8r"
    },
    "kernelspec": {
      "name": "python3",
      "display_name": "Python 3"
    }
  },
  "cells": [
    {
      "cell_type": "code",
      "metadata": {
        "id": "iV6xIPxjghRa",
        "colab_type": "code",
        "colab": {
          "base_uri": "https://localhost:8080/",
          "height": 51
        },
        "outputId": "e4d40a0c-5f2c-47bd-b11e-b620cba2322c"
      },
      "source": [
        "! pip install jsonlines\n",
        "import json\n",
        "import jsonlines\n",
        "import re\n",
        "import numpy as np\n",
        "import pandas as pd"
      ],
      "execution_count": 12,
      "outputs": [
        {
          "output_type": "stream",
          "text": [
            "Requirement already satisfied: jsonlines in /usr/local/lib/python3.6/dist-packages (1.2.0)\n",
            "Requirement already satisfied: six in /usr/local/lib/python3.6/dist-packages (from jsonlines) (1.15.0)\n"
          ],
          "name": "stdout"
        }
      ]
    },
    {
      "cell_type": "markdown",
      "metadata": {
        "id": "nZt0bQrS8sJo",
        "colab_type": "text"
      },
      "source": [
        "# Данные"
      ]
    },
    {
      "cell_type": "code",
      "metadata": {
        "id": "IGh-PIYGwppR",
        "colab_type": "code",
        "colab": {
          "base_uri": "https://localhost:8080/",
          "height": 1000
        },
        "outputId": "418eaadb-0131-46f9-f960-2bfae0160bbd"
      },
      "source": [
        "! wget https://dl.fbaipublicfiles.com/LAMA/data.zip\n",
        "! unzip data.zip\n",
        "! wget https://dl.fbaipublicfiles.com/MLQA/MLQA_V1.zip\n",
        "! unzip /content/MLQA_V1.zip\n",
        "\n",
        "! wget http://files.deeppavlov.ai/datasets/sber_squad-v1.1.tar.gz\n",
        "! tar xf /content/sber_squad-v1.1.tar.gz"
      ],
      "execution_count": null,
      "outputs": [
        {
          "output_type": "stream",
          "text": [
            "--2020-07-30 12:07:51--  https://dl.fbaipublicfiles.com/MLQA/MLQA_V1.zip\n",
            "Resolving dl.fbaipublicfiles.com (dl.fbaipublicfiles.com)... 104.22.74.142, 172.67.9.4, 104.22.75.142, ...\n",
            "Connecting to dl.fbaipublicfiles.com (dl.fbaipublicfiles.com)|104.22.74.142|:443... connected.\n",
            "HTTP request sent, awaiting response... 200 OK\n",
            "Length: 75719050 (72M) [application/zip]\n",
            "Saving to: ‘MLQA_V1.zip’\n",
            "\n",
            "MLQA_V1.zip         100%[===================>]  72.21M  20.5MB/s    in 3.9s    \n",
            "\n",
            "2020-07-30 12:07:55 (18.7 MB/s) - ‘MLQA_V1.zip’ saved [75719050/75719050]\n",
            "\n",
            "Archive:  /content/MLQA_V1.zip\n",
            "   creating: MLQA_V1/\n",
            "   creating: MLQA_V1/dev/\n",
            "  inflating: MLQA_V1/dev/dev-context-ar-question-ar.json  \n",
            "  inflating: MLQA_V1/dev/dev-context-ar-question-de.json  \n",
            "  inflating: MLQA_V1/dev/dev-context-ar-question-en.json  \n",
            "  inflating: MLQA_V1/dev/dev-context-ar-question-es.json  \n",
            "  inflating: MLQA_V1/dev/dev-context-ar-question-hi.json  \n",
            "  inflating: MLQA_V1/dev/dev-context-ar-question-vi.json  \n",
            "  inflating: MLQA_V1/dev/dev-context-ar-question-zh.json  \n",
            "  inflating: MLQA_V1/dev/dev-context-de-question-ar.json  \n",
            "  inflating: MLQA_V1/dev/dev-context-de-question-de.json  \n",
            "  inflating: MLQA_V1/dev/dev-context-de-question-en.json  \n",
            "  inflating: MLQA_V1/dev/dev-context-de-question-es.json  \n",
            "  inflating: MLQA_V1/dev/dev-context-de-question-hi.json  \n",
            "  inflating: MLQA_V1/dev/dev-context-de-question-vi.json  \n",
            "  inflating: MLQA_V1/dev/dev-context-de-question-zh.json  \n",
            "  inflating: MLQA_V1/dev/dev-context-en-question-ar.json  \n",
            "  inflating: MLQA_V1/dev/dev-context-en-question-de.json  \n",
            "  inflating: MLQA_V1/dev/dev-context-en-question-en.json  \n",
            "  inflating: MLQA_V1/dev/dev-context-en-question-es.json  \n",
            "  inflating: MLQA_V1/dev/dev-context-en-question-hi.json  \n",
            "  inflating: MLQA_V1/dev/dev-context-en-question-vi.json  \n",
            "  inflating: MLQA_V1/dev/dev-context-en-question-zh.json  \n",
            "  inflating: MLQA_V1/dev/dev-context-es-question-ar.json  \n",
            "  inflating: MLQA_V1/dev/dev-context-es-question-de.json  \n",
            "  inflating: MLQA_V1/dev/dev-context-es-question-en.json  \n",
            "  inflating: MLQA_V1/dev/dev-context-es-question-es.json  \n",
            "  inflating: MLQA_V1/dev/dev-context-es-question-hi.json  \n",
            "  inflating: MLQA_V1/dev/dev-context-es-question-vi.json  \n",
            "  inflating: MLQA_V1/dev/dev-context-es-question-zh.json  \n",
            "  inflating: MLQA_V1/dev/dev-context-hi-question-ar.json  \n",
            "  inflating: MLQA_V1/dev/dev-context-hi-question-de.json  \n",
            "  inflating: MLQA_V1/dev/dev-context-hi-question-en.json  \n",
            "  inflating: MLQA_V1/dev/dev-context-hi-question-es.json  \n",
            "  inflating: MLQA_V1/dev/dev-context-hi-question-hi.json  \n",
            "  inflating: MLQA_V1/dev/dev-context-hi-question-vi.json  \n",
            "  inflating: MLQA_V1/dev/dev-context-hi-question-zh.json  \n",
            "  inflating: MLQA_V1/dev/dev-context-vi-question-ar.json  \n",
            "  inflating: MLQA_V1/dev/dev-context-vi-question-de.json  \n",
            "  inflating: MLQA_V1/dev/dev-context-vi-question-en.json  \n",
            "  inflating: MLQA_V1/dev/dev-context-vi-question-es.json  \n",
            "  inflating: MLQA_V1/dev/dev-context-vi-question-hi.json  \n",
            "  inflating: MLQA_V1/dev/dev-context-vi-question-vi.json  \n",
            "  inflating: MLQA_V1/dev/dev-context-vi-question-zh.json  \n",
            "  inflating: MLQA_V1/dev/dev-context-zh-question-ar.json  \n",
            "  inflating: MLQA_V1/dev/dev-context-zh-question-de.json  \n",
            "  inflating: MLQA_V1/dev/dev-context-zh-question-en.json  \n",
            "  inflating: MLQA_V1/dev/dev-context-zh-question-es.json  \n",
            "  inflating: MLQA_V1/dev/dev-context-zh-question-hi.json  \n",
            "  inflating: MLQA_V1/dev/dev-context-zh-question-vi.json  \n",
            "  inflating: MLQA_V1/dev/dev-context-zh-question-zh.json  \n",
            "   creating: MLQA_V1/test/\n",
            "  inflating: MLQA_V1/test/test-context-ar-question-ar.json  \n",
            "  inflating: MLQA_V1/test/test-context-ar-question-de.json  \n",
            "  inflating: MLQA_V1/test/test-context-ar-question-en.json  \n",
            "  inflating: MLQA_V1/test/test-context-ar-question-es.json  \n",
            "  inflating: MLQA_V1/test/test-context-ar-question-hi.json  \n",
            "  inflating: MLQA_V1/test/test-context-ar-question-vi.json  \n",
            "  inflating: MLQA_V1/test/test-context-ar-question-zh.json  \n",
            "  inflating: MLQA_V1/test/test-context-de-question-ar.json  \n",
            "  inflating: MLQA_V1/test/test-context-de-question-de.json  \n",
            "  inflating: MLQA_V1/test/test-context-de-question-en.json  \n",
            "  inflating: MLQA_V1/test/test-context-de-question-es.json  \n",
            "  inflating: MLQA_V1/test/test-context-de-question-hi.json  \n",
            "  inflating: MLQA_V1/test/test-context-de-question-vi.json  \n",
            "  inflating: MLQA_V1/test/test-context-de-question-zh.json  \n",
            "  inflating: MLQA_V1/test/test-context-en-question-ar.json  \n",
            "  inflating: MLQA_V1/test/test-context-en-question-de.json  \n",
            "  inflating: MLQA_V1/test/test-context-en-question-en.json  \n",
            "  inflating: MLQA_V1/test/test-context-en-question-es.json  \n",
            "  inflating: MLQA_V1/test/test-context-en-question-hi.json  \n",
            "  inflating: MLQA_V1/test/test-context-en-question-vi.json  \n",
            "  inflating: MLQA_V1/test/test-context-en-question-zh.json  \n",
            "  inflating: MLQA_V1/test/test-context-es-question-ar.json  \n",
            "  inflating: MLQA_V1/test/test-context-es-question-de.json  \n",
            "  inflating: MLQA_V1/test/test-context-es-question-en.json  \n",
            "  inflating: MLQA_V1/test/test-context-es-question-es.json  \n",
            "  inflating: MLQA_V1/test/test-context-es-question-hi.json  \n",
            "  inflating: MLQA_V1/test/test-context-es-question-vi.json  \n",
            "  inflating: MLQA_V1/test/test-context-es-question-zh.json  \n",
            "  inflating: MLQA_V1/test/test-context-hi-question-ar.json  \n",
            "  inflating: MLQA_V1/test/test-context-hi-question-de.json  \n",
            "  inflating: MLQA_V1/test/test-context-hi-question-en.json  \n",
            "  inflating: MLQA_V1/test/test-context-hi-question-es.json  \n",
            "  inflating: MLQA_V1/test/test-context-hi-question-hi.json  \n",
            "  inflating: MLQA_V1/test/test-context-hi-question-vi.json  \n",
            "  inflating: MLQA_V1/test/test-context-hi-question-zh.json  \n",
            "  inflating: MLQA_V1/test/test-context-vi-question-ar.json  \n",
            "  inflating: MLQA_V1/test/test-context-vi-question-de.json  \n",
            "  inflating: MLQA_V1/test/test-context-vi-question-en.json  \n",
            "  inflating: MLQA_V1/test/test-context-vi-question-es.json  \n",
            "  inflating: MLQA_V1/test/test-context-vi-question-hi.json  \n",
            "  inflating: MLQA_V1/test/test-context-vi-question-vi.json  \n",
            "  inflating: MLQA_V1/test/test-context-vi-question-zh.json  \n",
            "  inflating: MLQA_V1/test/test-context-zh-question-ar.json  \n",
            "  inflating: MLQA_V1/test/test-context-zh-question-de.json  \n",
            "  inflating: MLQA_V1/test/test-context-zh-question-en.json  \n",
            "  inflating: MLQA_V1/test/test-context-zh-question-es.json  \n",
            "  inflating: MLQA_V1/test/test-context-zh-question-hi.json  \n",
            "  inflating: MLQA_V1/test/test-context-zh-question-vi.json  \n",
            "  inflating: MLQA_V1/test/test-context-zh-question-zh.json  \n",
            "  inflating: MLQA_V1/LICENSE         \n",
            "--2020-07-30 12:08:01--  http://files.deeppavlov.ai/datasets/sber_squad-v1.1.tar.gz\n",
            "Resolving files.deeppavlov.ai (files.deeppavlov.ai)... 93.175.29.74\n",
            "Connecting to files.deeppavlov.ai (files.deeppavlov.ai)|93.175.29.74|:80... connected.\n",
            "HTTP request sent, awaiting response... 200 OK\n",
            "Length: 22825727 (22M) [application/octet-stream]\n",
            "Saving to: ‘sber_squad-v1.1.tar.gz’\n",
            "\n",
            "sber_squad-v1.1.tar 100%[===================>]  21.77M  3.14MB/s    in 8.5s    \n",
            "\n",
            "2020-07-30 12:08:10 (2.56 MB/s) - ‘sber_squad-v1.1.tar.gz’ saved [22825727/22825727]\n",
            "\n"
          ],
          "name": "stdout"
        }
      ]
    },
    {
      "cell_type": "markdown",
      "metadata": {
        "id": "Gqd6GKtQVaVR",
        "colab_type": "text"
      },
      "source": [
        "Нужный формат"
      ]
    },
    {
      "cell_type": "code",
      "metadata": {
        "id": "o9k97y-xx4zL",
        "colab_type": "code",
        "colab": {
          "base_uri": "https://localhost:8080/",
          "height": 207
        },
        "outputId": "2f9d32a8-9dc7-4a51-f029-7e3d9475f7f9"
      },
      "source": [
        "num_examples = 10\n",
        "with open('/content/data/Squad/test.jsonl') as f:\n",
        "  for line in f.readlines()[:num_examples]:\n",
        "    lama = json.loads(line)\n",
        "    print(lama)"
      ],
      "execution_count": null,
      "outputs": [
        {
          "output_type": "stream",
          "text": [
            "{'masked_sentences': ['To emphasize the 50th anniversary of the Super Bowl the [MASK] color was used.'], 'obj_label': 'gold', 'id': '56be4db0acb8001400a502f0_0', 'sub_label': 'Squad'}\n",
            "{'masked_sentences': ['Von Miller plays in [MASK] position for the Denver Broncos.'], 'obj_label': 'linebacker', 'id': '56bf17653aeaaa14008c9513_0', 'sub_label': 'Squad'}\n",
            "{'masked_sentences': ['The TGIF comedy Family Matters for the 1997-98 season was originally aired by [MASK].'], 'obj_label': 'CBS', 'id': '57273b69dd62a815002e99d8_0', 'sub_label': 'Squad'}\n",
            "{'masked_sentences': ['Thomas Davis broke his [MASK] during the NFC Championship Game.'], 'obj_label': 'arm', 'id': '56bf3a223aeaaa14008c9576_0', 'sub_label': 'Squad'}\n",
            "{'masked_sentences': ['The first choice in the NFL draft of 1998 was [MASK].'], 'obj_label': 'Manning', 'id': '56bf41013aeaaa14008c959b_0', 'sub_label': 'Squad'}\n",
            "{'masked_sentences': ['Newton played as [MASK] during Super Bowl 50.'], 'obj_label': 'quarterback', 'id': '56bf41013aeaaa14008c959e_0', 'sub_label': 'Squad'}\n",
            "{'masked_sentences': ['The Panthers head coach for the 2015 season was [MASK].'], 'obj_label': 'Rivera', 'id': '56d709ef0d65d21400198306_0', 'sub_label': 'Squad'}\n",
            "{'masked_sentences': ['Tucker plays as [MASK] with the Ravens.'], 'obj_label': 'kicker', 'id': '56bf467d3aeaaa14008c95a6_0', 'sub_label': 'Squad'}\n",
            "{'masked_sentences': ['The primary race of students attending Christian academies was [MASK].'], 'obj_label': 'white', 'id': '572757bef1498d1400e8f693_0', 'sub_label': 'Squad'}\n",
            "{'masked_sentences': ['The color of the jerseys in Super Bowl XXXII when Elway was quarterback was [MASK].'], 'obj_label': 'blue', 'id': '56d9a637dc89441400fdb698_0', 'sub_label': 'Squad'}\n"
          ],
          "name": "stdout"
        }
      ]
    },
    {
      "cell_type": "markdown",
      "metadata": {
        "id": "Z7fbyA5HVkls",
        "colab_type": "text"
      },
      "source": [
        "Отбор нужных предложений: берем только с одним токеном в ответе"
      ]
    },
    {
      "cell_type": "code",
      "metadata": {
        "id": "AcZzf2DcgXdr",
        "colab_type": "code",
        "colab": {}
      },
      "source": [
        "with open('/content/MLQA_V1/dev/dev-context-es-question-es.json') as f:\n",
        "  espanol = json.loads(f.read())\n",
        "\n",
        "with open('/content/MLQA_V1/test/test-context-es-question-es.json') as f:\n",
        "  espanol_test = json.loads(f.read())\n",
        "\n",
        "with open('/content/train-v1.1.json') as f:\n",
        "    rus = json.loads(f.read())\n",
        "\n",
        "with open('/content/dev-v1.1.json') as f:\n",
        "    rus_dev = json.loads(f.read())"
      ],
      "execution_count": null,
      "outputs": []
    },
    {
      "cell_type": "markdown",
      "metadata": {
        "id": "Jj6pYJ3ozqFb",
        "colab_type": "text"
      },
      "source": [
        "Русский язык"
      ]
    },
    {
      "cell_type": "code",
      "metadata": {
        "id": "w9tStVxh_LUJ",
        "colab_type": "code",
        "colab": {
          "base_uri": "https://localhost:8080/",
          "height": 34
        },
        "outputId": "362b8c9a-963b-41d8-ddc7-d39d18ecede5"
      },
      "source": [
        "good_questions_rus = []\n",
        "for chunk in rus['data']:\n",
        "  for sent in chunk['paragraphs']:\n",
        "    if len(sent['qas'][0]['answers'][0]['text'].split(' ')) == 1:\n",
        "      good_questions_rus.append(sent)\n",
        "len(good_questions_rus)"
      ],
      "execution_count": null,
      "outputs": [
        {
          "output_type": "execute_result",
          "data": {
            "text/plain": [
              "6906"
            ]
          },
          "metadata": {
            "tags": []
          },
          "execution_count": 14
        }
      ]
    },
    {
      "cell_type": "code",
      "metadata": {
        "id": "NOvnepkU_XVl",
        "colab_type": "code",
        "colab": {
          "base_uri": "https://localhost:8080/",
          "height": 697
        },
        "outputId": "4140ba0d-491c-47cc-8993-0075bf79b426"
      },
      "source": [
        "for chunk in good_questions_rus[:10]:\n",
        "    print(\"Question: {}\\nAnswer: {}\".format(chunk['qas'][0]['question'], chunk['qas'][0]['answers'][0]['text']))\n",
        "    print(chunk['qas'][0]['id'])\n",
        "    print()"
      ],
      "execution_count": null,
      "outputs": [
        {
          "output_type": "stream",
          "text": [
            "Question: Какие свойства в общем способно изменять смарт-стекло?\n",
            "Answer: оптические\n",
            "34107\n",
            "\n",
            "Question: В каком году Грибоедов написал водевиль Кто брат, кто сестра, или Обман за обманом ?\n",
            "Answer: 1823\n",
            "47731\n",
            "\n",
            "Question: Кем подтверждаются права на дворянские титулы в Лихтенштейне?\n",
            "Answer: Князем\n",
            "59780\n",
            "\n",
            "Question: С каким счётом закончилась первая официальная игра между сборными Германии и Швейцарии 5 апреля 1908 года?\n",
            "Answer: 5:3\n",
            "15788\n",
            "\n",
            "Question: К какому году PDP-10 уже устарели?\n",
            "Answer: 1980\n",
            "16088\n",
            "\n",
            "Question: Как, в соответствии с произношением гласного в корне слова dúona хлеб , называют носителей южножемайтских говоров?\n",
            "Answer: dū́nininkai\n",
            "82472\n",
            "\n",
            "Question: Одно из вымерших семейств змей?\n",
            "Answer: Madtsoiidae.\n",
            "82246\n",
            "\n",
            "Question: Как сбрасыают листву вечнозеленые деревья?\n",
            "Answer: порциями\n",
            "26678\n",
            "\n",
            "Question: Какое это вещество структурно?\n",
            "Answer: Аморфное\n",
            "12358\n",
            "\n",
            "Question: Что генерирует ядерный реактор?\n",
            "Answer: тепло\n",
            "29604\n",
            "\n"
          ],
          "name": "stdout"
        }
      ]
    },
    {
      "cell_type": "code",
      "metadata": {
        "id": "oKH9l6_e32BH",
        "colab_type": "code",
        "colab": {}
      },
      "source": [
        "good_questions_rus_dev = []\n",
        "for chunk in rus_dev['data']:\n",
        "  for sent in chunk['paragraphs']:\n",
        "    if len(sent['qas'][0]['answers'][0]['text'].split(' ')) == 1:\n",
        "      good_questions_rus_dev.append(sent)"
      ],
      "execution_count": null,
      "outputs": []
    },
    {
      "cell_type": "code",
      "metadata": {
        "id": "HVD6XyB04kBe",
        "colab_type": "code",
        "colab": {
          "base_uri": "https://localhost:8080/",
          "height": 697
        },
        "outputId": "be79510e-dab6-4b54-957a-d9eec4eeb2cd"
      },
      "source": [
        "for chunk in good_questions_rus_dev[:10]:\n",
        "    print(\"Question: {}\\nAnswer: {}\".format(chunk['qas'][0]['question'], chunk['qas'][0]['answers'][0]['text']))\n",
        "    print(chunk['qas'][0]['id'])\n",
        "    print()"
      ],
      "execution_count": null,
      "outputs": [
        {
          "output_type": "stream",
          "text": [
            "Question: Чем заболел Байрон в Миссолонги?\n",
            "Answer: лихорадкой\n",
            "12786\n",
            "\n",
            "Question: Как отводятся излишки тепла у млекопитающих?\n",
            "Answer: потоотделением\n",
            "39919\n",
            "\n",
            "Question: Какими русскими купцами был накоплен значимый торговый опыт?\n",
            "Answer: купцами-новгородцами\n",
            "37134\n",
            "\n",
            "Question: Какой язык стал церковным и государственным языком княжеств, в которые входили ставшие оседлыми влахи?\n",
            "Answer: церковнославянский\n",
            "41220\n",
            "\n",
            "Question: Какие индикаторы - дополнительные графики, формируемые на основе пересчёта значений, содержащихся в базовом графике цены?\n",
            "Answer: технические\n",
            "36699\n",
            "\n",
            "Question: Какие две торпеды были изготовлены в течение 1937—1938 гг. с электродвигателем мощностью 45 кВт?\n",
            "Answer: ЭТ-45\n",
            "72734\n",
            "\n",
            "Question: Кто увидел вражеский аэроплан во время розведки?\n",
            "Answer: лётчики\n",
            "31929\n",
            "\n",
            "Question: Каким уровнем генетического вклада можно оценить организм, потомство которого слабо и плохо размножаеться?\n",
            "Answer: низкими\n",
            "54643\n",
            "\n",
            "Question: Когда будет известна истинная оценка общего количества существующих видов чешуекрылых?\n",
            "Answer: никогда\n",
            "66927\n",
            "\n",
            "Question: Что такое параматма?\n",
            "Answer: сверхдуша\n",
            "12364\n",
            "\n"
          ],
          "name": "stdout"
        }
      ]
    },
    {
      "cell_type": "markdown",
      "metadata": {
        "id": "-zxTsNJxWiRB",
        "colab_type": "text"
      },
      "source": [
        "Далее отбор не зависимых от контеста предложений и составление из вопросительных утвердительных предложений (вручную)"
      ]
    },
    {
      "cell_type": "markdown",
      "metadata": {
        "id": "X6TGZBwMA1XO",
        "colab_type": "text"
      },
      "source": [
        "Испанский: шаги такие же"
      ]
    },
    {
      "cell_type": "code",
      "metadata": {
        "id": "Pc6N1if-58DC",
        "colab_type": "code",
        "colab": {
          "base_uri": "https://localhost:8080/",
          "height": 34
        },
        "outputId": "c76fca1b-1055-41bc-d391-baa3b7b3e1c4"
      },
      "source": [
        "good_questions_espanol = []\n",
        "for chunk in espanol['data']:\n",
        "  for sent in chunk['paragraphs']:\n",
        "    if len(sent['qas'][0]['answers'][0]['text'].split(' ')) == 1:\n",
        "      good_questions_espanol.append(sent)\n",
        "\n",
        "len(good_questions_espanol)"
      ],
      "execution_count": null,
      "outputs": [
        {
          "output_type": "execute_result",
          "data": {
            "text/plain": [
              "145"
            ]
          },
          "metadata": {
            "tags": []
          },
          "execution_count": 20
        }
      ]
    },
    {
      "cell_type": "code",
      "metadata": {
        "id": "F2lEWGzP7Fkc",
        "colab_type": "code",
        "colab": {
          "base_uri": "https://localhost:8080/",
          "height": 697
        },
        "outputId": "610643e1-fd01-4c56-9471-72c21215aa02"
      },
      "source": [
        "for chunk in good_questions_espanol[:10]:\n",
        "    print(\"Question: {}\\nAnswer: {}\".format(chunk['qas'][0]['question'], chunk['qas'][0]['answers'][0]['text']))\n",
        "    print(chunk['qas'][0]['id'])\n",
        "    print()"
      ],
      "execution_count": null,
      "outputs": [
        {
          "output_type": "stream",
          "text": [
            "Question: ¿Cuántos días están bajo cero en invierno?\n",
            "Answer: 40\n",
            "4c5d3e150b460d8b01cab7fc43d8343b6d2df1be\n",
            "\n",
            "Question: ¿En que alfabeto se escribía el kirguiso antes?\n",
            "Answer: árabe\n",
            "d6732b84ccc296fd04e20e4ac4a2a00817294b74\n",
            "\n",
            "Question: ¿Para qué idioma se ofrecen servicios de interpretación?\n",
            "Answer: kirguiso\n",
            "e3ef1715e6a22099d2a795d2ff2fb68212552391\n",
            "\n",
            "Question: ¿Cuál fue el nombre de su primer hijo?\n",
            "Answer: Guillermo\n",
            "08d5ad1cf72e3dd791ed788fe92cccb6d838fca2\n",
            "\n",
            "Question: ¿En qué año ocupó Prusia Holstein?\n",
            "Answer: 1866,\n",
            "ab51230ce444b86e3421b79ac50a28a4320c1e71\n",
            "\n",
            "Question: ¿Qué profesión tenía Gustav Freytag?\n",
            "Answer: escritor\n",
            "d78557a3727f5d8874b883b33e21581d562140fe\n",
            "\n",
            "Question: ¿Cuándo se construyó el aeropuerto Poznan-Lawica Henryk Wieniawki?\n",
            "Answer: 1913\n",
            "72a7a8aeddcc1a17e039b288766ca3793c1db9f9\n",
            "\n",
            "Question: ¿Con quién luchaba el jugador junto con su mayor enemigo?\n",
            "Answer: TCTF\n",
            "bf6e46e6e2f7b54c6e88819e976253236fa7db0c\n",
            "\n",
            "Question: ¿En qué año nació Traoré?\n",
            "Answer: 1974\n",
            "ea7b1a28ca38687ee4f693aba6d88143617af514\n",
            "\n",
            "Question: ¿En qué año falleció Robert Coleman Richardson?\n",
            "Answer: 2013\n",
            "0d72681df562d3b59f065130cdb302f51c10212e\n",
            "\n"
          ],
          "name": "stdout"
        }
      ]
    },
    {
      "cell_type": "code",
      "metadata": {
        "id": "05scby4k7h2e",
        "colab_type": "code",
        "colab": {
          "base_uri": "https://localhost:8080/",
          "height": 34
        },
        "outputId": "9d01499e-48b5-40bf-a1ed-4a332135d671"
      },
      "source": [
        "good_questions_espanol_test = []\n",
        "for chunk in espanol_test['data']:\n",
        "  for sent in chunk['paragraphs']:\n",
        "    if len(sent['qas'][0]['answers'][0]['text'].split(' ')) == 1:\n",
        "      good_questions_espanol_test.append(sent)\n",
        "len(good_questions_espanol_test)"
      ],
      "execution_count": null,
      "outputs": [
        {
          "output_type": "execute_result",
          "data": {
            "text/plain": [
              "1548"
            ]
          },
          "metadata": {
            "tags": []
          },
          "execution_count": 22
        }
      ]
    },
    {
      "cell_type": "code",
      "metadata": {
        "id": "KQb24l8b8LcU",
        "colab_type": "code",
        "colab": {
          "base_uri": "https://localhost:8080/",
          "height": 717
        },
        "outputId": "3f429c0d-e7c4-4328-c291-3377af0f4b0f"
      },
      "source": [
        "for chunk in good_questions_espanol[:10]:\n",
        "    print(\"Question: {}\\nAnswer: {}\".format(chunk['qas'][0]['question'], chunk['qas'][0]['answers'][0]['text']))\n",
        "    print(chunk['qas'][0]['id'])\n",
        "    print()"
      ],
      "execution_count": null,
      "outputs": [
        {
          "output_type": "stream",
          "text": [
            "Question: ¿Cuántos días están bajo cero en invierno?\n",
            "Answer: 40\n",
            "4c5d3e150b460d8b01cab7fc43d8343b6d2df1be\n",
            "\n",
            "Question: ¿En que alfabeto se escribía el kirguiso antes?\n",
            "Answer: árabe\n",
            "d6732b84ccc296fd04e20e4ac4a2a00817294b74\n",
            "\n",
            "Question: ¿Para qué idioma se ofrecen servicios de interpretación?\n",
            "Answer: kirguiso\n",
            "e3ef1715e6a22099d2a795d2ff2fb68212552391\n",
            "\n",
            "Question: ¿Cuál fue el nombre de su primer hijo?\n",
            "Answer: Guillermo\n",
            "08d5ad1cf72e3dd791ed788fe92cccb6d838fca2\n",
            "\n",
            "Question: ¿En qué año ocupó Prusia Holstein?\n",
            "Answer: 1866,\n",
            "ab51230ce444b86e3421b79ac50a28a4320c1e71\n",
            "\n",
            "Question: ¿Qué profesión tenía Gustav Freytag?\n",
            "Answer: escritor\n",
            "d78557a3727f5d8874b883b33e21581d562140fe\n",
            "\n",
            "Question: ¿Cuándo se construyó el aeropuerto Poznan-Lawica Henryk Wieniawki?\n",
            "Answer: 1913\n",
            "72a7a8aeddcc1a17e039b288766ca3793c1db9f9\n",
            "\n",
            "Question: ¿Con quién luchaba el jugador junto con su mayor enemigo?\n",
            "Answer: TCTF\n",
            "bf6e46e6e2f7b54c6e88819e976253236fa7db0c\n",
            "\n",
            "Question: ¿En qué año nació Traoré?\n",
            "Answer: 1974\n",
            "ea7b1a28ca38687ee4f693aba6d88143617af514\n",
            "\n",
            "Question: ¿En qué año falleció Robert Coleman Richardson?\n",
            "Answer: 2013\n",
            "0d72681df562d3b59f065130cdb302f51c10212e\n",
            "\n"
          ],
          "name": "stdout"
        }
      ]
    },
    {
      "cell_type": "markdown",
      "metadata": {
        "id": "5xgH9hfFdee6",
        "colab_type": "text"
      },
      "source": [
        "Данные были занесены в таблицу с колонками, соответствующим ключам из xLama (предложение, ответ, айди)"
      ]
    },
    {
      "cell_type": "code",
      "metadata": {
        "id": "H2XVVe9l03an",
        "colab_type": "code",
        "colab": {
          "base_uri": "https://localhost:8080/",
          "height": 34
        },
        "outputId": "52fb1579-57f1-49d5-9403-6779ee31d7d0"
      },
      "source": [
        "data_s = pd.read_excel(\"/content/Squad_rus.xls\")\n",
        "data_s.drop_duplicates(\"id\", inplace=True)\n",
        "data_s.obj_label = data_s.obj_label.astype(str)\n",
        "len(data_s[\"id\"])"
      ],
      "execution_count": 212,
      "outputs": [
        {
          "output_type": "execute_result",
          "data": {
            "text/plain": [
              "202"
            ]
          },
          "metadata": {
            "tags": []
          },
          "execution_count": 212
        }
      ]
    },
    {
      "cell_type": "code",
      "metadata": {
        "id": "a387x1mj1fmS",
        "colab_type": "code",
        "colab": {}
      },
      "source": [
        "Squad_rus = []\n",
        "for index, data in data_s.iterrows():\n",
        "  obj = {'masked_sentences':[data['sentences']], 'obj_label':data['obj_label'], 'id':data['id'], 'sub_label':\"Squad\"}\n",
        "  Squad_rus.append(obj)"
      ],
      "execution_count": 213,
      "outputs": []
    },
    {
      "cell_type": "markdown",
      "metadata": {
        "id": "U_S6YCAWXoo6",
        "colab_type": "text"
      },
      "source": [
        "Примеры на русском"
      ]
    },
    {
      "cell_type": "code",
      "metadata": {
        "id": "OMItRsy51fi3",
        "colab_type": "code",
        "colab": {
          "base_uri": "https://localhost:8080/",
          "height": 207
        },
        "outputId": "0f1db2ac-9177-449f-f191-3de72f408c5e"
      },
      "source": [
        "for i in Squad_rus[:10]:\n",
        "  print(i)"
      ],
      "execution_count": null,
      "outputs": [
        {
          "output_type": "stream",
          "text": [
            "{'masked_sentences': ['Байрон заболел [MASK] в Миссолонги.'], 'obj_label': 'лихорадкой', 'id': 12786, 'sub_label': 'Squad'}\n",
            "{'masked_sentences': ['Bзлишки тепла у млекопитающих отводятся [MASK].'], 'obj_label': 'потоотделением', 'id': 39919, 'sub_label': 'Squad'}\n",
            "{'masked_sentences': ['Кристаллы различной формы имеют [MASK] вершины.'], 'obj_label': 'острые', 'id': 70862, 'sub_label': 'Squad'}\n",
            "{'masked_sentences': ['Виноградов предложил [MASK] методов оценки модуля тригонометрических сумм.'], 'obj_label': 'два', 'id': 23098, 'sub_label': 'Squad'}\n",
            "{'masked_sentences': ['Группы: Devo, Suicide, Television, Talking Heads являются представителями [MASK].'], 'obj_label': 'постпанка', 'id': 69511, 'sub_label': 'Squad'}\n",
            "{'masked_sentences': ['Раковины [MASK] выставлялись на показ в интерьерах XIX века.'], 'obj_label': 'моллюсков', 'id': 33857, 'sub_label': 'Squad'}\n",
            "{'masked_sentences': ['Круг кровообращения, функционирующий через легкие, называется [MASK].'], 'obj_label': 'малым', 'id': 19286, 'sub_label': 'Squad'}\n",
            "{'masked_sentences': ['Водородные соединения других элементов являются [MASK].'], 'obj_label': 'газами', 'id': 80930, 'sub_label': 'Squad'}\n",
            "{'masked_sentences': ['[MASK] лихорадка передается через укус комара.'], 'obj_label': 'Жёлтая', 'id': 49976, 'sub_label': 'Squad'}\n",
            "{'masked_sentences': ['Химическая реакция, происходящая при участии катализаторов, называется [MASK].'], 'obj_label': 'катализ', 'id': 7324, 'sub_label': 'Squad'}\n"
          ],
          "name": "stdout"
        }
      ]
    },
    {
      "cell_type": "markdown",
      "metadata": {
        "id": "7ePaB8-yZgJc",
        "colab_type": "text"
      },
      "source": [
        "И теперь записываем в нужном формате"
      ]
    },
    {
      "cell_type": "code",
      "metadata": {
        "id": "x69ifca71ffJ",
        "colab_type": "code",
        "colab": {}
      },
      "source": [
        "with jsonlines.open('test_russian.jsonl', mode='w') as writer:\n",
        "    writer.write_all(Squad_rus)"
      ],
      "execution_count": 214,
      "outputs": []
    },
    {
      "cell_type": "markdown",
      "metadata": {
        "id": "9FA9_oxYZpDQ",
        "colab_type": "text"
      },
      "source": [
        "Теперь то же самое для Испанского"
      ]
    },
    {
      "cell_type": "code",
      "metadata": {
        "id": "vEgNv5NlZt62",
        "colab_type": "code",
        "colab": {
          "base_uri": "https://localhost:8080/",
          "height": 34
        },
        "outputId": "2dca644d-7aed-4f20-85fe-971606cb8d89"
      },
      "source": [
        "data_s = pd.read_excel(\"/content/Spanish_SQUAD_data_prepared_sentences.xls\")\n",
        "data_s.drop_duplicates(\"id\", inplace=True)\n",
        "len(data_s[\"id\"])"
      ],
      "execution_count": 208,
      "outputs": [
        {
          "output_type": "execute_result",
          "data": {
            "text/plain": [
              "200"
            ]
          },
          "metadata": {
            "tags": []
          },
          "execution_count": 208
        }
      ]
    },
    {
      "cell_type": "code",
      "metadata": {
        "id": "1y5lZLgI0qXv",
        "colab_type": "code",
        "colab": {}
      },
      "source": [
        "data_s.obj_label = data_s.obj_label.astype(str)"
      ],
      "execution_count": 209,
      "outputs": []
    },
    {
      "cell_type": "code",
      "metadata": {
        "id": "4ZTlQq9i9xlx",
        "colab_type": "code",
        "colab": {}
      },
      "source": [
        "Squad_esp = []\n",
        "for index, data in data_s.iterrows():\n",
        "  obj = {'masked_sentences':[data['masked_sentences']], 'obj_label':data['obj_label'], 'id':data['id'], 'sub_label':\"Squad\"}\n",
        "  Squad_esp.append(obj)"
      ],
      "execution_count": 210,
      "outputs": []
    },
    {
      "cell_type": "markdown",
      "metadata": {
        "id": "leGbAhuAaApL",
        "colab_type": "text"
      },
      "source": [
        " Примеры"
      ]
    },
    {
      "cell_type": "code",
      "metadata": {
        "id": "zQbwmHqR_NLB",
        "colab_type": "code",
        "colab": {
          "base_uri": "https://localhost:8080/",
          "height": 207
        },
        "outputId": "33d2b007-6fa7-402c-ea63-082623ee8971"
      },
      "source": [
        "for i in Squad_esp[:10]:\n",
        "  print(i)"
      ],
      "execution_count": null,
      "outputs": [
        {
          "output_type": "stream",
          "text": [
            "{'masked_sentences': ['Klaudia Gallovits-Hall es de nacionalidad  [MASK].'], 'obj_label': 'rumana', 'id': 'fc144486715b86fc8538e24b9dcf83aca08e3b36', 'sub_label': 'Squad'}\n",
            "{'masked_sentences': ['Inglaterra puede separarse oficialmente en [MASK] areas.'], 'obj_label': 'nueve', 'id': '79335fe69a4757e3edf229b1ca6cc6e61ec7e428', 'sub_label': 'Squad'}\n",
            "{'masked_sentences': ['La dinastía mogol se estableció en [MASK].'], 'obj_label': '1526', 'id': '179cfa1786b78adce6971d822061bfd7317d5fe0', 'sub_label': 'Squad'}\n",
            "{'masked_sentences': ['El idioma número uno en términos de números de usuarios de Wikipedia es [MASK].'], 'obj_label': 'inglés', 'id': '370921c39d6ecf8b3dd662739e17d3646d89a36a', 'sub_label': 'Squad'}\n",
            "{'masked_sentences': ['[MASK] teorizó sobre la cosmología en la que la Tierra tenía forma de un pilar.'], 'obj_label': 'Anaximandro', 'id': 'fe8e18a717d84104dce27dba6485db4bdd9e6f36', 'sub_label': 'Squad'}\n",
            "{'masked_sentences': ['El álbum de estudio de Britney Spears que lanzó después del segundo se llamó [MASK].'], 'obj_label': 'Britney', 'id': 'fb612186581e69a1cecafc6c10ab5ea282609597', 'sub_label': 'Squad'}\n",
            "{'masked_sentences': ['Piaget en su reloj en 1979 presentó el estilo [MASK].'], 'obj_label': 'vanguardista', 'id': 'b9c4f95cef0499bbc560673068ad3dcc90655835', 'sub_label': 'Squad'}\n",
            "{'masked_sentences': ['Se pasó a llamar Barclays en [MASK].'], 'obj_label': '1736', 'id': '0dba79afc1c60403b38c86282b1a02814b50625c', 'sub_label': 'Squad'}\n",
            "{'masked_sentences': ['Las polillas y las moscas son ejemplos del clase de [MASK].'], 'obj_label': 'invertebrados', 'id': '4784eb3c2ee9613ac337238b41b680a6555a8b11', 'sub_label': 'Squad'}\n",
            "{'masked_sentences': ['La nacionalidad de Friedrich Trendelenburg es [MASK].'], 'obj_label': 'alemán', 'id': '9ef619ff3f1ef099446093fa0790a549acd2b35a', 'sub_label': 'Squad'}\n"
          ],
          "name": "stdout"
        }
      ]
    },
    {
      "cell_type": "markdown",
      "metadata": {
        "id": "z7IyK0inaIRF",
        "colab_type": "text"
      },
      "source": [
        "И опять же запись в нужный формат"
      ]
    },
    {
      "cell_type": "code",
      "metadata": {
        "id": "DDgaY0KmBib5",
        "colab_type": "code",
        "colab": {}
      },
      "source": [
        "with jsonlines.open('test_espanol.jsonl', mode='w') as writer:\n",
        "    writer.write_all(Squad_esp)"
      ],
      "execution_count": 211,
      "outputs": []
    },
    {
      "cell_type": "code",
      "metadata": {
        "id": "VdQPAvxYoLZK",
        "colab_type": "code",
        "colab": {}
      },
      "source": [
        "with open('/content/MLQA_V1/dev/dev-context-en-question-en.json') as f:\n",
        "  espanol = json.loads(f.read())"
      ],
      "execution_count": null,
      "outputs": []
    },
    {
      "cell_type": "code",
      "metadata": {
        "id": "K1vx_ha_oLXR",
        "colab_type": "code",
        "colab": {
          "base_uri": "https://localhost:8080/",
          "height": 34
        },
        "outputId": "47dc7397-7c15-4382-e73c-b63190349999"
      },
      "source": [
        "good_questions_rus = []\n",
        "for chunk in espanol['data']:\n",
        "  for sent in chunk['paragraphs']:\n",
        "    if len(sent['qas'][0]['answers'][0]['text'].split(' ')) == 1:\n",
        "      good_questions_rus.append(sent)\n",
        "len(good_questions_rus)"
      ],
      "execution_count": null,
      "outputs": [
        {
          "output_type": "execute_result",
          "data": {
            "text/plain": [
              "373"
            ]
          },
          "metadata": {
            "tags": []
          },
          "execution_count": 4
        }
      ]
    },
    {
      "cell_type": "markdown",
      "metadata": {
        "id": "W816Lhx3fgO-",
        "colab_type": "text"
      },
      "source": [
        " # Часть 2 с переводом на испанский/немецким\n",
        "\n"
      ]
    },
    {
      "cell_type": "markdown",
      "metadata": {
        "id": "f6yfRYuAKjrc",
        "colab_type": "text"
      },
      "source": [
        "С переводом наблюдается ряд проблем, так как нет однозначного соответствия: token_lang1 - token_lang2. Какие-то слова переводятся на другой язык целыми словосочетаниями или же наоборот; также в русском языке нет артиклей, характерных для испанского. Поэтому нет возможности запомнить айди токена, чтобыы заменить его потом на MASK. Да и в целом местами перевод все же не совсем адекватный и требует постобработки."
      ]
    },
    {
      "cell_type": "code",
      "metadata": {
        "id": "pog662q8oeco",
        "colab_type": "code",
        "colab": {}
      },
      "source": [
        "esp = []\n",
        "with open('/content/test_espanol.jsonl') as f:\n",
        "  for line in f.readlines():\n",
        "    lama = json.loads(line)\n",
        "    esp.append(lama)\n",
        "\n",
        "rus = []\n",
        "with open('/content/test_russian.jsonl') as f:\n",
        "  for line in f.readlines():\n",
        "    lama = json.loads(line)\n",
        "    rus.append(lama)"
      ],
      "execution_count": 231,
      "outputs": []
    },
    {
      "cell_type": "code",
      "metadata": {
        "id": "PWixaIOffilu",
        "colab_type": "code",
        "colab": {}
      },
      "source": [
        "! pip install transformers\n",
        "from transformers import MarianMTModel, MarianTokenizer\n",
        "model_name = 'Helsinki-NLP/opus-mt-es-ru'\n",
        "tokenizer = MarianTokenizer.from_pretrained(model_name)\n",
        "model = MarianMTModel.from_pretrained(model_name)"
      ],
      "execution_count": null,
      "outputs": []
    },
    {
      "cell_type": "markdown",
      "metadata": {
        "id": "WN4EAQSTNNmx",
        "colab_type": "text"
      },
      "source": [
        "Добавляем обратно слова вместо специального токена, чтобы получить более адекватный перевод"
      ]
    },
    {
      "cell_type": "code",
      "metadata": {
        "id": "x5ODEJKIgDg0",
        "colab_type": "code",
        "colab": {}
      },
      "source": [
        "ids = []\n",
        "triplets = []\n",
        "for obj in rus:\n",
        "  temp = obj['masked_sentences'][0].split(\" \")\n",
        "  for i, token in enumerate(obj['masked_sentences'][0].split(\" \")):\n",
        "      if token == \"[MASK]\":\n",
        "        ids.append(i)\n",
        "        temp[i] = obj['obj_label']\n",
        "      if token == \"[MASK].\":\n",
        "        ids.append(i)\n",
        "        temp[i] = obj['obj_label']+\".\"\n",
        "      if token == \"[MASK],\":\n",
        "        ids.append(i)\n",
        "        temp[i] = obj['obj_label']+\",\"\n",
        "        \n",
        "  triplets.append([[\" \".join(temp)], obj['obj_label'], obj['id']])"
      ],
      "execution_count": 84,
      "outputs": []
    },
    {
      "cell_type": "code",
      "metadata": {
        "id": "XNWFlci6hpPJ",
        "colab_type": "code",
        "colab": {
          "base_uri": "https://localhost:8080/",
          "height": 187
        },
        "outputId": "046a2748-af3f-4ffa-c79a-e4d266faaf2a"
      },
      "source": [
        "num_ex = 10\n",
        "for i in triplets[:num_ex]:\n",
        "  print(i)"
      ],
      "execution_count": null,
      "outputs": [
        {
          "output_type": "stream",
          "text": [
            "[['Байрон заболел лихорадкой в Миссолонги.'], 'лихорадкой', 12786]\n",
            "[['Излишки тепла у млекопитающих отводятся потоотделением.'], 'потоотделением', 39919]\n",
            "[['Кристаллы различной формы имеют острые вершины.'], 'острые', 70862]\n",
            "[['Виноградов предложил два методов оценки модуля тригонометрических сумм.'], 'два', 23098]\n",
            "[['Группы: Devo, Suicide, Television, Talking Heads являются представителями постпанка.'], 'постпанка', 69511]\n",
            "[['Раковины моллюсков выставлялись на показ в интерьерах XIX века.'], 'моллюсков', 33857]\n",
            "[['Круг кровообращения, функционирующий через легкие, называется малым.'], 'малым', 19286]\n",
            "[['Водородные соединения других элементов являются газами.'], 'газами', 80930]\n",
            "[['Жёлтая лихорадка передается через укус комара.'], 'Жёлтая', 49976]\n",
            "[['Химическая реакция, происходящая при участии катализаторов, называется катализ.'], 'катализ', 7324]\n"
          ],
          "name": "stdout"
        }
      ]
    },
    {
      "cell_type": "markdown",
      "metadata": {
        "id": "rFIooGCdNdCT",
        "colab_type": "text"
      },
      "source": [
        "Переводим и сохраняем"
      ]
    },
    {
      "cell_type": "code",
      "metadata": {
        "id": "R19crjK_hzmX",
        "colab_type": "code",
        "colab": {}
      },
      "source": [
        "for i in triplets:\n",
        "  translated = model.generate(**tokenizer.prepare_translation_batch(i[0]))\n",
        "  tgt_text = [tokenizer.decode(t, skip_special_tokens=True) for t in translated]\n",
        "  i[0] = tgt_text\n",
        "\n",
        "data = pd.DataFrame(triplets)\n",
        "data.to_csv('translated_to_rus')"
      ],
      "execution_count": 87,
      "outputs": []
    },
    {
      "cell_type": "markdown",
      "metadata": {
        "id": "hSYPI9NENgMe",
        "colab_type": "text"
      },
      "source": [
        "Дальше опять дорабатываем вручную "
      ]
    },
    {
      "cell_type": "markdown",
      "metadata": {
        "id": "4XiqeYn5OrXl",
        "colab_type": "text"
      },
      "source": [
        "То же самое и для обратного перевода"
      ]
    },
    {
      "cell_type": "code",
      "metadata": {
        "id": "ZQoBGRJYbsYY",
        "colab_type": "code",
        "colab": {}
      },
      "source": [
        "ids = []\n",
        "triplets = []\n",
        "for obj in esp:\n",
        "  temp = obj['masked_sentences'][0].split(\" \")\n",
        "  for i, token in enumerate(obj['masked_sentences'][0].split(\" \")):\n",
        "      if token == \"[MASK]\":\n",
        "        ids.append(i)\n",
        "        temp[i] = obj['obj_label']\n",
        "      if token == \"[MASK].\":\n",
        "        ids.append(i)\n",
        "        temp[i] = obj['obj_label']+\".\"\n",
        "      if token == \"[MASK],\":\n",
        "        ids.append(i)\n",
        "        temp[i] = obj['obj_label']+\",\"\n",
        "        \n",
        "  triplets.append([[\" \".join(temp)], obj['obj_label'], obj['id']])"
      ],
      "execution_count": 114,
      "outputs": []
    },
    {
      "cell_type": "code",
      "metadata": {
        "id": "Gjar-5vSbuo6",
        "colab_type": "code",
        "colab": {
          "base_uri": "https://localhost:8080/",
          "height": 207
        },
        "outputId": "a003e2f4-4159-46b6-d6bd-0d0c90d44558"
      },
      "source": [
        "num_ex = 10\n",
        "for i in triplets[:num_ex]:\n",
        "  print(i)"
      ],
      "execution_count": 116,
      "outputs": [
        {
          "output_type": "stream",
          "text": [
            "[['Klaudia Gallovits-Hall es de nacionalidad  rumana.'], 'rumana', 'fc144486715b86fc8538e24b9dcf83aca08e3b36']\n",
            "[['Inglaterra puede separarse oficialmente en nueve areas.'], 'nueve', '79335fe69a4757e3edf229b1ca6cc6e61ec7e428']\n",
            "[['La dinastía mogol se estableció en 1526.'], '1526', '179cfa1786b78adce6971d822061bfd7317d5fe0']\n",
            "[['El idioma número uno en términos de números de usuarios de Wikipedia es inglés.'], 'inglés', '370921c39d6ecf8b3dd662739e17d3646d89a36a']\n",
            "[['Anaximandro teorizó sobre la cosmología en la que la Tierra tenía forma de un pilar.'], 'Anaximandro', 'fe8e18a717d84104dce27dba6485db4bdd9e6f36']\n",
            "[['El álbum de estudio de Britney Spears que lanzó después del segundo se llamó Britney.'], 'Britney', 'fb612186581e69a1cecafc6c10ab5ea282609597']\n",
            "[['Piaget en su reloj en 1979 presentó el estilo vanguardista.'], 'vanguardista', 'b9c4f95cef0499bbc560673068ad3dcc90655835']\n",
            "[['Se pasó a llamar Barclays en 1736.'], '1736', '0dba79afc1c60403b38c86282b1a02814b50625c']\n",
            "[['Las polillas y las moscas son ejemplos del clase de invertebrados.'], 'invertebrados', '4784eb3c2ee9613ac337238b41b680a6555a8b11']\n",
            "[['La nacionalidad de Friedrich Trendelenburg es alemán.'], 'alemán', '9ef619ff3f1ef099446093fa0790a549acd2b35a']\n"
          ],
          "name": "stdout"
        }
      ]
    },
    {
      "cell_type": "code",
      "metadata": {
        "id": "cXwkkMqKbwmX",
        "colab_type": "code",
        "colab": {}
      },
      "source": [
        "for i in triplets:\n",
        "  translated = model.generate(**tokenizer.prepare_translation_batch(i[0]))\n",
        "  tgt_text = [tokenizer.decode(t, skip_special_tokens=True) for t in translated]\n",
        "  i[0] = tgt_text\n",
        "\n",
        "data = pd.DataFrame(triplets)\n",
        "data.to_csv('translated_to_esp')"
      ],
      "execution_count": 117,
      "outputs": []
    },
    {
      "cell_type": "markdown",
      "metadata": {
        "id": "FDQi6XrnPFYZ",
        "colab_type": "text"
      },
      "source": [
        "После приведения к нужному формату считываем полученные таблицы"
      ]
    },
    {
      "cell_type": "code",
      "metadata": {
        "id": "eLaox8uK4VSd",
        "colab_type": "code",
        "colab": {}
      },
      "source": [
        "data_esp_ru = pd.read_csv('/content/translated_to_esp_edited.csv', skipinitialspace=True)\n",
        "data_esp_ru.drop(columns=\"Unnamed: 0\", axis=1, inplace=True)\n",
        "data_esp_ru.columns = ['masked_sentences', 'obj_label', 'id']\n",
        "data_esp_ru.drop_duplicates('id', inplace=True)"
      ],
      "execution_count": 201,
      "outputs": []
    },
    {
      "cell_type": "code",
      "metadata": {
        "id": "2TT8GpinCd-T",
        "colab_type": "code",
        "colab": {}
      },
      "source": [
        "Squad_esp_ru = []\n",
        "for index, data in data_esp_ru.iterrows():\n",
        "  obj = {'masked_sentences':[data['masked_sentences']], 'obj_label':data['obj_label'], 'id':data['id'], 'sub_label':\"Squad\"}\n",
        "  Squad_esp_ru.append(obj)"
      ],
      "execution_count": 205,
      "outputs": []
    },
    {
      "cell_type": "markdown",
      "metadata": {
        "id": "yVPCnwMzPO8b",
        "colab_type": "text"
      },
      "source": [
        "и теперь для русско-испанского варианта то же самое"
      ]
    },
    {
      "cell_type": "code",
      "metadata": {
        "id": "jJl9oZJC9xch",
        "colab_type": "code",
        "colab": {}
      },
      "source": [
        "data_ru_esp = pd.read_csv('/content/translated_to_rus_edited.csv', skipinitialspace=True)\n",
        "data_ru_esp.drop(columns=\"Unnamed: 0\", axis=1, inplace=True)\n",
        "data_ru_esp.columns = ['masked_sentences', 'obj_label', 'id']\n",
        "data_ru_esp.drop_duplicates(\"id\", inplace=True)"
      ],
      "execution_count": 203,
      "outputs": []
    },
    {
      "cell_type": "code",
      "metadata": {
        "id": "FAQlVDGT-QdX",
        "colab_type": "code",
        "colab": {}
      },
      "source": [
        "Squad_ru_esp = []\n",
        "for index, data in data_ru_esp.iterrows():\n",
        "  obj = {'masked_sentences':[data['masked_sentences']], 'obj_label':data['obj_label'], 'id':data['id'], 'sub_label':\"Squad\"}\n",
        "  Squad_ru_esp.append(obj)"
      ],
      "execution_count": 207,
      "outputs": []
    },
    {
      "cell_type": "markdown",
      "metadata": {
        "id": "DRDyJG69QJjt",
        "colab_type": "text"
      },
      "source": [
        "Последнее - пока надо соединить две части, в одно, чтобы получились одинаковые по содержанию датасеты на разных языках"
      ]
    },
    {
      "cell_type": "code",
      "metadata": {
        "id": "4OTJejphQWTk",
        "colab_type": "code",
        "colab": {}
      },
      "source": [
        "test_russian_full = rus+Squad_esp_ru\n",
        "test_espanol_full = Squad_ru_esp+esp"
      ],
      "execution_count": 235,
      "outputs": []
    },
    {
      "cell_type": "code",
      "metadata": {
        "id": "rjMui4EjRO-_",
        "colab_type": "code",
        "colab": {
          "base_uri": "https://localhost:8080/",
          "height": 153
        },
        "outputId": "2592e999-0a23-44fc-e6d9-5c87f04e951a"
      },
      "source": [
        "test_espanol_full[0], test_russian_full[0]"
      ],
      "execution_count": 246,
      "outputs": [
        {
          "output_type": "execute_result",
          "data": {
            "text/plain": [
              "({'id': 12786,\n",
              "  'masked_sentences': [\"['Byron tuvo [MASK] en Missolong.']\"],\n",
              "  'obj_label': 'fiebre',\n",
              "  'sub_label': 'Squad'},\n",
              " {'id': 12786,\n",
              "  'masked_sentences': ['Байрон заболел [MASK] в Миссолонги.'],\n",
              "  'obj_label': 'лихорадкой',\n",
              "  'sub_label': 'Squad'})"
            ]
          },
          "metadata": {
            "tags": []
          },
          "execution_count": 246
        }
      ]
    },
    {
      "cell_type": "code",
      "metadata": {
        "id": "aNSyPBqITAtB",
        "colab_type": "code",
        "colab": {
          "base_uri": "https://localhost:8080/",
          "height": 173
        },
        "outputId": "8ffdca29-cb8d-4389-f9d1-8696c9900c3f"
      },
      "source": [
        "test_espanol_full[60], test_russian_full[60]"
      ],
      "execution_count": 250,
      "outputs": [
        {
          "output_type": "execute_result",
          "data": {
            "text/plain": [
              "({'id': 46253,\n",
              "  'masked_sentences': [\"['La definición clásica de probabilidad puede resumirse en caso de que haya un número [MASK] de valores posibles.']\"],\n",
              "  'obj_label': 'infinito',\n",
              "  'sub_label': 'Squad'},\n",
              " {'id': 46253,\n",
              "  'masked_sentences': ['Классическое определение вероятности можно обобщить на случай [MASK] количества возможных значений.'],\n",
              "  'obj_label': 'бесконечного',\n",
              "  'sub_label': 'Squad'})"
            ]
          },
          "metadata": {
            "tags": []
          },
          "execution_count": 250
        }
      ]
    },
    {
      "cell_type": "code",
      "metadata": {
        "id": "SCswQ-PsRUIh",
        "colab_type": "code",
        "colab": {}
      },
      "source": [
        "with jsonlines.open('test_espanol_full.jsonl', mode='w') as writer:\n",
        "    writer.write_all(test_espanol_full)\n",
        "\n",
        "with jsonlines.open('test_russian_full.jsonl', mode='w') as writer:\n",
        "    writer.write_all(test_russian_full)"
      ],
      "execution_count": 247,
      "outputs": []
    }
  ]
}